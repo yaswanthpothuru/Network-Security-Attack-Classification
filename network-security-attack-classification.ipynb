{
 "cells": [
  {
   "cell_type": "markdown",
   "id": "06fa27c3",
   "metadata": {
    "papermill": {
     "duration": 0.015795,
     "end_time": "2022-09-18T18:23:08.616570",
     "exception": false,
     "start_time": "2022-09-18T18:23:08.600775",
     "status": "completed"
    },
    "tags": []
   },
   "source": [
    "## Network Security Data Preprocessing + Classification"
   ]
  },
  {
   "cell_type": "markdown",
   "id": "55b7c4a4",
   "metadata": {
    "papermill": {
     "duration": 0.01217,
     "end_time": "2022-09-18T18:23:08.641095",
     "exception": false,
     "start_time": "2022-09-18T18:23:08.628925",
     "status": "completed"
    },
    "tags": []
   },
   "source": [
    "### Intro\n",
    "With the dramatic growth of computer networks usage and the huge increase in the number of applications running on top of it, network security is becoming increasingly while the all the systems suffers from security vulnerabilities, which could increase the attacks that could negatively affects the economy.<br><br>\n",
    "Therefore detecting vulnerabilities in the system in the network has been more important and need to be done as accurate as possible in real time.\n",
    "\n",
    "### Task \n",
    "A model will be created and trained using SVM classifier to distengush if there is an attack or not in the network packet.\n",
    "\n",
    "### Instructions \n",
    "Intrusion Detection system will be created and designed using Support Vector Machine (SVM) algorithm:\n",
    "- Being able to classify the if the packets is attack or normal\n",
    "- Apply all the kernels that has been mentioned in the lecture ( Gassuian, RBF, Linear, polynomial) and compare the results\n",
    "- Apply Grid-search VS Random techniques to select the parameters and compare the two results\n",
    "\n",
    " "
   ]
  },
  {
   "cell_type": "markdown",
   "id": "630a3914",
   "metadata": {
    "papermill": {
     "duration": 0.012216,
     "end_time": "2022-09-18T18:23:08.665490",
     "exception": false,
     "start_time": "2022-09-18T18:23:08.653274",
     "status": "completed"
    },
    "tags": []
   },
   "source": [
    "----------\n",
    "## Importing Libraries"
   ]
  },
  {
   "cell_type": "code",
   "execution_count": 1,
   "id": "0a2e2eaf",
   "metadata": {
    "execution": {
     "iopub.execute_input": "2022-09-18T18:23:08.692346Z",
     "iopub.status.busy": "2022-09-18T18:23:08.691651Z",
     "iopub.status.idle": "2022-09-18T18:23:10.409631Z",
     "shell.execute_reply": "2022-09-18T18:23:10.408648Z"
    },
    "papermill": {
     "duration": 1.733916,
     "end_time": "2022-09-18T18:23:10.412137",
     "exception": false,
     "start_time": "2022-09-18T18:23:08.678221",
     "status": "completed"
    },
    "tags": []
   },
   "outputs": [],
   "source": [
    "import numpy as np\n",
    "import pandas as pd\n",
    "import matplotlib.pyplot as plt\n",
    "import seaborn as sns\n",
    "import warnings\n",
    "import statsmodels.api as sm\n",
    "from sklearn.preprocessing import LabelEncoder\n",
    "from sklearn.preprocessing import RobustScaler\n",
    "from sklearn.model_selection import train_test_split,GridSearchCV\n",
    "from sklearn.decomposition import PCA\n",
    "from sklearn.linear_model import LogisticRegression\n",
    "from sklearn.neighbors import KNeighborsClassifier\n",
    "from sklearn.tree  import DecisionTreeClassifier\n",
    "from sklearn.ensemble import RandomForestClassifier\n",
    "from sklearn import tree\n",
    "from sklearn import svm\n",
    "from sklearn.svm import SVC\n",
    "from sklearn.naive_bayes import GaussianNB\n",
    "from sklearn import metrics\n",
    "from sklearn.metrics import confusion_matrix\n",
    "from sklearn.metrics import plot_roc_curve\n",
    "from sklearn.model_selection import GridSearchCV\n",
    "from mlxtend.plotting import plot_confusion_matrix\n",
    "\n",
    "# Turn off the warnings.\n",
    "warnings.filterwarnings(action='ignore')\n",
    "%matplotlib inline"
   ]
  },
  {
   "cell_type": "markdown",
   "id": "6d95c434",
   "metadata": {
    "papermill": {
     "duration": 0.012241,
     "end_time": "2022-09-18T18:23:10.438006",
     "exception": false,
     "start_time": "2022-09-18T18:23:10.425765",
     "status": "completed"
    },
    "tags": []
   },
   "source": [
    "------\n",
    "## Reading Data"
   ]
  },
  {
   "cell_type": "code",
   "execution_count": 2,
   "id": "3a3a4aa4",
   "metadata": {
    "execution": {
     "iopub.execute_input": "2022-09-18T18:23:10.464440Z",
     "iopub.status.busy": "2022-09-18T18:23:10.464111Z",
     "iopub.status.idle": "2022-09-18T18:23:11.247360Z",
     "shell.execute_reply": "2022-09-18T18:23:11.246410Z"
    },
    "papermill": {
     "duration": 0.799437,
     "end_time": "2022-09-18T18:23:11.249967",
     "exception": false,
     "start_time": "2022-09-18T18:23:10.450530",
     "status": "completed"
    },
    "tags": []
   },
   "outputs": [],
   "source": [
    "Trained_Data = pd.read_csv(\"../input/nslkdd/KDDTrain+.txt\" , sep = \",\" , encoding = 'utf-8')\n",
    "Tested_Data  = pd.read_csv(\"../input/nslkdd/KDDTest+.txt\" , sep = \",\" , encoding = 'utf-8')"
   ]
  },
  {
   "cell_type": "markdown",
   "id": "bee15bf3",
   "metadata": {
    "papermill": {
     "duration": 0.012239,
     "end_time": "2022-09-18T18:23:11.275012",
     "exception": false,
     "start_time": "2022-09-18T18:23:11.262773",
     "status": "completed"
    },
    "tags": []
   },
   "source": [
    "---------\n",
    "## Exploring Data"
   ]
  },
  {
   "cell_type": "code",
   "execution_count": 3,
   "id": "0d62a0bb",
   "metadata": {
    "execution": {
     "iopub.execute_input": "2022-09-18T18:23:11.301511Z",
     "iopub.status.busy": "2022-09-18T18:23:11.301193Z",
     "iopub.status.idle": "2022-09-18T18:23:11.367647Z",
     "shell.execute_reply": "2022-09-18T18:23:11.366427Z"
    },
    "papermill": {
     "duration": 0.082448,
     "end_time": "2022-09-18T18:23:11.369875",
     "exception": false,
     "start_time": "2022-09-18T18:23:11.287427",
     "status": "completed"
    },
    "tags": []
   },
   "outputs": [
    {
     "data": {
      "text/html": [
       "<div>\n",
       "<style scoped>\n",
       "    .dataframe tbody tr th:only-of-type {\n",
       "        vertical-align: middle;\n",
       "    }\n",
       "\n",
       "    .dataframe tbody tr th {\n",
       "        vertical-align: top;\n",
       "    }\n",
       "\n",
       "    .dataframe thead th {\n",
       "        text-align: right;\n",
       "    }\n",
       "</style>\n",
       "<table border=\"1\" class=\"dataframe\">\n",
       "  <thead>\n",
       "    <tr style=\"text-align: right;\">\n",
       "      <th></th>\n",
       "      <th>0</th>\n",
       "      <th>tcp</th>\n",
       "      <th>ftp_data</th>\n",
       "      <th>SF</th>\n",
       "      <th>491</th>\n",
       "      <th>0.1</th>\n",
       "      <th>0.2</th>\n",
       "      <th>0.3</th>\n",
       "      <th>0.4</th>\n",
       "      <th>0.5</th>\n",
       "      <th>...</th>\n",
       "      <th>0.17.1</th>\n",
       "      <th>0.03</th>\n",
       "      <th>0.17.2</th>\n",
       "      <th>0.00.6</th>\n",
       "      <th>0.00.7</th>\n",
       "      <th>0.00.8</th>\n",
       "      <th>0.05</th>\n",
       "      <th>0.00.9</th>\n",
       "      <th>normal</th>\n",
       "      <th>20</th>\n",
       "    </tr>\n",
       "  </thead>\n",
       "  <tbody>\n",
       "    <tr>\n",
       "      <th>0</th>\n",
       "      <td>0</td>\n",
       "      <td>udp</td>\n",
       "      <td>other</td>\n",
       "      <td>SF</td>\n",
       "      <td>146</td>\n",
       "      <td>0</td>\n",
       "      <td>0</td>\n",
       "      <td>0</td>\n",
       "      <td>0</td>\n",
       "      <td>0</td>\n",
       "      <td>...</td>\n",
       "      <td>0.00</td>\n",
       "      <td>0.60</td>\n",
       "      <td>0.88</td>\n",
       "      <td>0.00</td>\n",
       "      <td>0.00</td>\n",
       "      <td>0.00</td>\n",
       "      <td>0.00</td>\n",
       "      <td>0.00</td>\n",
       "      <td>normal</td>\n",
       "      <td>15</td>\n",
       "    </tr>\n",
       "    <tr>\n",
       "      <th>1</th>\n",
       "      <td>0</td>\n",
       "      <td>tcp</td>\n",
       "      <td>private</td>\n",
       "      <td>S0</td>\n",
       "      <td>0</td>\n",
       "      <td>0</td>\n",
       "      <td>0</td>\n",
       "      <td>0</td>\n",
       "      <td>0</td>\n",
       "      <td>0</td>\n",
       "      <td>...</td>\n",
       "      <td>0.10</td>\n",
       "      <td>0.05</td>\n",
       "      <td>0.00</td>\n",
       "      <td>0.00</td>\n",
       "      <td>1.00</td>\n",
       "      <td>1.00</td>\n",
       "      <td>0.00</td>\n",
       "      <td>0.00</td>\n",
       "      <td>neptune</td>\n",
       "      <td>19</td>\n",
       "    </tr>\n",
       "    <tr>\n",
       "      <th>2</th>\n",
       "      <td>0</td>\n",
       "      <td>tcp</td>\n",
       "      <td>http</td>\n",
       "      <td>SF</td>\n",
       "      <td>232</td>\n",
       "      <td>8153</td>\n",
       "      <td>0</td>\n",
       "      <td>0</td>\n",
       "      <td>0</td>\n",
       "      <td>0</td>\n",
       "      <td>...</td>\n",
       "      <td>1.00</td>\n",
       "      <td>0.00</td>\n",
       "      <td>0.03</td>\n",
       "      <td>0.04</td>\n",
       "      <td>0.03</td>\n",
       "      <td>0.01</td>\n",
       "      <td>0.00</td>\n",
       "      <td>0.01</td>\n",
       "      <td>normal</td>\n",
       "      <td>21</td>\n",
       "    </tr>\n",
       "    <tr>\n",
       "      <th>3</th>\n",
       "      <td>0</td>\n",
       "      <td>tcp</td>\n",
       "      <td>http</td>\n",
       "      <td>SF</td>\n",
       "      <td>199</td>\n",
       "      <td>420</td>\n",
       "      <td>0</td>\n",
       "      <td>0</td>\n",
       "      <td>0</td>\n",
       "      <td>0</td>\n",
       "      <td>...</td>\n",
       "      <td>1.00</td>\n",
       "      <td>0.00</td>\n",
       "      <td>0.00</td>\n",
       "      <td>0.00</td>\n",
       "      <td>0.00</td>\n",
       "      <td>0.00</td>\n",
       "      <td>0.00</td>\n",
       "      <td>0.00</td>\n",
       "      <td>normal</td>\n",
       "      <td>21</td>\n",
       "    </tr>\n",
       "    <tr>\n",
       "      <th>4</th>\n",
       "      <td>0</td>\n",
       "      <td>tcp</td>\n",
       "      <td>private</td>\n",
       "      <td>REJ</td>\n",
       "      <td>0</td>\n",
       "      <td>0</td>\n",
       "      <td>0</td>\n",
       "      <td>0</td>\n",
       "      <td>0</td>\n",
       "      <td>0</td>\n",
       "      <td>...</td>\n",
       "      <td>0.07</td>\n",
       "      <td>0.07</td>\n",
       "      <td>0.00</td>\n",
       "      <td>0.00</td>\n",
       "      <td>0.00</td>\n",
       "      <td>0.00</td>\n",
       "      <td>1.00</td>\n",
       "      <td>1.00</td>\n",
       "      <td>neptune</td>\n",
       "      <td>21</td>\n",
       "    </tr>\n",
       "    <tr>\n",
       "      <th>...</th>\n",
       "      <td>...</td>\n",
       "      <td>...</td>\n",
       "      <td>...</td>\n",
       "      <td>...</td>\n",
       "      <td>...</td>\n",
       "      <td>...</td>\n",
       "      <td>...</td>\n",
       "      <td>...</td>\n",
       "      <td>...</td>\n",
       "      <td>...</td>\n",
       "      <td>...</td>\n",
       "      <td>...</td>\n",
       "      <td>...</td>\n",
       "      <td>...</td>\n",
       "      <td>...</td>\n",
       "      <td>...</td>\n",
       "      <td>...</td>\n",
       "      <td>...</td>\n",
       "      <td>...</td>\n",
       "      <td>...</td>\n",
       "      <td>...</td>\n",
       "    </tr>\n",
       "    <tr>\n",
       "      <th>125967</th>\n",
       "      <td>0</td>\n",
       "      <td>tcp</td>\n",
       "      <td>private</td>\n",
       "      <td>S0</td>\n",
       "      <td>0</td>\n",
       "      <td>0</td>\n",
       "      <td>0</td>\n",
       "      <td>0</td>\n",
       "      <td>0</td>\n",
       "      <td>0</td>\n",
       "      <td>...</td>\n",
       "      <td>0.10</td>\n",
       "      <td>0.06</td>\n",
       "      <td>0.00</td>\n",
       "      <td>0.00</td>\n",
       "      <td>1.00</td>\n",
       "      <td>1.00</td>\n",
       "      <td>0.00</td>\n",
       "      <td>0.00</td>\n",
       "      <td>neptune</td>\n",
       "      <td>20</td>\n",
       "    </tr>\n",
       "    <tr>\n",
       "      <th>125968</th>\n",
       "      <td>8</td>\n",
       "      <td>udp</td>\n",
       "      <td>private</td>\n",
       "      <td>SF</td>\n",
       "      <td>105</td>\n",
       "      <td>145</td>\n",
       "      <td>0</td>\n",
       "      <td>0</td>\n",
       "      <td>0</td>\n",
       "      <td>0</td>\n",
       "      <td>...</td>\n",
       "      <td>0.96</td>\n",
       "      <td>0.01</td>\n",
       "      <td>0.01</td>\n",
       "      <td>0.00</td>\n",
       "      <td>0.00</td>\n",
       "      <td>0.00</td>\n",
       "      <td>0.00</td>\n",
       "      <td>0.00</td>\n",
       "      <td>normal</td>\n",
       "      <td>21</td>\n",
       "    </tr>\n",
       "    <tr>\n",
       "      <th>125969</th>\n",
       "      <td>0</td>\n",
       "      <td>tcp</td>\n",
       "      <td>smtp</td>\n",
       "      <td>SF</td>\n",
       "      <td>2231</td>\n",
       "      <td>384</td>\n",
       "      <td>0</td>\n",
       "      <td>0</td>\n",
       "      <td>0</td>\n",
       "      <td>0</td>\n",
       "      <td>...</td>\n",
       "      <td>0.12</td>\n",
       "      <td>0.06</td>\n",
       "      <td>0.00</td>\n",
       "      <td>0.00</td>\n",
       "      <td>0.72</td>\n",
       "      <td>0.00</td>\n",
       "      <td>0.01</td>\n",
       "      <td>0.00</td>\n",
       "      <td>normal</td>\n",
       "      <td>18</td>\n",
       "    </tr>\n",
       "    <tr>\n",
       "      <th>125970</th>\n",
       "      <td>0</td>\n",
       "      <td>tcp</td>\n",
       "      <td>klogin</td>\n",
       "      <td>S0</td>\n",
       "      <td>0</td>\n",
       "      <td>0</td>\n",
       "      <td>0</td>\n",
       "      <td>0</td>\n",
       "      <td>0</td>\n",
       "      <td>0</td>\n",
       "      <td>...</td>\n",
       "      <td>0.03</td>\n",
       "      <td>0.05</td>\n",
       "      <td>0.00</td>\n",
       "      <td>0.00</td>\n",
       "      <td>1.00</td>\n",
       "      <td>1.00</td>\n",
       "      <td>0.00</td>\n",
       "      <td>0.00</td>\n",
       "      <td>neptune</td>\n",
       "      <td>20</td>\n",
       "    </tr>\n",
       "    <tr>\n",
       "      <th>125971</th>\n",
       "      <td>0</td>\n",
       "      <td>tcp</td>\n",
       "      <td>ftp_data</td>\n",
       "      <td>SF</td>\n",
       "      <td>151</td>\n",
       "      <td>0</td>\n",
       "      <td>0</td>\n",
       "      <td>0</td>\n",
       "      <td>0</td>\n",
       "      <td>0</td>\n",
       "      <td>...</td>\n",
       "      <td>0.30</td>\n",
       "      <td>0.03</td>\n",
       "      <td>0.30</td>\n",
       "      <td>0.00</td>\n",
       "      <td>0.00</td>\n",
       "      <td>0.00</td>\n",
       "      <td>0.00</td>\n",
       "      <td>0.00</td>\n",
       "      <td>normal</td>\n",
       "      <td>21</td>\n",
       "    </tr>\n",
       "  </tbody>\n",
       "</table>\n",
       "<p>125972 rows × 43 columns</p>\n",
       "</div>"
      ],
      "text/plain": [
       "        0  tcp  ftp_data   SF   491   0.1  0.2  0.3  0.4  0.5  ...  0.17.1  \\\n",
       "0       0  udp     other   SF   146     0    0    0    0    0  ...    0.00   \n",
       "1       0  tcp   private   S0     0     0    0    0    0    0  ...    0.10   \n",
       "2       0  tcp      http   SF   232  8153    0    0    0    0  ...    1.00   \n",
       "3       0  tcp      http   SF   199   420    0    0    0    0  ...    1.00   \n",
       "4       0  tcp   private  REJ     0     0    0    0    0    0  ...    0.07   \n",
       "...    ..  ...       ...  ...   ...   ...  ...  ...  ...  ...  ...     ...   \n",
       "125967  0  tcp   private   S0     0     0    0    0    0    0  ...    0.10   \n",
       "125968  8  udp   private   SF   105   145    0    0    0    0  ...    0.96   \n",
       "125969  0  tcp      smtp   SF  2231   384    0    0    0    0  ...    0.12   \n",
       "125970  0  tcp    klogin   S0     0     0    0    0    0    0  ...    0.03   \n",
       "125971  0  tcp  ftp_data   SF   151     0    0    0    0    0  ...    0.30   \n",
       "\n",
       "        0.03  0.17.2  0.00.6  0.00.7  0.00.8  0.05  0.00.9   normal  20  \n",
       "0       0.60    0.88    0.00    0.00    0.00  0.00    0.00   normal  15  \n",
       "1       0.05    0.00    0.00    1.00    1.00  0.00    0.00  neptune  19  \n",
       "2       0.00    0.03    0.04    0.03    0.01  0.00    0.01   normal  21  \n",
       "3       0.00    0.00    0.00    0.00    0.00  0.00    0.00   normal  21  \n",
       "4       0.07    0.00    0.00    0.00    0.00  1.00    1.00  neptune  21  \n",
       "...      ...     ...     ...     ...     ...   ...     ...      ...  ..  \n",
       "125967  0.06    0.00    0.00    1.00    1.00  0.00    0.00  neptune  20  \n",
       "125968  0.01    0.01    0.00    0.00    0.00  0.00    0.00   normal  21  \n",
       "125969  0.06    0.00    0.00    0.72    0.00  0.01    0.00   normal  18  \n",
       "125970  0.05    0.00    0.00    1.00    1.00  0.00    0.00  neptune  20  \n",
       "125971  0.03    0.30    0.00    0.00    0.00  0.00    0.00   normal  21  \n",
       "\n",
       "[125972 rows x 43 columns]"
      ]
     },
     "execution_count": 3,
     "metadata": {},
     "output_type": "execute_result"
    }
   ],
   "source": [
    "Trained_Data"
   ]
  },
  {
   "cell_type": "code",
   "execution_count": 4,
   "id": "2bb57c7a",
   "metadata": {
    "execution": {
     "iopub.execute_input": "2022-09-18T18:23:11.398126Z",
     "iopub.status.busy": "2022-09-18T18:23:11.397580Z",
     "iopub.status.idle": "2022-09-18T18:23:11.427586Z",
     "shell.execute_reply": "2022-09-18T18:23:11.426429Z"
    },
    "papermill": {
     "duration": 0.046067,
     "end_time": "2022-09-18T18:23:11.429485",
     "exception": false,
     "start_time": "2022-09-18T18:23:11.383418",
     "status": "completed"
    },
    "tags": []
   },
   "outputs": [
    {
     "data": {
      "text/html": [
       "<div>\n",
       "<style scoped>\n",
       "    .dataframe tbody tr th:only-of-type {\n",
       "        vertical-align: middle;\n",
       "    }\n",
       "\n",
       "    .dataframe tbody tr th {\n",
       "        vertical-align: top;\n",
       "    }\n",
       "\n",
       "    .dataframe thead th {\n",
       "        text-align: right;\n",
       "    }\n",
       "</style>\n",
       "<table border=\"1\" class=\"dataframe\">\n",
       "  <thead>\n",
       "    <tr style=\"text-align: right;\">\n",
       "      <th></th>\n",
       "      <th>0</th>\n",
       "      <th>tcp</th>\n",
       "      <th>private</th>\n",
       "      <th>REJ</th>\n",
       "      <th>0.1</th>\n",
       "      <th>0.2</th>\n",
       "      <th>0.3</th>\n",
       "      <th>0.4</th>\n",
       "      <th>0.5</th>\n",
       "      <th>0.6</th>\n",
       "      <th>...</th>\n",
       "      <th>0.04.1</th>\n",
       "      <th>0.06.1</th>\n",
       "      <th>0.00.3</th>\n",
       "      <th>0.00.4</th>\n",
       "      <th>0.00.5</th>\n",
       "      <th>0.00.6</th>\n",
       "      <th>1.00.2</th>\n",
       "      <th>1.00.3</th>\n",
       "      <th>neptune</th>\n",
       "      <th>21</th>\n",
       "    </tr>\n",
       "  </thead>\n",
       "  <tbody>\n",
       "    <tr>\n",
       "      <th>0</th>\n",
       "      <td>0</td>\n",
       "      <td>tcp</td>\n",
       "      <td>private</td>\n",
       "      <td>REJ</td>\n",
       "      <td>0</td>\n",
       "      <td>0</td>\n",
       "      <td>0</td>\n",
       "      <td>0</td>\n",
       "      <td>0</td>\n",
       "      <td>0</td>\n",
       "      <td>...</td>\n",
       "      <td>0.00</td>\n",
       "      <td>0.06</td>\n",
       "      <td>0.00</td>\n",
       "      <td>0.00</td>\n",
       "      <td>0.00</td>\n",
       "      <td>0.0</td>\n",
       "      <td>1.00</td>\n",
       "      <td>1.00</td>\n",
       "      <td>neptune</td>\n",
       "      <td>21</td>\n",
       "    </tr>\n",
       "    <tr>\n",
       "      <th>1</th>\n",
       "      <td>2</td>\n",
       "      <td>tcp</td>\n",
       "      <td>ftp_data</td>\n",
       "      <td>SF</td>\n",
       "      <td>12983</td>\n",
       "      <td>0</td>\n",
       "      <td>0</td>\n",
       "      <td>0</td>\n",
       "      <td>0</td>\n",
       "      <td>0</td>\n",
       "      <td>...</td>\n",
       "      <td>0.61</td>\n",
       "      <td>0.04</td>\n",
       "      <td>0.61</td>\n",
       "      <td>0.02</td>\n",
       "      <td>0.00</td>\n",
       "      <td>0.0</td>\n",
       "      <td>0.00</td>\n",
       "      <td>0.00</td>\n",
       "      <td>normal</td>\n",
       "      <td>21</td>\n",
       "    </tr>\n",
       "    <tr>\n",
       "      <th>2</th>\n",
       "      <td>0</td>\n",
       "      <td>icmp</td>\n",
       "      <td>eco_i</td>\n",
       "      <td>SF</td>\n",
       "      <td>20</td>\n",
       "      <td>0</td>\n",
       "      <td>0</td>\n",
       "      <td>0</td>\n",
       "      <td>0</td>\n",
       "      <td>0</td>\n",
       "      <td>...</td>\n",
       "      <td>1.00</td>\n",
       "      <td>0.00</td>\n",
       "      <td>1.00</td>\n",
       "      <td>0.28</td>\n",
       "      <td>0.00</td>\n",
       "      <td>0.0</td>\n",
       "      <td>0.00</td>\n",
       "      <td>0.00</td>\n",
       "      <td>saint</td>\n",
       "      <td>15</td>\n",
       "    </tr>\n",
       "    <tr>\n",
       "      <th>3</th>\n",
       "      <td>1</td>\n",
       "      <td>tcp</td>\n",
       "      <td>telnet</td>\n",
       "      <td>RSTO</td>\n",
       "      <td>0</td>\n",
       "      <td>15</td>\n",
       "      <td>0</td>\n",
       "      <td>0</td>\n",
       "      <td>0</td>\n",
       "      <td>0</td>\n",
       "      <td>...</td>\n",
       "      <td>0.31</td>\n",
       "      <td>0.17</td>\n",
       "      <td>0.03</td>\n",
       "      <td>0.02</td>\n",
       "      <td>0.00</td>\n",
       "      <td>0.0</td>\n",
       "      <td>0.83</td>\n",
       "      <td>0.71</td>\n",
       "      <td>mscan</td>\n",
       "      <td>11</td>\n",
       "    </tr>\n",
       "    <tr>\n",
       "      <th>4</th>\n",
       "      <td>0</td>\n",
       "      <td>tcp</td>\n",
       "      <td>http</td>\n",
       "      <td>SF</td>\n",
       "      <td>267</td>\n",
       "      <td>14515</td>\n",
       "      <td>0</td>\n",
       "      <td>0</td>\n",
       "      <td>0</td>\n",
       "      <td>0</td>\n",
       "      <td>...</td>\n",
       "      <td>1.00</td>\n",
       "      <td>0.00</td>\n",
       "      <td>0.01</td>\n",
       "      <td>0.03</td>\n",
       "      <td>0.01</td>\n",
       "      <td>0.0</td>\n",
       "      <td>0.00</td>\n",
       "      <td>0.00</td>\n",
       "      <td>normal</td>\n",
       "      <td>21</td>\n",
       "    </tr>\n",
       "    <tr>\n",
       "      <th>...</th>\n",
       "      <td>...</td>\n",
       "      <td>...</td>\n",
       "      <td>...</td>\n",
       "      <td>...</td>\n",
       "      <td>...</td>\n",
       "      <td>...</td>\n",
       "      <td>...</td>\n",
       "      <td>...</td>\n",
       "      <td>...</td>\n",
       "      <td>...</td>\n",
       "      <td>...</td>\n",
       "      <td>...</td>\n",
       "      <td>...</td>\n",
       "      <td>...</td>\n",
       "      <td>...</td>\n",
       "      <td>...</td>\n",
       "      <td>...</td>\n",
       "      <td>...</td>\n",
       "      <td>...</td>\n",
       "      <td>...</td>\n",
       "      <td>...</td>\n",
       "    </tr>\n",
       "    <tr>\n",
       "      <th>22538</th>\n",
       "      <td>0</td>\n",
       "      <td>tcp</td>\n",
       "      <td>smtp</td>\n",
       "      <td>SF</td>\n",
       "      <td>794</td>\n",
       "      <td>333</td>\n",
       "      <td>0</td>\n",
       "      <td>0</td>\n",
       "      <td>0</td>\n",
       "      <td>0</td>\n",
       "      <td>...</td>\n",
       "      <td>0.72</td>\n",
       "      <td>0.06</td>\n",
       "      <td>0.01</td>\n",
       "      <td>0.01</td>\n",
       "      <td>0.01</td>\n",
       "      <td>0.0</td>\n",
       "      <td>0.00</td>\n",
       "      <td>0.00</td>\n",
       "      <td>normal</td>\n",
       "      <td>21</td>\n",
       "    </tr>\n",
       "    <tr>\n",
       "      <th>22539</th>\n",
       "      <td>0</td>\n",
       "      <td>tcp</td>\n",
       "      <td>http</td>\n",
       "      <td>SF</td>\n",
       "      <td>317</td>\n",
       "      <td>938</td>\n",
       "      <td>0</td>\n",
       "      <td>0</td>\n",
       "      <td>0</td>\n",
       "      <td>0</td>\n",
       "      <td>...</td>\n",
       "      <td>1.00</td>\n",
       "      <td>0.00</td>\n",
       "      <td>0.01</td>\n",
       "      <td>0.01</td>\n",
       "      <td>0.01</td>\n",
       "      <td>0.0</td>\n",
       "      <td>0.00</td>\n",
       "      <td>0.00</td>\n",
       "      <td>normal</td>\n",
       "      <td>21</td>\n",
       "    </tr>\n",
       "    <tr>\n",
       "      <th>22540</th>\n",
       "      <td>0</td>\n",
       "      <td>tcp</td>\n",
       "      <td>http</td>\n",
       "      <td>SF</td>\n",
       "      <td>54540</td>\n",
       "      <td>8314</td>\n",
       "      <td>0</td>\n",
       "      <td>0</td>\n",
       "      <td>0</td>\n",
       "      <td>2</td>\n",
       "      <td>...</td>\n",
       "      <td>1.00</td>\n",
       "      <td>0.00</td>\n",
       "      <td>0.00</td>\n",
       "      <td>0.00</td>\n",
       "      <td>0.00</td>\n",
       "      <td>0.0</td>\n",
       "      <td>0.07</td>\n",
       "      <td>0.07</td>\n",
       "      <td>back</td>\n",
       "      <td>15</td>\n",
       "    </tr>\n",
       "    <tr>\n",
       "      <th>22541</th>\n",
       "      <td>0</td>\n",
       "      <td>udp</td>\n",
       "      <td>domain_u</td>\n",
       "      <td>SF</td>\n",
       "      <td>42</td>\n",
       "      <td>42</td>\n",
       "      <td>0</td>\n",
       "      <td>0</td>\n",
       "      <td>0</td>\n",
       "      <td>0</td>\n",
       "      <td>...</td>\n",
       "      <td>0.99</td>\n",
       "      <td>0.01</td>\n",
       "      <td>0.00</td>\n",
       "      <td>0.00</td>\n",
       "      <td>0.00</td>\n",
       "      <td>0.0</td>\n",
       "      <td>0.00</td>\n",
       "      <td>0.00</td>\n",
       "      <td>normal</td>\n",
       "      <td>21</td>\n",
       "    </tr>\n",
       "    <tr>\n",
       "      <th>22542</th>\n",
       "      <td>0</td>\n",
       "      <td>tcp</td>\n",
       "      <td>sunrpc</td>\n",
       "      <td>REJ</td>\n",
       "      <td>0</td>\n",
       "      <td>0</td>\n",
       "      <td>0</td>\n",
       "      <td>0</td>\n",
       "      <td>0</td>\n",
       "      <td>0</td>\n",
       "      <td>...</td>\n",
       "      <td>0.08</td>\n",
       "      <td>0.03</td>\n",
       "      <td>0.00</td>\n",
       "      <td>0.00</td>\n",
       "      <td>0.00</td>\n",
       "      <td>0.0</td>\n",
       "      <td>0.44</td>\n",
       "      <td>1.00</td>\n",
       "      <td>mscan</td>\n",
       "      <td>14</td>\n",
       "    </tr>\n",
       "  </tbody>\n",
       "</table>\n",
       "<p>22543 rows × 43 columns</p>\n",
       "</div>"
      ],
      "text/plain": [
       "       0   tcp   private   REJ    0.1    0.2  0.3  0.4  0.5  0.6  ...  0.04.1  \\\n",
       "0      0   tcp   private   REJ      0      0    0    0    0    0  ...    0.00   \n",
       "1      2   tcp  ftp_data    SF  12983      0    0    0    0    0  ...    0.61   \n",
       "2      0  icmp     eco_i    SF     20      0    0    0    0    0  ...    1.00   \n",
       "3      1   tcp    telnet  RSTO      0     15    0    0    0    0  ...    0.31   \n",
       "4      0   tcp      http    SF    267  14515    0    0    0    0  ...    1.00   \n",
       "...   ..   ...       ...   ...    ...    ...  ...  ...  ...  ...  ...     ...   \n",
       "22538  0   tcp      smtp    SF    794    333    0    0    0    0  ...    0.72   \n",
       "22539  0   tcp      http    SF    317    938    0    0    0    0  ...    1.00   \n",
       "22540  0   tcp      http    SF  54540   8314    0    0    0    2  ...    1.00   \n",
       "22541  0   udp  domain_u    SF     42     42    0    0    0    0  ...    0.99   \n",
       "22542  0   tcp    sunrpc   REJ      0      0    0    0    0    0  ...    0.08   \n",
       "\n",
       "       0.06.1  0.00.3  0.00.4  0.00.5  0.00.6  1.00.2  1.00.3  neptune  21  \n",
       "0        0.06    0.00    0.00    0.00     0.0    1.00    1.00  neptune  21  \n",
       "1        0.04    0.61    0.02    0.00     0.0    0.00    0.00   normal  21  \n",
       "2        0.00    1.00    0.28    0.00     0.0    0.00    0.00    saint  15  \n",
       "3        0.17    0.03    0.02    0.00     0.0    0.83    0.71    mscan  11  \n",
       "4        0.00    0.01    0.03    0.01     0.0    0.00    0.00   normal  21  \n",
       "...       ...     ...     ...     ...     ...     ...     ...      ...  ..  \n",
       "22538    0.06    0.01    0.01    0.01     0.0    0.00    0.00   normal  21  \n",
       "22539    0.00    0.01    0.01    0.01     0.0    0.00    0.00   normal  21  \n",
       "22540    0.00    0.00    0.00    0.00     0.0    0.07    0.07     back  15  \n",
       "22541    0.01    0.00    0.00    0.00     0.0    0.00    0.00   normal  21  \n",
       "22542    0.03    0.00    0.00    0.00     0.0    0.44    1.00    mscan  14  \n",
       "\n",
       "[22543 rows x 43 columns]"
      ]
     },
     "execution_count": 4,
     "metadata": {},
     "output_type": "execute_result"
    }
   ],
   "source": [
    "Tested_Data"
   ]
  },
  {
   "cell_type": "markdown",
   "id": "9736a655",
   "metadata": {
    "papermill": {
     "duration": 0.013034,
     "end_time": "2022-09-18T18:23:11.455817",
     "exception": false,
     "start_time": "2022-09-18T18:23:11.442783",
     "status": "completed"
    },
    "tags": []
   },
   "source": [
    "---------\n",
    "## Columns Modification"
   ]
  },
  {
   "cell_type": "code",
   "execution_count": 5,
   "id": "76173a66",
   "metadata": {
    "execution": {
     "iopub.execute_input": "2022-09-18T18:23:11.484419Z",
     "iopub.status.busy": "2022-09-18T18:23:11.484114Z",
     "iopub.status.idle": "2022-09-18T18:23:11.489587Z",
     "shell.execute_reply": "2022-09-18T18:23:11.488589Z"
    },
    "papermill": {
     "duration": 0.022898,
     "end_time": "2022-09-18T18:23:11.491952",
     "exception": false,
     "start_time": "2022-09-18T18:23:11.469054",
     "status": "completed"
    },
    "tags": []
   },
   "outputs": [],
   "source": [
    "Columns = (['duration','protocol_type','service','flag','src_bytes','dst_bytes','land','wrong_fragment','urgent','hot',\n",
    "            'num_failed_logins','logged_in','num_compromised','root_shell','su_attempted','num_root','num_file_creations',\n",
    "            'num_shells','num_access_files','num_outbound_cmds','is_host_login','is_guest_login','count','srv_count',\n",
    "            'serror_rate','srv_serror_rate','rerror_rate','srv_rerror_rate','same_srv_rate','diff_srv_rate','srv_diff_host_rate',\n",
    "            'dst_host_count','dst_host_srv_count','dst_host_same_srv_rate','dst_host_diff_srv_rate','dst_host_same_src_port_rate',\n",
    "            'dst_host_srv_diff_host_rate','dst_host_serror_rate','dst_host_srv_serror_rate','dst_host_rerror_rate',\n",
    "            'dst_host_srv_rerror_rate','attack','level'])"
   ]
  },
  {
   "cell_type": "code",
   "execution_count": 6,
   "id": "7d35b3b6",
   "metadata": {
    "execution": {
     "iopub.execute_input": "2022-09-18T18:23:11.520326Z",
     "iopub.status.busy": "2022-09-18T18:23:11.520065Z",
     "iopub.status.idle": "2022-09-18T18:23:11.525693Z",
     "shell.execute_reply": "2022-09-18T18:23:11.524711Z"
    },
    "papermill": {
     "duration": 0.021813,
     "end_time": "2022-09-18T18:23:11.527897",
     "exception": false,
     "start_time": "2022-09-18T18:23:11.506084",
     "status": "completed"
    },
    "tags": []
   },
   "outputs": [],
   "source": [
    "Trained_Data.columns = Columns\n",
    "Tested_Data.columns  = Columns"
   ]
  },
  {
   "cell_type": "code",
   "execution_count": 7,
   "id": "8550f5aa",
   "metadata": {
    "execution": {
     "iopub.execute_input": "2022-09-18T18:23:11.556167Z",
     "iopub.status.busy": "2022-09-18T18:23:11.555924Z",
     "iopub.status.idle": "2022-09-18T18:23:11.579405Z",
     "shell.execute_reply": "2022-09-18T18:23:11.578557Z"
    },
    "papermill": {
     "duration": 0.040304,
     "end_time": "2022-09-18T18:23:11.581438",
     "exception": false,
     "start_time": "2022-09-18T18:23:11.541134",
     "status": "completed"
    },
    "tags": []
   },
   "outputs": [
    {
     "data": {
      "text/html": [
       "<div>\n",
       "<style scoped>\n",
       "    .dataframe tbody tr th:only-of-type {\n",
       "        vertical-align: middle;\n",
       "    }\n",
       "\n",
       "    .dataframe tbody tr th {\n",
       "        vertical-align: top;\n",
       "    }\n",
       "\n",
       "    .dataframe thead th {\n",
       "        text-align: right;\n",
       "    }\n",
       "</style>\n",
       "<table border=\"1\" class=\"dataframe\">\n",
       "  <thead>\n",
       "    <tr style=\"text-align: right;\">\n",
       "      <th></th>\n",
       "      <th>duration</th>\n",
       "      <th>protocol_type</th>\n",
       "      <th>service</th>\n",
       "      <th>flag</th>\n",
       "      <th>src_bytes</th>\n",
       "      <th>dst_bytes</th>\n",
       "      <th>land</th>\n",
       "      <th>wrong_fragment</th>\n",
       "      <th>urgent</th>\n",
       "      <th>hot</th>\n",
       "      <th>...</th>\n",
       "      <th>dst_host_same_srv_rate</th>\n",
       "      <th>dst_host_diff_srv_rate</th>\n",
       "      <th>dst_host_same_src_port_rate</th>\n",
       "      <th>dst_host_srv_diff_host_rate</th>\n",
       "      <th>dst_host_serror_rate</th>\n",
       "      <th>dst_host_srv_serror_rate</th>\n",
       "      <th>dst_host_rerror_rate</th>\n",
       "      <th>dst_host_srv_rerror_rate</th>\n",
       "      <th>attack</th>\n",
       "      <th>level</th>\n",
       "    </tr>\n",
       "  </thead>\n",
       "  <tbody>\n",
       "    <tr>\n",
       "      <th>0</th>\n",
       "      <td>0</td>\n",
       "      <td>udp</td>\n",
       "      <td>other</td>\n",
       "      <td>SF</td>\n",
       "      <td>146</td>\n",
       "      <td>0</td>\n",
       "      <td>0</td>\n",
       "      <td>0</td>\n",
       "      <td>0</td>\n",
       "      <td>0</td>\n",
       "      <td>...</td>\n",
       "      <td>0.00</td>\n",
       "      <td>0.60</td>\n",
       "      <td>0.88</td>\n",
       "      <td>0.00</td>\n",
       "      <td>0.00</td>\n",
       "      <td>0.00</td>\n",
       "      <td>0.0</td>\n",
       "      <td>0.00</td>\n",
       "      <td>normal</td>\n",
       "      <td>15</td>\n",
       "    </tr>\n",
       "    <tr>\n",
       "      <th>1</th>\n",
       "      <td>0</td>\n",
       "      <td>tcp</td>\n",
       "      <td>private</td>\n",
       "      <td>S0</td>\n",
       "      <td>0</td>\n",
       "      <td>0</td>\n",
       "      <td>0</td>\n",
       "      <td>0</td>\n",
       "      <td>0</td>\n",
       "      <td>0</td>\n",
       "      <td>...</td>\n",
       "      <td>0.10</td>\n",
       "      <td>0.05</td>\n",
       "      <td>0.00</td>\n",
       "      <td>0.00</td>\n",
       "      <td>1.00</td>\n",
       "      <td>1.00</td>\n",
       "      <td>0.0</td>\n",
       "      <td>0.00</td>\n",
       "      <td>neptune</td>\n",
       "      <td>19</td>\n",
       "    </tr>\n",
       "    <tr>\n",
       "      <th>2</th>\n",
       "      <td>0</td>\n",
       "      <td>tcp</td>\n",
       "      <td>http</td>\n",
       "      <td>SF</td>\n",
       "      <td>232</td>\n",
       "      <td>8153</td>\n",
       "      <td>0</td>\n",
       "      <td>0</td>\n",
       "      <td>0</td>\n",
       "      <td>0</td>\n",
       "      <td>...</td>\n",
       "      <td>1.00</td>\n",
       "      <td>0.00</td>\n",
       "      <td>0.03</td>\n",
       "      <td>0.04</td>\n",
       "      <td>0.03</td>\n",
       "      <td>0.01</td>\n",
       "      <td>0.0</td>\n",
       "      <td>0.01</td>\n",
       "      <td>normal</td>\n",
       "      <td>21</td>\n",
       "    </tr>\n",
       "    <tr>\n",
       "      <th>3</th>\n",
       "      <td>0</td>\n",
       "      <td>tcp</td>\n",
       "      <td>http</td>\n",
       "      <td>SF</td>\n",
       "      <td>199</td>\n",
       "      <td>420</td>\n",
       "      <td>0</td>\n",
       "      <td>0</td>\n",
       "      <td>0</td>\n",
       "      <td>0</td>\n",
       "      <td>...</td>\n",
       "      <td>1.00</td>\n",
       "      <td>0.00</td>\n",
       "      <td>0.00</td>\n",
       "      <td>0.00</td>\n",
       "      <td>0.00</td>\n",
       "      <td>0.00</td>\n",
       "      <td>0.0</td>\n",
       "      <td>0.00</td>\n",
       "      <td>normal</td>\n",
       "      <td>21</td>\n",
       "    </tr>\n",
       "    <tr>\n",
       "      <th>4</th>\n",
       "      <td>0</td>\n",
       "      <td>tcp</td>\n",
       "      <td>private</td>\n",
       "      <td>REJ</td>\n",
       "      <td>0</td>\n",
       "      <td>0</td>\n",
       "      <td>0</td>\n",
       "      <td>0</td>\n",
       "      <td>0</td>\n",
       "      <td>0</td>\n",
       "      <td>...</td>\n",
       "      <td>0.07</td>\n",
       "      <td>0.07</td>\n",
       "      <td>0.00</td>\n",
       "      <td>0.00</td>\n",
       "      <td>0.00</td>\n",
       "      <td>0.00</td>\n",
       "      <td>1.0</td>\n",
       "      <td>1.00</td>\n",
       "      <td>neptune</td>\n",
       "      <td>21</td>\n",
       "    </tr>\n",
       "    <tr>\n",
       "      <th>5</th>\n",
       "      <td>0</td>\n",
       "      <td>tcp</td>\n",
       "      <td>private</td>\n",
       "      <td>S0</td>\n",
       "      <td>0</td>\n",
       "      <td>0</td>\n",
       "      <td>0</td>\n",
       "      <td>0</td>\n",
       "      <td>0</td>\n",
       "      <td>0</td>\n",
       "      <td>...</td>\n",
       "      <td>0.04</td>\n",
       "      <td>0.05</td>\n",
       "      <td>0.00</td>\n",
       "      <td>0.00</td>\n",
       "      <td>1.00</td>\n",
       "      <td>1.00</td>\n",
       "      <td>0.0</td>\n",
       "      <td>0.00</td>\n",
       "      <td>neptune</td>\n",
       "      <td>21</td>\n",
       "    </tr>\n",
       "    <tr>\n",
       "      <th>6</th>\n",
       "      <td>0</td>\n",
       "      <td>tcp</td>\n",
       "      <td>private</td>\n",
       "      <td>S0</td>\n",
       "      <td>0</td>\n",
       "      <td>0</td>\n",
       "      <td>0</td>\n",
       "      <td>0</td>\n",
       "      <td>0</td>\n",
       "      <td>0</td>\n",
       "      <td>...</td>\n",
       "      <td>0.06</td>\n",
       "      <td>0.07</td>\n",
       "      <td>0.00</td>\n",
       "      <td>0.00</td>\n",
       "      <td>1.00</td>\n",
       "      <td>1.00</td>\n",
       "      <td>0.0</td>\n",
       "      <td>0.00</td>\n",
       "      <td>neptune</td>\n",
       "      <td>21</td>\n",
       "    </tr>\n",
       "    <tr>\n",
       "      <th>7</th>\n",
       "      <td>0</td>\n",
       "      <td>tcp</td>\n",
       "      <td>remote_job</td>\n",
       "      <td>S0</td>\n",
       "      <td>0</td>\n",
       "      <td>0</td>\n",
       "      <td>0</td>\n",
       "      <td>0</td>\n",
       "      <td>0</td>\n",
       "      <td>0</td>\n",
       "      <td>...</td>\n",
       "      <td>0.09</td>\n",
       "      <td>0.05</td>\n",
       "      <td>0.00</td>\n",
       "      <td>0.00</td>\n",
       "      <td>1.00</td>\n",
       "      <td>1.00</td>\n",
       "      <td>0.0</td>\n",
       "      <td>0.00</td>\n",
       "      <td>neptune</td>\n",
       "      <td>21</td>\n",
       "    </tr>\n",
       "    <tr>\n",
       "      <th>8</th>\n",
       "      <td>0</td>\n",
       "      <td>tcp</td>\n",
       "      <td>private</td>\n",
       "      <td>S0</td>\n",
       "      <td>0</td>\n",
       "      <td>0</td>\n",
       "      <td>0</td>\n",
       "      <td>0</td>\n",
       "      <td>0</td>\n",
       "      <td>0</td>\n",
       "      <td>...</td>\n",
       "      <td>0.05</td>\n",
       "      <td>0.06</td>\n",
       "      <td>0.00</td>\n",
       "      <td>0.00</td>\n",
       "      <td>1.00</td>\n",
       "      <td>1.00</td>\n",
       "      <td>0.0</td>\n",
       "      <td>0.00</td>\n",
       "      <td>neptune</td>\n",
       "      <td>21</td>\n",
       "    </tr>\n",
       "    <tr>\n",
       "      <th>9</th>\n",
       "      <td>0</td>\n",
       "      <td>tcp</td>\n",
       "      <td>private</td>\n",
       "      <td>REJ</td>\n",
       "      <td>0</td>\n",
       "      <td>0</td>\n",
       "      <td>0</td>\n",
       "      <td>0</td>\n",
       "      <td>0</td>\n",
       "      <td>0</td>\n",
       "      <td>...</td>\n",
       "      <td>0.05</td>\n",
       "      <td>0.07</td>\n",
       "      <td>0.00</td>\n",
       "      <td>0.00</td>\n",
       "      <td>0.00</td>\n",
       "      <td>0.00</td>\n",
       "      <td>1.0</td>\n",
       "      <td>1.00</td>\n",
       "      <td>neptune</td>\n",
       "      <td>21</td>\n",
       "    </tr>\n",
       "  </tbody>\n",
       "</table>\n",
       "<p>10 rows × 43 columns</p>\n",
       "</div>"
      ],
      "text/plain": [
       "   duration protocol_type     service flag  src_bytes  dst_bytes  land  \\\n",
       "0         0           udp       other   SF        146          0     0   \n",
       "1         0           tcp     private   S0          0          0     0   \n",
       "2         0           tcp        http   SF        232       8153     0   \n",
       "3         0           tcp        http   SF        199        420     0   \n",
       "4         0           tcp     private  REJ          0          0     0   \n",
       "5         0           tcp     private   S0          0          0     0   \n",
       "6         0           tcp     private   S0          0          0     0   \n",
       "7         0           tcp  remote_job   S0          0          0     0   \n",
       "8         0           tcp     private   S0          0          0     0   \n",
       "9         0           tcp     private  REJ          0          0     0   \n",
       "\n",
       "   wrong_fragment  urgent  hot  ...  dst_host_same_srv_rate  \\\n",
       "0               0       0    0  ...                    0.00   \n",
       "1               0       0    0  ...                    0.10   \n",
       "2               0       0    0  ...                    1.00   \n",
       "3               0       0    0  ...                    1.00   \n",
       "4               0       0    0  ...                    0.07   \n",
       "5               0       0    0  ...                    0.04   \n",
       "6               0       0    0  ...                    0.06   \n",
       "7               0       0    0  ...                    0.09   \n",
       "8               0       0    0  ...                    0.05   \n",
       "9               0       0    0  ...                    0.05   \n",
       "\n",
       "   dst_host_diff_srv_rate  dst_host_same_src_port_rate  \\\n",
       "0                    0.60                         0.88   \n",
       "1                    0.05                         0.00   \n",
       "2                    0.00                         0.03   \n",
       "3                    0.00                         0.00   \n",
       "4                    0.07                         0.00   \n",
       "5                    0.05                         0.00   \n",
       "6                    0.07                         0.00   \n",
       "7                    0.05                         0.00   \n",
       "8                    0.06                         0.00   \n",
       "9                    0.07                         0.00   \n",
       "\n",
       "   dst_host_srv_diff_host_rate  dst_host_serror_rate  \\\n",
       "0                         0.00                  0.00   \n",
       "1                         0.00                  1.00   \n",
       "2                         0.04                  0.03   \n",
       "3                         0.00                  0.00   \n",
       "4                         0.00                  0.00   \n",
       "5                         0.00                  1.00   \n",
       "6                         0.00                  1.00   \n",
       "7                         0.00                  1.00   \n",
       "8                         0.00                  1.00   \n",
       "9                         0.00                  0.00   \n",
       "\n",
       "   dst_host_srv_serror_rate  dst_host_rerror_rate  dst_host_srv_rerror_rate  \\\n",
       "0                      0.00                   0.0                      0.00   \n",
       "1                      1.00                   0.0                      0.00   \n",
       "2                      0.01                   0.0                      0.01   \n",
       "3                      0.00                   0.0                      0.00   \n",
       "4                      0.00                   1.0                      1.00   \n",
       "5                      1.00                   0.0                      0.00   \n",
       "6                      1.00                   0.0                      0.00   \n",
       "7                      1.00                   0.0                      0.00   \n",
       "8                      1.00                   0.0                      0.00   \n",
       "9                      0.00                   1.0                      1.00   \n",
       "\n",
       "    attack  level  \n",
       "0   normal     15  \n",
       "1  neptune     19  \n",
       "2   normal     21  \n",
       "3   normal     21  \n",
       "4  neptune     21  \n",
       "5  neptune     21  \n",
       "6  neptune     21  \n",
       "7  neptune     21  \n",
       "8  neptune     21  \n",
       "9  neptune     21  \n",
       "\n",
       "[10 rows x 43 columns]"
      ]
     },
     "execution_count": 7,
     "metadata": {},
     "output_type": "execute_result"
    }
   ],
   "source": [
    "Trained_Data.head(10)"
   ]
  },
  {
   "cell_type": "code",
   "execution_count": 8,
   "id": "6eca1e5f",
   "metadata": {
    "execution": {
     "iopub.execute_input": "2022-09-18T18:23:11.610832Z",
     "iopub.status.busy": "2022-09-18T18:23:11.610099Z",
     "iopub.status.idle": "2022-09-18T18:23:11.635245Z",
     "shell.execute_reply": "2022-09-18T18:23:11.634260Z"
    },
    "papermill": {
     "duration": 0.041875,
     "end_time": "2022-09-18T18:23:11.637170",
     "exception": false,
     "start_time": "2022-09-18T18:23:11.595295",
     "status": "completed"
    },
    "tags": []
   },
   "outputs": [
    {
     "data": {
      "text/html": [
       "<div>\n",
       "<style scoped>\n",
       "    .dataframe tbody tr th:only-of-type {\n",
       "        vertical-align: middle;\n",
       "    }\n",
       "\n",
       "    .dataframe tbody tr th {\n",
       "        vertical-align: top;\n",
       "    }\n",
       "\n",
       "    .dataframe thead th {\n",
       "        text-align: right;\n",
       "    }\n",
       "</style>\n",
       "<table border=\"1\" class=\"dataframe\">\n",
       "  <thead>\n",
       "    <tr style=\"text-align: right;\">\n",
       "      <th></th>\n",
       "      <th>duration</th>\n",
       "      <th>protocol_type</th>\n",
       "      <th>service</th>\n",
       "      <th>flag</th>\n",
       "      <th>src_bytes</th>\n",
       "      <th>dst_bytes</th>\n",
       "      <th>land</th>\n",
       "      <th>wrong_fragment</th>\n",
       "      <th>urgent</th>\n",
       "      <th>hot</th>\n",
       "      <th>...</th>\n",
       "      <th>dst_host_same_srv_rate</th>\n",
       "      <th>dst_host_diff_srv_rate</th>\n",
       "      <th>dst_host_same_src_port_rate</th>\n",
       "      <th>dst_host_srv_diff_host_rate</th>\n",
       "      <th>dst_host_serror_rate</th>\n",
       "      <th>dst_host_srv_serror_rate</th>\n",
       "      <th>dst_host_rerror_rate</th>\n",
       "      <th>dst_host_srv_rerror_rate</th>\n",
       "      <th>attack</th>\n",
       "      <th>level</th>\n",
       "    </tr>\n",
       "  </thead>\n",
       "  <tbody>\n",
       "    <tr>\n",
       "      <th>0</th>\n",
       "      <td>0</td>\n",
       "      <td>tcp</td>\n",
       "      <td>private</td>\n",
       "      <td>REJ</td>\n",
       "      <td>0</td>\n",
       "      <td>0</td>\n",
       "      <td>0</td>\n",
       "      <td>0</td>\n",
       "      <td>0</td>\n",
       "      <td>0</td>\n",
       "      <td>...</td>\n",
       "      <td>0.00</td>\n",
       "      <td>0.06</td>\n",
       "      <td>0.00</td>\n",
       "      <td>0.00</td>\n",
       "      <td>0.00</td>\n",
       "      <td>0.00</td>\n",
       "      <td>1.00</td>\n",
       "      <td>1.00</td>\n",
       "      <td>neptune</td>\n",
       "      <td>21</td>\n",
       "    </tr>\n",
       "    <tr>\n",
       "      <th>1</th>\n",
       "      <td>2</td>\n",
       "      <td>tcp</td>\n",
       "      <td>ftp_data</td>\n",
       "      <td>SF</td>\n",
       "      <td>12983</td>\n",
       "      <td>0</td>\n",
       "      <td>0</td>\n",
       "      <td>0</td>\n",
       "      <td>0</td>\n",
       "      <td>0</td>\n",
       "      <td>...</td>\n",
       "      <td>0.61</td>\n",
       "      <td>0.04</td>\n",
       "      <td>0.61</td>\n",
       "      <td>0.02</td>\n",
       "      <td>0.00</td>\n",
       "      <td>0.00</td>\n",
       "      <td>0.00</td>\n",
       "      <td>0.00</td>\n",
       "      <td>normal</td>\n",
       "      <td>21</td>\n",
       "    </tr>\n",
       "    <tr>\n",
       "      <th>2</th>\n",
       "      <td>0</td>\n",
       "      <td>icmp</td>\n",
       "      <td>eco_i</td>\n",
       "      <td>SF</td>\n",
       "      <td>20</td>\n",
       "      <td>0</td>\n",
       "      <td>0</td>\n",
       "      <td>0</td>\n",
       "      <td>0</td>\n",
       "      <td>0</td>\n",
       "      <td>...</td>\n",
       "      <td>1.00</td>\n",
       "      <td>0.00</td>\n",
       "      <td>1.00</td>\n",
       "      <td>0.28</td>\n",
       "      <td>0.00</td>\n",
       "      <td>0.00</td>\n",
       "      <td>0.00</td>\n",
       "      <td>0.00</td>\n",
       "      <td>saint</td>\n",
       "      <td>15</td>\n",
       "    </tr>\n",
       "    <tr>\n",
       "      <th>3</th>\n",
       "      <td>1</td>\n",
       "      <td>tcp</td>\n",
       "      <td>telnet</td>\n",
       "      <td>RSTO</td>\n",
       "      <td>0</td>\n",
       "      <td>15</td>\n",
       "      <td>0</td>\n",
       "      <td>0</td>\n",
       "      <td>0</td>\n",
       "      <td>0</td>\n",
       "      <td>...</td>\n",
       "      <td>0.31</td>\n",
       "      <td>0.17</td>\n",
       "      <td>0.03</td>\n",
       "      <td>0.02</td>\n",
       "      <td>0.00</td>\n",
       "      <td>0.00</td>\n",
       "      <td>0.83</td>\n",
       "      <td>0.71</td>\n",
       "      <td>mscan</td>\n",
       "      <td>11</td>\n",
       "    </tr>\n",
       "    <tr>\n",
       "      <th>4</th>\n",
       "      <td>0</td>\n",
       "      <td>tcp</td>\n",
       "      <td>http</td>\n",
       "      <td>SF</td>\n",
       "      <td>267</td>\n",
       "      <td>14515</td>\n",
       "      <td>0</td>\n",
       "      <td>0</td>\n",
       "      <td>0</td>\n",
       "      <td>0</td>\n",
       "      <td>...</td>\n",
       "      <td>1.00</td>\n",
       "      <td>0.00</td>\n",
       "      <td>0.01</td>\n",
       "      <td>0.03</td>\n",
       "      <td>0.01</td>\n",
       "      <td>0.00</td>\n",
       "      <td>0.00</td>\n",
       "      <td>0.00</td>\n",
       "      <td>normal</td>\n",
       "      <td>21</td>\n",
       "    </tr>\n",
       "    <tr>\n",
       "      <th>5</th>\n",
       "      <td>0</td>\n",
       "      <td>tcp</td>\n",
       "      <td>smtp</td>\n",
       "      <td>SF</td>\n",
       "      <td>1022</td>\n",
       "      <td>387</td>\n",
       "      <td>0</td>\n",
       "      <td>0</td>\n",
       "      <td>0</td>\n",
       "      <td>0</td>\n",
       "      <td>...</td>\n",
       "      <td>0.11</td>\n",
       "      <td>0.72</td>\n",
       "      <td>0.00</td>\n",
       "      <td>0.00</td>\n",
       "      <td>0.00</td>\n",
       "      <td>0.00</td>\n",
       "      <td>0.72</td>\n",
       "      <td>0.04</td>\n",
       "      <td>normal</td>\n",
       "      <td>21</td>\n",
       "    </tr>\n",
       "    <tr>\n",
       "      <th>6</th>\n",
       "      <td>0</td>\n",
       "      <td>tcp</td>\n",
       "      <td>telnet</td>\n",
       "      <td>SF</td>\n",
       "      <td>129</td>\n",
       "      <td>174</td>\n",
       "      <td>0</td>\n",
       "      <td>0</td>\n",
       "      <td>0</td>\n",
       "      <td>0</td>\n",
       "      <td>...</td>\n",
       "      <td>1.00</td>\n",
       "      <td>0.00</td>\n",
       "      <td>0.00</td>\n",
       "      <td>0.00</td>\n",
       "      <td>0.01</td>\n",
       "      <td>0.01</td>\n",
       "      <td>0.02</td>\n",
       "      <td>0.02</td>\n",
       "      <td>guess_passwd</td>\n",
       "      <td>15</td>\n",
       "    </tr>\n",
       "    <tr>\n",
       "      <th>7</th>\n",
       "      <td>0</td>\n",
       "      <td>tcp</td>\n",
       "      <td>http</td>\n",
       "      <td>SF</td>\n",
       "      <td>327</td>\n",
       "      <td>467</td>\n",
       "      <td>0</td>\n",
       "      <td>0</td>\n",
       "      <td>0</td>\n",
       "      <td>0</td>\n",
       "      <td>...</td>\n",
       "      <td>1.00</td>\n",
       "      <td>0.00</td>\n",
       "      <td>0.01</td>\n",
       "      <td>0.03</td>\n",
       "      <td>0.00</td>\n",
       "      <td>0.00</td>\n",
       "      <td>0.00</td>\n",
       "      <td>0.00</td>\n",
       "      <td>normal</td>\n",
       "      <td>21</td>\n",
       "    </tr>\n",
       "    <tr>\n",
       "      <th>8</th>\n",
       "      <td>0</td>\n",
       "      <td>tcp</td>\n",
       "      <td>ftp</td>\n",
       "      <td>SF</td>\n",
       "      <td>26</td>\n",
       "      <td>157</td>\n",
       "      <td>0</td>\n",
       "      <td>0</td>\n",
       "      <td>0</td>\n",
       "      <td>0</td>\n",
       "      <td>...</td>\n",
       "      <td>0.50</td>\n",
       "      <td>0.08</td>\n",
       "      <td>0.02</td>\n",
       "      <td>0.00</td>\n",
       "      <td>0.00</td>\n",
       "      <td>0.00</td>\n",
       "      <td>0.00</td>\n",
       "      <td>0.00</td>\n",
       "      <td>guess_passwd</td>\n",
       "      <td>7</td>\n",
       "    </tr>\n",
       "    <tr>\n",
       "      <th>9</th>\n",
       "      <td>0</td>\n",
       "      <td>tcp</td>\n",
       "      <td>telnet</td>\n",
       "      <td>SF</td>\n",
       "      <td>0</td>\n",
       "      <td>0</td>\n",
       "      <td>0</td>\n",
       "      <td>0</td>\n",
       "      <td>0</td>\n",
       "      <td>0</td>\n",
       "      <td>...</td>\n",
       "      <td>0.50</td>\n",
       "      <td>0.01</td>\n",
       "      <td>0.00</td>\n",
       "      <td>0.00</td>\n",
       "      <td>0.00</td>\n",
       "      <td>0.00</td>\n",
       "      <td>0.66</td>\n",
       "      <td>0.32</td>\n",
       "      <td>mscan</td>\n",
       "      <td>9</td>\n",
       "    </tr>\n",
       "  </tbody>\n",
       "</table>\n",
       "<p>10 rows × 43 columns</p>\n",
       "</div>"
      ],
      "text/plain": [
       "   duration protocol_type   service  flag  src_bytes  dst_bytes  land  \\\n",
       "0         0           tcp   private   REJ          0          0     0   \n",
       "1         2           tcp  ftp_data    SF      12983          0     0   \n",
       "2         0          icmp     eco_i    SF         20          0     0   \n",
       "3         1           tcp    telnet  RSTO          0         15     0   \n",
       "4         0           tcp      http    SF        267      14515     0   \n",
       "5         0           tcp      smtp    SF       1022        387     0   \n",
       "6         0           tcp    telnet    SF        129        174     0   \n",
       "7         0           tcp      http    SF        327        467     0   \n",
       "8         0           tcp       ftp    SF         26        157     0   \n",
       "9         0           tcp    telnet    SF          0          0     0   \n",
       "\n",
       "   wrong_fragment  urgent  hot  ...  dst_host_same_srv_rate  \\\n",
       "0               0       0    0  ...                    0.00   \n",
       "1               0       0    0  ...                    0.61   \n",
       "2               0       0    0  ...                    1.00   \n",
       "3               0       0    0  ...                    0.31   \n",
       "4               0       0    0  ...                    1.00   \n",
       "5               0       0    0  ...                    0.11   \n",
       "6               0       0    0  ...                    1.00   \n",
       "7               0       0    0  ...                    1.00   \n",
       "8               0       0    0  ...                    0.50   \n",
       "9               0       0    0  ...                    0.50   \n",
       "\n",
       "   dst_host_diff_srv_rate  dst_host_same_src_port_rate  \\\n",
       "0                    0.06                         0.00   \n",
       "1                    0.04                         0.61   \n",
       "2                    0.00                         1.00   \n",
       "3                    0.17                         0.03   \n",
       "4                    0.00                         0.01   \n",
       "5                    0.72                         0.00   \n",
       "6                    0.00                         0.00   \n",
       "7                    0.00                         0.01   \n",
       "8                    0.08                         0.02   \n",
       "9                    0.01                         0.00   \n",
       "\n",
       "   dst_host_srv_diff_host_rate  dst_host_serror_rate  \\\n",
       "0                         0.00                  0.00   \n",
       "1                         0.02                  0.00   \n",
       "2                         0.28                  0.00   \n",
       "3                         0.02                  0.00   \n",
       "4                         0.03                  0.01   \n",
       "5                         0.00                  0.00   \n",
       "6                         0.00                  0.01   \n",
       "7                         0.03                  0.00   \n",
       "8                         0.00                  0.00   \n",
       "9                         0.00                  0.00   \n",
       "\n",
       "   dst_host_srv_serror_rate  dst_host_rerror_rate  dst_host_srv_rerror_rate  \\\n",
       "0                      0.00                  1.00                      1.00   \n",
       "1                      0.00                  0.00                      0.00   \n",
       "2                      0.00                  0.00                      0.00   \n",
       "3                      0.00                  0.83                      0.71   \n",
       "4                      0.00                  0.00                      0.00   \n",
       "5                      0.00                  0.72                      0.04   \n",
       "6                      0.01                  0.02                      0.02   \n",
       "7                      0.00                  0.00                      0.00   \n",
       "8                      0.00                  0.00                      0.00   \n",
       "9                      0.00                  0.66                      0.32   \n",
       "\n",
       "         attack  level  \n",
       "0       neptune     21  \n",
       "1        normal     21  \n",
       "2         saint     15  \n",
       "3         mscan     11  \n",
       "4        normal     21  \n",
       "5        normal     21  \n",
       "6  guess_passwd     15  \n",
       "7        normal     21  \n",
       "8  guess_passwd      7  \n",
       "9         mscan      9  \n",
       "\n",
       "[10 rows x 43 columns]"
      ]
     },
     "execution_count": 8,
     "metadata": {},
     "output_type": "execute_result"
    }
   ],
   "source": [
    "Tested_Data.head(10)"
   ]
  },
  {
   "cell_type": "markdown",
   "id": "a5c0a221",
   "metadata": {
    "papermill": {
     "duration": 0.014018,
     "end_time": "2022-09-18T18:23:11.665231",
     "exception": false,
     "start_time": "2022-09-18T18:23:11.651213",
     "status": "completed"
    },
    "tags": []
   },
   "source": [
    "-------\n",
    "## Data Description"
   ]
  },
  {
   "cell_type": "code",
   "execution_count": 9,
   "id": "2d3830eb",
   "metadata": {
    "execution": {
     "iopub.execute_input": "2022-09-18T18:23:11.694560Z",
     "iopub.status.busy": "2022-09-18T18:23:11.694280Z",
     "iopub.status.idle": "2022-09-18T18:23:11.737646Z",
     "shell.execute_reply": "2022-09-18T18:23:11.736642Z"
    },
    "papermill": {
     "duration": 0.061461,
     "end_time": "2022-09-18T18:23:11.740844",
     "exception": false,
     "start_time": "2022-09-18T18:23:11.679383",
     "status": "completed"
    },
    "tags": []
   },
   "outputs": [
    {
     "name": "stdout",
     "output_type": "stream",
     "text": [
      "<class 'pandas.core.frame.DataFrame'>\n",
      "RangeIndex: 125972 entries, 0 to 125971\n",
      "Data columns (total 43 columns):\n",
      " #   Column                       Non-Null Count   Dtype  \n",
      "---  ------                       --------------   -----  \n",
      " 0   duration                     125972 non-null  int64  \n",
      " 1   protocol_type                125972 non-null  object \n",
      " 2   service                      125972 non-null  object \n",
      " 3   flag                         125972 non-null  object \n",
      " 4   src_bytes                    125972 non-null  int64  \n",
      " 5   dst_bytes                    125972 non-null  int64  \n",
      " 6   land                         125972 non-null  int64  \n",
      " 7   wrong_fragment               125972 non-null  int64  \n",
      " 8   urgent                       125972 non-null  int64  \n",
      " 9   hot                          125972 non-null  int64  \n",
      " 10  num_failed_logins            125972 non-null  int64  \n",
      " 11  logged_in                    125972 non-null  int64  \n",
      " 12  num_compromised              125972 non-null  int64  \n",
      " 13  root_shell                   125972 non-null  int64  \n",
      " 14  su_attempted                 125972 non-null  int64  \n",
      " 15  num_root                     125972 non-null  int64  \n",
      " 16  num_file_creations           125972 non-null  int64  \n",
      " 17  num_shells                   125972 non-null  int64  \n",
      " 18  num_access_files             125972 non-null  int64  \n",
      " 19  num_outbound_cmds            125972 non-null  int64  \n",
      " 20  is_host_login                125972 non-null  int64  \n",
      " 21  is_guest_login               125972 non-null  int64  \n",
      " 22  count                        125972 non-null  int64  \n",
      " 23  srv_count                    125972 non-null  int64  \n",
      " 24  serror_rate                  125972 non-null  float64\n",
      " 25  srv_serror_rate              125972 non-null  float64\n",
      " 26  rerror_rate                  125972 non-null  float64\n",
      " 27  srv_rerror_rate              125972 non-null  float64\n",
      " 28  same_srv_rate                125972 non-null  float64\n",
      " 29  diff_srv_rate                125972 non-null  float64\n",
      " 30  srv_diff_host_rate           125972 non-null  float64\n",
      " 31  dst_host_count               125972 non-null  int64  \n",
      " 32  dst_host_srv_count           125972 non-null  int64  \n",
      " 33  dst_host_same_srv_rate       125972 non-null  float64\n",
      " 34  dst_host_diff_srv_rate       125972 non-null  float64\n",
      " 35  dst_host_same_src_port_rate  125972 non-null  float64\n",
      " 36  dst_host_srv_diff_host_rate  125972 non-null  float64\n",
      " 37  dst_host_serror_rate         125972 non-null  float64\n",
      " 38  dst_host_srv_serror_rate     125972 non-null  float64\n",
      " 39  dst_host_rerror_rate         125972 non-null  float64\n",
      " 40  dst_host_srv_rerror_rate     125972 non-null  float64\n",
      " 41  attack                       125972 non-null  object \n",
      " 42  level                        125972 non-null  int64  \n",
      "dtypes: float64(15), int64(24), object(4)\n",
      "memory usage: 41.3+ MB\n"
     ]
    }
   ],
   "source": [
    "Trained_Data.info()"
   ]
  },
  {
   "cell_type": "code",
   "execution_count": 10,
   "id": "44e27ac6",
   "metadata": {
    "execution": {
     "iopub.execute_input": "2022-09-18T18:23:11.773695Z",
     "iopub.status.busy": "2022-09-18T18:23:11.773431Z",
     "iopub.status.idle": "2022-09-18T18:23:11.791537Z",
     "shell.execute_reply": "2022-09-18T18:23:11.789779Z"
    },
    "papermill": {
     "duration": 0.035302,
     "end_time": "2022-09-18T18:23:11.793462",
     "exception": false,
     "start_time": "2022-09-18T18:23:11.758160",
     "status": "completed"
    },
    "tags": []
   },
   "outputs": [
    {
     "name": "stdout",
     "output_type": "stream",
     "text": [
      "<class 'pandas.core.frame.DataFrame'>\n",
      "RangeIndex: 22543 entries, 0 to 22542\n",
      "Data columns (total 43 columns):\n",
      " #   Column                       Non-Null Count  Dtype  \n",
      "---  ------                       --------------  -----  \n",
      " 0   duration                     22543 non-null  int64  \n",
      " 1   protocol_type                22543 non-null  object \n",
      " 2   service                      22543 non-null  object \n",
      " 3   flag                         22543 non-null  object \n",
      " 4   src_bytes                    22543 non-null  int64  \n",
      " 5   dst_bytes                    22543 non-null  int64  \n",
      " 6   land                         22543 non-null  int64  \n",
      " 7   wrong_fragment               22543 non-null  int64  \n",
      " 8   urgent                       22543 non-null  int64  \n",
      " 9   hot                          22543 non-null  int64  \n",
      " 10  num_failed_logins            22543 non-null  int64  \n",
      " 11  logged_in                    22543 non-null  int64  \n",
      " 12  num_compromised              22543 non-null  int64  \n",
      " 13  root_shell                   22543 non-null  int64  \n",
      " 14  su_attempted                 22543 non-null  int64  \n",
      " 15  num_root                     22543 non-null  int64  \n",
      " 16  num_file_creations           22543 non-null  int64  \n",
      " 17  num_shells                   22543 non-null  int64  \n",
      " 18  num_access_files             22543 non-null  int64  \n",
      " 19  num_outbound_cmds            22543 non-null  int64  \n",
      " 20  is_host_login                22543 non-null  int64  \n",
      " 21  is_guest_login               22543 non-null  int64  \n",
      " 22  count                        22543 non-null  int64  \n",
      " 23  srv_count                    22543 non-null  int64  \n",
      " 24  serror_rate                  22543 non-null  float64\n",
      " 25  srv_serror_rate              22543 non-null  float64\n",
      " 26  rerror_rate                  22543 non-null  float64\n",
      " 27  srv_rerror_rate              22543 non-null  float64\n",
      " 28  same_srv_rate                22543 non-null  float64\n",
      " 29  diff_srv_rate                22543 non-null  float64\n",
      " 30  srv_diff_host_rate           22543 non-null  float64\n",
      " 31  dst_host_count               22543 non-null  int64  \n",
      " 32  dst_host_srv_count           22543 non-null  int64  \n",
      " 33  dst_host_same_srv_rate       22543 non-null  float64\n",
      " 34  dst_host_diff_srv_rate       22543 non-null  float64\n",
      " 35  dst_host_same_src_port_rate  22543 non-null  float64\n",
      " 36  dst_host_srv_diff_host_rate  22543 non-null  float64\n",
      " 37  dst_host_serror_rate         22543 non-null  float64\n",
      " 38  dst_host_srv_serror_rate     22543 non-null  float64\n",
      " 39  dst_host_rerror_rate         22543 non-null  float64\n",
      " 40  dst_host_srv_rerror_rate     22543 non-null  float64\n",
      " 41  attack                       22543 non-null  object \n",
      " 42  level                        22543 non-null  int64  \n",
      "dtypes: float64(15), int64(24), object(4)\n",
      "memory usage: 7.4+ MB\n"
     ]
    }
   ],
   "source": [
    "Tested_Data.info()"
   ]
  },
  {
   "cell_type": "code",
   "execution_count": 11,
   "id": "5121cc6a",
   "metadata": {
    "execution": {
     "iopub.execute_input": "2022-09-18T18:23:11.833919Z",
     "iopub.status.busy": "2022-09-18T18:23:11.833487Z",
     "iopub.status.idle": "2022-09-18T18:23:12.145604Z",
     "shell.execute_reply": "2022-09-18T18:23:12.144639Z"
    },
    "papermill": {
     "duration": 0.340234,
     "end_time": "2022-09-18T18:23:12.148386",
     "exception": false,
     "start_time": "2022-09-18T18:23:11.808152",
     "status": "completed"
    },
    "tags": []
   },
   "outputs": [
    {
     "data": {
      "text/html": [
       "<div>\n",
       "<style scoped>\n",
       "    .dataframe tbody tr th:only-of-type {\n",
       "        vertical-align: middle;\n",
       "    }\n",
       "\n",
       "    .dataframe tbody tr th {\n",
       "        vertical-align: top;\n",
       "    }\n",
       "\n",
       "    .dataframe thead th {\n",
       "        text-align: right;\n",
       "    }\n",
       "</style>\n",
       "<table border=\"1\" class=\"dataframe\">\n",
       "  <thead>\n",
       "    <tr style=\"text-align: right;\">\n",
       "      <th></th>\n",
       "      <th>duration</th>\n",
       "      <th>src_bytes</th>\n",
       "      <th>dst_bytes</th>\n",
       "      <th>land</th>\n",
       "      <th>wrong_fragment</th>\n",
       "      <th>urgent</th>\n",
       "      <th>hot</th>\n",
       "      <th>num_failed_logins</th>\n",
       "      <th>logged_in</th>\n",
       "      <th>num_compromised</th>\n",
       "      <th>...</th>\n",
       "      <th>dst_host_srv_count</th>\n",
       "      <th>dst_host_same_srv_rate</th>\n",
       "      <th>dst_host_diff_srv_rate</th>\n",
       "      <th>dst_host_same_src_port_rate</th>\n",
       "      <th>dst_host_srv_diff_host_rate</th>\n",
       "      <th>dst_host_serror_rate</th>\n",
       "      <th>dst_host_srv_serror_rate</th>\n",
       "      <th>dst_host_rerror_rate</th>\n",
       "      <th>dst_host_srv_rerror_rate</th>\n",
       "      <th>level</th>\n",
       "    </tr>\n",
       "  </thead>\n",
       "  <tbody>\n",
       "    <tr>\n",
       "      <th>count</th>\n",
       "      <td>125972.000000</td>\n",
       "      <td>1.259720e+05</td>\n",
       "      <td>1.259720e+05</td>\n",
       "      <td>125972.000000</td>\n",
       "      <td>125972.000000</td>\n",
       "      <td>125972.000000</td>\n",
       "      <td>125972.000000</td>\n",
       "      <td>125972.000000</td>\n",
       "      <td>125972.000000</td>\n",
       "      <td>125972.000000</td>\n",
       "      <td>...</td>\n",
       "      <td>125972.000000</td>\n",
       "      <td>125972.000000</td>\n",
       "      <td>125972.000000</td>\n",
       "      <td>125972.000000</td>\n",
       "      <td>125972.000000</td>\n",
       "      <td>125972.000000</td>\n",
       "      <td>125972.000000</td>\n",
       "      <td>125972.000000</td>\n",
       "      <td>125972.000000</td>\n",
       "      <td>125972.000000</td>\n",
       "    </tr>\n",
       "    <tr>\n",
       "      <th>mean</th>\n",
       "      <td>287.146929</td>\n",
       "      <td>4.556710e+04</td>\n",
       "      <td>1.977927e+04</td>\n",
       "      <td>0.000198</td>\n",
       "      <td>0.022688</td>\n",
       "      <td>0.000111</td>\n",
       "      <td>0.204411</td>\n",
       "      <td>0.001222</td>\n",
       "      <td>0.395739</td>\n",
       "      <td>0.279253</td>\n",
       "      <td>...</td>\n",
       "      <td>115.653725</td>\n",
       "      <td>0.521244</td>\n",
       "      <td>0.082952</td>\n",
       "      <td>0.148379</td>\n",
       "      <td>0.032543</td>\n",
       "      <td>0.284455</td>\n",
       "      <td>0.278487</td>\n",
       "      <td>0.118832</td>\n",
       "      <td>0.120241</td>\n",
       "      <td>19.504056</td>\n",
       "    </tr>\n",
       "    <tr>\n",
       "      <th>std</th>\n",
       "      <td>2604.525522</td>\n",
       "      <td>5.870354e+06</td>\n",
       "      <td>4.021285e+06</td>\n",
       "      <td>0.014086</td>\n",
       "      <td>0.253531</td>\n",
       "      <td>0.014366</td>\n",
       "      <td>2.149977</td>\n",
       "      <td>0.045239</td>\n",
       "      <td>0.489011</td>\n",
       "      <td>23.942137</td>\n",
       "      <td>...</td>\n",
       "      <td>110.702886</td>\n",
       "      <td>0.448950</td>\n",
       "      <td>0.188922</td>\n",
       "      <td>0.308998</td>\n",
       "      <td>0.112564</td>\n",
       "      <td>0.444785</td>\n",
       "      <td>0.445670</td>\n",
       "      <td>0.306559</td>\n",
       "      <td>0.319460</td>\n",
       "      <td>2.291512</td>\n",
       "    </tr>\n",
       "    <tr>\n",
       "      <th>min</th>\n",
       "      <td>0.000000</td>\n",
       "      <td>0.000000e+00</td>\n",
       "      <td>0.000000e+00</td>\n",
       "      <td>0.000000</td>\n",
       "      <td>0.000000</td>\n",
       "      <td>0.000000</td>\n",
       "      <td>0.000000</td>\n",
       "      <td>0.000000</td>\n",
       "      <td>0.000000</td>\n",
       "      <td>0.000000</td>\n",
       "      <td>...</td>\n",
       "      <td>0.000000</td>\n",
       "      <td>0.000000</td>\n",
       "      <td>0.000000</td>\n",
       "      <td>0.000000</td>\n",
       "      <td>0.000000</td>\n",
       "      <td>0.000000</td>\n",
       "      <td>0.000000</td>\n",
       "      <td>0.000000</td>\n",
       "      <td>0.000000</td>\n",
       "      <td>0.000000</td>\n",
       "    </tr>\n",
       "    <tr>\n",
       "      <th>25%</th>\n",
       "      <td>0.000000</td>\n",
       "      <td>0.000000e+00</td>\n",
       "      <td>0.000000e+00</td>\n",
       "      <td>0.000000</td>\n",
       "      <td>0.000000</td>\n",
       "      <td>0.000000</td>\n",
       "      <td>0.000000</td>\n",
       "      <td>0.000000</td>\n",
       "      <td>0.000000</td>\n",
       "      <td>0.000000</td>\n",
       "      <td>...</td>\n",
       "      <td>10.000000</td>\n",
       "      <td>0.050000</td>\n",
       "      <td>0.000000</td>\n",
       "      <td>0.000000</td>\n",
       "      <td>0.000000</td>\n",
       "      <td>0.000000</td>\n",
       "      <td>0.000000</td>\n",
       "      <td>0.000000</td>\n",
       "      <td>0.000000</td>\n",
       "      <td>18.000000</td>\n",
       "    </tr>\n",
       "    <tr>\n",
       "      <th>50%</th>\n",
       "      <td>0.000000</td>\n",
       "      <td>4.400000e+01</td>\n",
       "      <td>0.000000e+00</td>\n",
       "      <td>0.000000</td>\n",
       "      <td>0.000000</td>\n",
       "      <td>0.000000</td>\n",
       "      <td>0.000000</td>\n",
       "      <td>0.000000</td>\n",
       "      <td>0.000000</td>\n",
       "      <td>0.000000</td>\n",
       "      <td>...</td>\n",
       "      <td>63.000000</td>\n",
       "      <td>0.510000</td>\n",
       "      <td>0.020000</td>\n",
       "      <td>0.000000</td>\n",
       "      <td>0.000000</td>\n",
       "      <td>0.000000</td>\n",
       "      <td>0.000000</td>\n",
       "      <td>0.000000</td>\n",
       "      <td>0.000000</td>\n",
       "      <td>20.000000</td>\n",
       "    </tr>\n",
       "    <tr>\n",
       "      <th>75%</th>\n",
       "      <td>0.000000</td>\n",
       "      <td>2.760000e+02</td>\n",
       "      <td>5.160000e+02</td>\n",
       "      <td>0.000000</td>\n",
       "      <td>0.000000</td>\n",
       "      <td>0.000000</td>\n",
       "      <td>0.000000</td>\n",
       "      <td>0.000000</td>\n",
       "      <td>1.000000</td>\n",
       "      <td>0.000000</td>\n",
       "      <td>...</td>\n",
       "      <td>255.000000</td>\n",
       "      <td>1.000000</td>\n",
       "      <td>0.070000</td>\n",
       "      <td>0.060000</td>\n",
       "      <td>0.020000</td>\n",
       "      <td>1.000000</td>\n",
       "      <td>1.000000</td>\n",
       "      <td>0.000000</td>\n",
       "      <td>0.000000</td>\n",
       "      <td>21.000000</td>\n",
       "    </tr>\n",
       "    <tr>\n",
       "      <th>max</th>\n",
       "      <td>42908.000000</td>\n",
       "      <td>1.379964e+09</td>\n",
       "      <td>1.309937e+09</td>\n",
       "      <td>1.000000</td>\n",
       "      <td>3.000000</td>\n",
       "      <td>3.000000</td>\n",
       "      <td>77.000000</td>\n",
       "      <td>5.000000</td>\n",
       "      <td>1.000000</td>\n",
       "      <td>7479.000000</td>\n",
       "      <td>...</td>\n",
       "      <td>255.000000</td>\n",
       "      <td>1.000000</td>\n",
       "      <td>1.000000</td>\n",
       "      <td>1.000000</td>\n",
       "      <td>1.000000</td>\n",
       "      <td>1.000000</td>\n",
       "      <td>1.000000</td>\n",
       "      <td>1.000000</td>\n",
       "      <td>1.000000</td>\n",
       "      <td>21.000000</td>\n",
       "    </tr>\n",
       "  </tbody>\n",
       "</table>\n",
       "<p>8 rows × 39 columns</p>\n",
       "</div>"
      ],
      "text/plain": [
       "            duration     src_bytes     dst_bytes           land  \\\n",
       "count  125972.000000  1.259720e+05  1.259720e+05  125972.000000   \n",
       "mean      287.146929  4.556710e+04  1.977927e+04       0.000198   \n",
       "std      2604.525522  5.870354e+06  4.021285e+06       0.014086   \n",
       "min         0.000000  0.000000e+00  0.000000e+00       0.000000   \n",
       "25%         0.000000  0.000000e+00  0.000000e+00       0.000000   \n",
       "50%         0.000000  4.400000e+01  0.000000e+00       0.000000   \n",
       "75%         0.000000  2.760000e+02  5.160000e+02       0.000000   \n",
       "max     42908.000000  1.379964e+09  1.309937e+09       1.000000   \n",
       "\n",
       "       wrong_fragment         urgent            hot  num_failed_logins  \\\n",
       "count   125972.000000  125972.000000  125972.000000      125972.000000   \n",
       "mean         0.022688       0.000111       0.204411           0.001222   \n",
       "std          0.253531       0.014366       2.149977           0.045239   \n",
       "min          0.000000       0.000000       0.000000           0.000000   \n",
       "25%          0.000000       0.000000       0.000000           0.000000   \n",
       "50%          0.000000       0.000000       0.000000           0.000000   \n",
       "75%          0.000000       0.000000       0.000000           0.000000   \n",
       "max          3.000000       3.000000      77.000000           5.000000   \n",
       "\n",
       "           logged_in  num_compromised  ...  dst_host_srv_count  \\\n",
       "count  125972.000000    125972.000000  ...       125972.000000   \n",
       "mean        0.395739         0.279253  ...          115.653725   \n",
       "std         0.489011        23.942137  ...          110.702886   \n",
       "min         0.000000         0.000000  ...            0.000000   \n",
       "25%         0.000000         0.000000  ...           10.000000   \n",
       "50%         0.000000         0.000000  ...           63.000000   \n",
       "75%         1.000000         0.000000  ...          255.000000   \n",
       "max         1.000000      7479.000000  ...          255.000000   \n",
       "\n",
       "       dst_host_same_srv_rate  dst_host_diff_srv_rate  \\\n",
       "count           125972.000000           125972.000000   \n",
       "mean                 0.521244                0.082952   \n",
       "std                  0.448950                0.188922   \n",
       "min                  0.000000                0.000000   \n",
       "25%                  0.050000                0.000000   \n",
       "50%                  0.510000                0.020000   \n",
       "75%                  1.000000                0.070000   \n",
       "max                  1.000000                1.000000   \n",
       "\n",
       "       dst_host_same_src_port_rate  dst_host_srv_diff_host_rate  \\\n",
       "count                125972.000000                125972.000000   \n",
       "mean                      0.148379                     0.032543   \n",
       "std                       0.308998                     0.112564   \n",
       "min                       0.000000                     0.000000   \n",
       "25%                       0.000000                     0.000000   \n",
       "50%                       0.000000                     0.000000   \n",
       "75%                       0.060000                     0.020000   \n",
       "max                       1.000000                     1.000000   \n",
       "\n",
       "       dst_host_serror_rate  dst_host_srv_serror_rate  dst_host_rerror_rate  \\\n",
       "count         125972.000000             125972.000000         125972.000000   \n",
       "mean               0.284455                  0.278487              0.118832   \n",
       "std                0.444785                  0.445670              0.306559   \n",
       "min                0.000000                  0.000000              0.000000   \n",
       "25%                0.000000                  0.000000              0.000000   \n",
       "50%                0.000000                  0.000000              0.000000   \n",
       "75%                1.000000                  1.000000              0.000000   \n",
       "max                1.000000                  1.000000              1.000000   \n",
       "\n",
       "       dst_host_srv_rerror_rate          level  \n",
       "count             125972.000000  125972.000000  \n",
       "mean                   0.120241      19.504056  \n",
       "std                    0.319460       2.291512  \n",
       "min                    0.000000       0.000000  \n",
       "25%                    0.000000      18.000000  \n",
       "50%                    0.000000      20.000000  \n",
       "75%                    0.000000      21.000000  \n",
       "max                    1.000000      21.000000  \n",
       "\n",
       "[8 rows x 39 columns]"
      ]
     },
     "execution_count": 11,
     "metadata": {},
     "output_type": "execute_result"
    }
   ],
   "source": [
    "Trained_Data.describe()"
   ]
  },
  {
   "cell_type": "code",
   "execution_count": 12,
   "id": "9238f353",
   "metadata": {
    "execution": {
     "iopub.execute_input": "2022-09-18T18:23:12.196379Z",
     "iopub.status.busy": "2022-09-18T18:23:12.195909Z",
     "iopub.status.idle": "2022-09-18T18:23:12.352542Z",
     "shell.execute_reply": "2022-09-18T18:23:12.351591Z"
    },
    "papermill": {
     "duration": 0.182975,
     "end_time": "2022-09-18T18:23:12.355197",
     "exception": false,
     "start_time": "2022-09-18T18:23:12.172222",
     "status": "completed"
    },
    "tags": []
   },
   "outputs": [
    {
     "data": {
      "text/html": [
       "<div>\n",
       "<style scoped>\n",
       "    .dataframe tbody tr th:only-of-type {\n",
       "        vertical-align: middle;\n",
       "    }\n",
       "\n",
       "    .dataframe tbody tr th {\n",
       "        vertical-align: top;\n",
       "    }\n",
       "\n",
       "    .dataframe thead th {\n",
       "        text-align: right;\n",
       "    }\n",
       "</style>\n",
       "<table border=\"1\" class=\"dataframe\">\n",
       "  <thead>\n",
       "    <tr style=\"text-align: right;\">\n",
       "      <th></th>\n",
       "      <th>duration</th>\n",
       "      <th>src_bytes</th>\n",
       "      <th>dst_bytes</th>\n",
       "      <th>land</th>\n",
       "      <th>wrong_fragment</th>\n",
       "      <th>urgent</th>\n",
       "      <th>hot</th>\n",
       "      <th>num_failed_logins</th>\n",
       "      <th>logged_in</th>\n",
       "      <th>num_compromised</th>\n",
       "      <th>...</th>\n",
       "      <th>dst_host_srv_count</th>\n",
       "      <th>dst_host_same_srv_rate</th>\n",
       "      <th>dst_host_diff_srv_rate</th>\n",
       "      <th>dst_host_same_src_port_rate</th>\n",
       "      <th>dst_host_srv_diff_host_rate</th>\n",
       "      <th>dst_host_serror_rate</th>\n",
       "      <th>dst_host_srv_serror_rate</th>\n",
       "      <th>dst_host_rerror_rate</th>\n",
       "      <th>dst_host_srv_rerror_rate</th>\n",
       "      <th>level</th>\n",
       "    </tr>\n",
       "  </thead>\n",
       "  <tbody>\n",
       "    <tr>\n",
       "      <th>count</th>\n",
       "      <td>22543.000000</td>\n",
       "      <td>2.254300e+04</td>\n",
       "      <td>2.254300e+04</td>\n",
       "      <td>22543.000000</td>\n",
       "      <td>22543.000000</td>\n",
       "      <td>22543.000000</td>\n",
       "      <td>22543.000000</td>\n",
       "      <td>22543.000000</td>\n",
       "      <td>22543.000000</td>\n",
       "      <td>22543.000000</td>\n",
       "      <td>...</td>\n",
       "      <td>22543.000000</td>\n",
       "      <td>22543.000000</td>\n",
       "      <td>22543.000000</td>\n",
       "      <td>22543.000000</td>\n",
       "      <td>22543.000000</td>\n",
       "      <td>22543.000000</td>\n",
       "      <td>22543.000000</td>\n",
       "      <td>22543.000000</td>\n",
       "      <td>22543.000000</td>\n",
       "      <td>22543.000000</td>\n",
       "    </tr>\n",
       "    <tr>\n",
       "      <th>mean</th>\n",
       "      <td>218.868784</td>\n",
       "      <td>1.039591e+04</td>\n",
       "      <td>2.056110e+03</td>\n",
       "      <td>0.000311</td>\n",
       "      <td>0.008428</td>\n",
       "      <td>0.000710</td>\n",
       "      <td>0.105399</td>\n",
       "      <td>0.021648</td>\n",
       "      <td>0.442222</td>\n",
       "      <td>0.119904</td>\n",
       "      <td>...</td>\n",
       "      <td>140.756332</td>\n",
       "      <td>0.608747</td>\n",
       "      <td>0.090541</td>\n",
       "      <td>0.132267</td>\n",
       "      <td>0.019639</td>\n",
       "      <td>0.097818</td>\n",
       "      <td>0.099430</td>\n",
       "      <td>0.233351</td>\n",
       "      <td>0.226649</td>\n",
       "      <td>18.017833</td>\n",
       "    </tr>\n",
       "    <tr>\n",
       "      <th>std</th>\n",
       "      <td>1407.207069</td>\n",
       "      <td>4.727969e+05</td>\n",
       "      <td>2.121976e+04</td>\n",
       "      <td>0.017619</td>\n",
       "      <td>0.142602</td>\n",
       "      <td>0.036474</td>\n",
       "      <td>0.928448</td>\n",
       "      <td>0.150331</td>\n",
       "      <td>0.496661</td>\n",
       "      <td>7.269758</td>\n",
       "      <td>...</td>\n",
       "      <td>111.783059</td>\n",
       "      <td>0.435681</td>\n",
       "      <td>0.220722</td>\n",
       "      <td>0.306274</td>\n",
       "      <td>0.085396</td>\n",
       "      <td>0.273144</td>\n",
       "      <td>0.281872</td>\n",
       "      <td>0.387204</td>\n",
       "      <td>0.400851</td>\n",
       "      <td>4.270409</td>\n",
       "    </tr>\n",
       "    <tr>\n",
       "      <th>min</th>\n",
       "      <td>0.000000</td>\n",
       "      <td>0.000000e+00</td>\n",
       "      <td>0.000000e+00</td>\n",
       "      <td>0.000000</td>\n",
       "      <td>0.000000</td>\n",
       "      <td>0.000000</td>\n",
       "      <td>0.000000</td>\n",
       "      <td>0.000000</td>\n",
       "      <td>0.000000</td>\n",
       "      <td>0.000000</td>\n",
       "      <td>...</td>\n",
       "      <td>0.000000</td>\n",
       "      <td>0.000000</td>\n",
       "      <td>0.000000</td>\n",
       "      <td>0.000000</td>\n",
       "      <td>0.000000</td>\n",
       "      <td>0.000000</td>\n",
       "      <td>0.000000</td>\n",
       "      <td>0.000000</td>\n",
       "      <td>0.000000</td>\n",
       "      <td>0.000000</td>\n",
       "    </tr>\n",
       "    <tr>\n",
       "      <th>25%</th>\n",
       "      <td>0.000000</td>\n",
       "      <td>0.000000e+00</td>\n",
       "      <td>0.000000e+00</td>\n",
       "      <td>0.000000</td>\n",
       "      <td>0.000000</td>\n",
       "      <td>0.000000</td>\n",
       "      <td>0.000000</td>\n",
       "      <td>0.000000</td>\n",
       "      <td>0.000000</td>\n",
       "      <td>0.000000</td>\n",
       "      <td>...</td>\n",
       "      <td>15.000000</td>\n",
       "      <td>0.070000</td>\n",
       "      <td>0.000000</td>\n",
       "      <td>0.000000</td>\n",
       "      <td>0.000000</td>\n",
       "      <td>0.000000</td>\n",
       "      <td>0.000000</td>\n",
       "      <td>0.000000</td>\n",
       "      <td>0.000000</td>\n",
       "      <td>17.000000</td>\n",
       "    </tr>\n",
       "    <tr>\n",
       "      <th>50%</th>\n",
       "      <td>0.000000</td>\n",
       "      <td>5.400000e+01</td>\n",
       "      <td>4.600000e+01</td>\n",
       "      <td>0.000000</td>\n",
       "      <td>0.000000</td>\n",
       "      <td>0.000000</td>\n",
       "      <td>0.000000</td>\n",
       "      <td>0.000000</td>\n",
       "      <td>0.000000</td>\n",
       "      <td>0.000000</td>\n",
       "      <td>...</td>\n",
       "      <td>168.000000</td>\n",
       "      <td>0.920000</td>\n",
       "      <td>0.010000</td>\n",
       "      <td>0.000000</td>\n",
       "      <td>0.000000</td>\n",
       "      <td>0.000000</td>\n",
       "      <td>0.000000</td>\n",
       "      <td>0.000000</td>\n",
       "      <td>0.000000</td>\n",
       "      <td>20.000000</td>\n",
       "    </tr>\n",
       "    <tr>\n",
       "      <th>75%</th>\n",
       "      <td>0.000000</td>\n",
       "      <td>2.870000e+02</td>\n",
       "      <td>6.010000e+02</td>\n",
       "      <td>0.000000</td>\n",
       "      <td>0.000000</td>\n",
       "      <td>0.000000</td>\n",
       "      <td>0.000000</td>\n",
       "      <td>0.000000</td>\n",
       "      <td>1.000000</td>\n",
       "      <td>0.000000</td>\n",
       "      <td>...</td>\n",
       "      <td>255.000000</td>\n",
       "      <td>1.000000</td>\n",
       "      <td>0.060000</td>\n",
       "      <td>0.030000</td>\n",
       "      <td>0.010000</td>\n",
       "      <td>0.000000</td>\n",
       "      <td>0.000000</td>\n",
       "      <td>0.360000</td>\n",
       "      <td>0.170000</td>\n",
       "      <td>21.000000</td>\n",
       "    </tr>\n",
       "    <tr>\n",
       "      <th>max</th>\n",
       "      <td>57715.000000</td>\n",
       "      <td>6.282565e+07</td>\n",
       "      <td>1.345927e+06</td>\n",
       "      <td>1.000000</td>\n",
       "      <td>3.000000</td>\n",
       "      <td>3.000000</td>\n",
       "      <td>101.000000</td>\n",
       "      <td>4.000000</td>\n",
       "      <td>1.000000</td>\n",
       "      <td>796.000000</td>\n",
       "      <td>...</td>\n",
       "      <td>255.000000</td>\n",
       "      <td>1.000000</td>\n",
       "      <td>1.000000</td>\n",
       "      <td>1.000000</td>\n",
       "      <td>1.000000</td>\n",
       "      <td>1.000000</td>\n",
       "      <td>1.000000</td>\n",
       "      <td>1.000000</td>\n",
       "      <td>1.000000</td>\n",
       "      <td>21.000000</td>\n",
       "    </tr>\n",
       "  </tbody>\n",
       "</table>\n",
       "<p>8 rows × 39 columns</p>\n",
       "</div>"
      ],
      "text/plain": [
       "           duration     src_bytes     dst_bytes          land  wrong_fragment  \\\n",
       "count  22543.000000  2.254300e+04  2.254300e+04  22543.000000    22543.000000   \n",
       "mean     218.868784  1.039591e+04  2.056110e+03      0.000311        0.008428   \n",
       "std     1407.207069  4.727969e+05  2.121976e+04      0.017619        0.142602   \n",
       "min        0.000000  0.000000e+00  0.000000e+00      0.000000        0.000000   \n",
       "25%        0.000000  0.000000e+00  0.000000e+00      0.000000        0.000000   \n",
       "50%        0.000000  5.400000e+01  4.600000e+01      0.000000        0.000000   \n",
       "75%        0.000000  2.870000e+02  6.010000e+02      0.000000        0.000000   \n",
       "max    57715.000000  6.282565e+07  1.345927e+06      1.000000        3.000000   \n",
       "\n",
       "             urgent           hot  num_failed_logins     logged_in  \\\n",
       "count  22543.000000  22543.000000       22543.000000  22543.000000   \n",
       "mean       0.000710      0.105399           0.021648      0.442222   \n",
       "std        0.036474      0.928448           0.150331      0.496661   \n",
       "min        0.000000      0.000000           0.000000      0.000000   \n",
       "25%        0.000000      0.000000           0.000000      0.000000   \n",
       "50%        0.000000      0.000000           0.000000      0.000000   \n",
       "75%        0.000000      0.000000           0.000000      1.000000   \n",
       "max        3.000000    101.000000           4.000000      1.000000   \n",
       "\n",
       "       num_compromised  ...  dst_host_srv_count  dst_host_same_srv_rate  \\\n",
       "count     22543.000000  ...        22543.000000            22543.000000   \n",
       "mean          0.119904  ...          140.756332                0.608747   \n",
       "std           7.269758  ...          111.783059                0.435681   \n",
       "min           0.000000  ...            0.000000                0.000000   \n",
       "25%           0.000000  ...           15.000000                0.070000   \n",
       "50%           0.000000  ...          168.000000                0.920000   \n",
       "75%           0.000000  ...          255.000000                1.000000   \n",
       "max         796.000000  ...          255.000000                1.000000   \n",
       "\n",
       "       dst_host_diff_srv_rate  dst_host_same_src_port_rate  \\\n",
       "count            22543.000000                 22543.000000   \n",
       "mean                 0.090541                     0.132267   \n",
       "std                  0.220722                     0.306274   \n",
       "min                  0.000000                     0.000000   \n",
       "25%                  0.000000                     0.000000   \n",
       "50%                  0.010000                     0.000000   \n",
       "75%                  0.060000                     0.030000   \n",
       "max                  1.000000                     1.000000   \n",
       "\n",
       "       dst_host_srv_diff_host_rate  dst_host_serror_rate  \\\n",
       "count                 22543.000000          22543.000000   \n",
       "mean                      0.019639              0.097818   \n",
       "std                       0.085396              0.273144   \n",
       "min                       0.000000              0.000000   \n",
       "25%                       0.000000              0.000000   \n",
       "50%                       0.000000              0.000000   \n",
       "75%                       0.010000              0.000000   \n",
       "max                       1.000000              1.000000   \n",
       "\n",
       "       dst_host_srv_serror_rate  dst_host_rerror_rate  \\\n",
       "count              22543.000000          22543.000000   \n",
       "mean                   0.099430              0.233351   \n",
       "std                    0.281872              0.387204   \n",
       "min                    0.000000              0.000000   \n",
       "25%                    0.000000              0.000000   \n",
       "50%                    0.000000              0.000000   \n",
       "75%                    0.000000              0.360000   \n",
       "max                    1.000000              1.000000   \n",
       "\n",
       "       dst_host_srv_rerror_rate         level  \n",
       "count              22543.000000  22543.000000  \n",
       "mean                   0.226649     18.017833  \n",
       "std                    0.400851      4.270409  \n",
       "min                    0.000000      0.000000  \n",
       "25%                    0.000000     17.000000  \n",
       "50%                    0.000000     20.000000  \n",
       "75%                    0.170000     21.000000  \n",
       "max                    1.000000     21.000000  \n",
       "\n",
       "[8 rows x 39 columns]"
      ]
     },
     "execution_count": 12,
     "metadata": {},
     "output_type": "execute_result"
    }
   ],
   "source": [
    "Tested_Data.describe()"
   ]
  },
  {
   "cell_type": "code",
   "execution_count": 13,
   "id": "9a2c7acc",
   "metadata": {
    "execution": {
     "iopub.execute_input": "2022-09-18T18:23:12.403813Z",
     "iopub.status.busy": "2022-09-18T18:23:12.403338Z",
     "iopub.status.idle": "2022-09-18T18:23:12.506321Z",
     "shell.execute_reply": "2022-09-18T18:23:12.505358Z"
    },
    "papermill": {
     "duration": 0.128872,
     "end_time": "2022-09-18T18:23:12.508424",
     "exception": false,
     "start_time": "2022-09-18T18:23:12.379552",
     "status": "completed"
    },
    "tags": []
   },
   "outputs": [
    {
     "data": {
      "text/plain": [
       "duration                       2981\n",
       "protocol_type                     3\n",
       "service                          70\n",
       "flag                             11\n",
       "src_bytes                      3341\n",
       "dst_bytes                      9326\n",
       "land                              2\n",
       "wrong_fragment                    3\n",
       "urgent                            4\n",
       "hot                              28\n",
       "num_failed_logins                 6\n",
       "logged_in                         2\n",
       "num_compromised                  88\n",
       "root_shell                        2\n",
       "su_attempted                      3\n",
       "num_root                         82\n",
       "num_file_creations               35\n",
       "num_shells                        3\n",
       "num_access_files                 10\n",
       "num_outbound_cmds                 1\n",
       "is_host_login                     2\n",
       "is_guest_login                    2\n",
       "count                           512\n",
       "srv_count                       509\n",
       "serror_rate                      89\n",
       "srv_serror_rate                  86\n",
       "rerror_rate                      82\n",
       "srv_rerror_rate                  62\n",
       "same_srv_rate                   101\n",
       "diff_srv_rate                    95\n",
       "srv_diff_host_rate               60\n",
       "dst_host_count                  256\n",
       "dst_host_srv_count              256\n",
       "dst_host_same_srv_rate          101\n",
       "dst_host_diff_srv_rate          101\n",
       "dst_host_same_src_port_rate     101\n",
       "dst_host_srv_diff_host_rate      75\n",
       "dst_host_serror_rate            101\n",
       "dst_host_srv_serror_rate        100\n",
       "dst_host_rerror_rate            101\n",
       "dst_host_srv_rerror_rate        101\n",
       "attack                           23\n",
       "level                            22\n",
       "dtype: int64"
      ]
     },
     "execution_count": 13,
     "metadata": {},
     "output_type": "execute_result"
    }
   ],
   "source": [
    "Trained_Data.nunique()"
   ]
  },
  {
   "cell_type": "code",
   "execution_count": 14,
   "id": "29a0d853",
   "metadata": {
    "execution": {
     "iopub.execute_input": "2022-09-18T18:23:12.541378Z",
     "iopub.status.busy": "2022-09-18T18:23:12.541065Z",
     "iopub.status.idle": "2022-09-18T18:23:12.563679Z",
     "shell.execute_reply": "2022-09-18T18:23:12.562681Z"
    },
    "papermill": {
     "duration": 0.041146,
     "end_time": "2022-09-18T18:23:12.565783",
     "exception": false,
     "start_time": "2022-09-18T18:23:12.524637",
     "status": "completed"
    },
    "tags": []
   },
   "outputs": [
    {
     "data": {
      "text/plain": [
       "duration                        624\n",
       "protocol_type                     3\n",
       "service                          64\n",
       "flag                             11\n",
       "src_bytes                      1149\n",
       "dst_bytes                      3650\n",
       "land                              2\n",
       "wrong_fragment                    3\n",
       "urgent                            4\n",
       "hot                              16\n",
       "num_failed_logins                 5\n",
       "logged_in                         2\n",
       "num_compromised                  23\n",
       "root_shell                        2\n",
       "su_attempted                      3\n",
       "num_root                         20\n",
       "num_file_creations                9\n",
       "num_shells                        4\n",
       "num_access_files                  5\n",
       "num_outbound_cmds                 1\n",
       "is_host_login                     2\n",
       "is_guest_login                    2\n",
       "count                           495\n",
       "srv_count                       457\n",
       "serror_rate                      88\n",
       "srv_serror_rate                  82\n",
       "rerror_rate                      90\n",
       "srv_rerror_rate                  93\n",
       "same_srv_rate                    75\n",
       "diff_srv_rate                    99\n",
       "srv_diff_host_rate               84\n",
       "dst_host_count                  256\n",
       "dst_host_srv_count              256\n",
       "dst_host_same_srv_rate          101\n",
       "dst_host_diff_srv_rate          101\n",
       "dst_host_same_src_port_rate     101\n",
       "dst_host_srv_diff_host_rate      58\n",
       "dst_host_serror_rate             99\n",
       "dst_host_srv_serror_rate        101\n",
       "dst_host_rerror_rate            101\n",
       "dst_host_srv_rerror_rate        100\n",
       "attack                           38\n",
       "level                            22\n",
       "dtype: int64"
      ]
     },
     "execution_count": 14,
     "metadata": {},
     "output_type": "execute_result"
    }
   ],
   "source": [
    "Tested_Data.nunique()"
   ]
  },
  {
   "cell_type": "code",
   "execution_count": 15,
   "id": "817ac00c",
   "metadata": {
    "execution": {
     "iopub.execute_input": "2022-09-18T18:23:12.598230Z",
     "iopub.status.busy": "2022-09-18T18:23:12.597966Z",
     "iopub.status.idle": "2022-09-18T18:23:12.641548Z",
     "shell.execute_reply": "2022-09-18T18:23:12.640559Z"
    },
    "papermill": {
     "duration": 0.062064,
     "end_time": "2022-09-18T18:23:12.643714",
     "exception": false,
     "start_time": "2022-09-18T18:23:12.581650",
     "status": "completed"
    },
    "tags": []
   },
   "outputs": [
    {
     "data": {
      "text/plain": [
       "duration                             42908\n",
       "protocol_type                          udp\n",
       "service                              whois\n",
       "flag                                    SH\n",
       "src_bytes                       1379963888\n",
       "dst_bytes                       1309937401\n",
       "land                                     1\n",
       "wrong_fragment                           3\n",
       "urgent                                   3\n",
       "hot                                     77\n",
       "num_failed_logins                        5\n",
       "logged_in                                1\n",
       "num_compromised                       7479\n",
       "root_shell                               1\n",
       "su_attempted                             2\n",
       "num_root                              7468\n",
       "num_file_creations                      43\n",
       "num_shells                               2\n",
       "num_access_files                         9\n",
       "num_outbound_cmds                        0\n",
       "is_host_login                            1\n",
       "is_guest_login                           1\n",
       "count                                  511\n",
       "srv_count                              511\n",
       "serror_rate                            1.0\n",
       "srv_serror_rate                        1.0\n",
       "rerror_rate                            1.0\n",
       "srv_rerror_rate                        1.0\n",
       "same_srv_rate                          1.0\n",
       "diff_srv_rate                          1.0\n",
       "srv_diff_host_rate                     1.0\n",
       "dst_host_count                         255\n",
       "dst_host_srv_count                     255\n",
       "dst_host_same_srv_rate                 1.0\n",
       "dst_host_diff_srv_rate                 1.0\n",
       "dst_host_same_src_port_rate            1.0\n",
       "dst_host_srv_diff_host_rate            1.0\n",
       "dst_host_serror_rate                   1.0\n",
       "dst_host_srv_serror_rate               1.0\n",
       "dst_host_rerror_rate                   1.0\n",
       "dst_host_srv_rerror_rate               1.0\n",
       "attack                         warezmaster\n",
       "level                                   21\n",
       "dtype: object"
      ]
     },
     "execution_count": 15,
     "metadata": {},
     "output_type": "execute_result"
    }
   ],
   "source": [
    "Trained_Data.max()"
   ]
  },
  {
   "cell_type": "code",
   "execution_count": 16,
   "id": "64584015",
   "metadata": {
    "execution": {
     "iopub.execute_input": "2022-09-18T18:23:12.677351Z",
     "iopub.status.busy": "2022-09-18T18:23:12.677074Z",
     "iopub.status.idle": "2022-09-18T18:23:12.692056Z",
     "shell.execute_reply": "2022-09-18T18:23:12.691058Z"
    },
    "papermill": {
     "duration": 0.034185,
     "end_time": "2022-09-18T18:23:12.693973",
     "exception": false,
     "start_time": "2022-09-18T18:23:12.659788",
     "status": "completed"
    },
    "tags": []
   },
   "outputs": [
    {
     "data": {
      "text/plain": [
       "duration                          57715\n",
       "protocol_type                       udp\n",
       "service                           whois\n",
       "flag                                 SH\n",
       "src_bytes                      62825648\n",
       "dst_bytes                       1345927\n",
       "land                                  1\n",
       "wrong_fragment                        3\n",
       "urgent                                3\n",
       "hot                                 101\n",
       "num_failed_logins                     4\n",
       "logged_in                             1\n",
       "num_compromised                     796\n",
       "root_shell                            1\n",
       "su_attempted                          2\n",
       "num_root                            878\n",
       "num_file_creations                  100\n",
       "num_shells                            5\n",
       "num_access_files                      4\n",
       "num_outbound_cmds                     0\n",
       "is_host_login                         1\n",
       "is_guest_login                        1\n",
       "count                               511\n",
       "srv_count                           511\n",
       "serror_rate                         1.0\n",
       "srv_serror_rate                     1.0\n",
       "rerror_rate                         1.0\n",
       "srv_rerror_rate                     1.0\n",
       "same_srv_rate                       1.0\n",
       "diff_srv_rate                       1.0\n",
       "srv_diff_host_rate                  1.0\n",
       "dst_host_count                      255\n",
       "dst_host_srv_count                  255\n",
       "dst_host_same_srv_rate              1.0\n",
       "dst_host_diff_srv_rate              1.0\n",
       "dst_host_same_src_port_rate         1.0\n",
       "dst_host_srv_diff_host_rate         1.0\n",
       "dst_host_serror_rate                1.0\n",
       "dst_host_srv_serror_rate            1.0\n",
       "dst_host_rerror_rate                1.0\n",
       "dst_host_srv_rerror_rate            1.0\n",
       "attack                            xterm\n",
       "level                                21\n",
       "dtype: object"
      ]
     },
     "execution_count": 16,
     "metadata": {},
     "output_type": "execute_result"
    }
   ],
   "source": [
    "Tested_Data.max()"
   ]
  },
  {
   "cell_type": "markdown",
   "id": "6df655ef",
   "metadata": {
    "papermill": {
     "duration": 0.01597,
     "end_time": "2022-09-18T18:23:12.725976",
     "exception": false,
     "start_time": "2022-09-18T18:23:12.710006",
     "status": "completed"
    },
    "tags": []
   },
   "source": [
    "-----\n",
    "### Exploring Responses"
   ]
  },
  {
   "cell_type": "code",
   "execution_count": 17,
   "id": "f6a1116d",
   "metadata": {
    "execution": {
     "iopub.execute_input": "2022-09-18T18:23:12.759442Z",
     "iopub.status.busy": "2022-09-18T18:23:12.759078Z",
     "iopub.status.idle": "2022-09-18T18:23:12.767642Z",
     "shell.execute_reply": "2022-09-18T18:23:12.766731Z"
    },
    "papermill": {
     "duration": 0.027619,
     "end_time": "2022-09-18T18:23:12.769642",
     "exception": false,
     "start_time": "2022-09-18T18:23:12.742023",
     "status": "completed"
    },
    "tags": []
   },
   "outputs": [
    {
     "name": "stdout",
     "output_type": "stream",
     "text": [
      "{'land', 'ftp_write', 'back', 'imap', 'spy', 'guess_passwd', 'portsweep', 'buffer_overflow', 'smurf', 'neptune', 'teardrop', 'multihop', 'warezclient', 'satan', 'rootkit', 'normal', 'nmap', 'phf', 'pod', 'perl', 'loadmodule', 'warezmaster', 'ipsweep'} "
     ]
    }
   ],
   "source": [
    "Results = set(Trained_Data['attack'].values)\n",
    "print(Results,end=\" \")"
   ]
  },
  {
   "cell_type": "markdown",
   "id": "4f1bc644",
   "metadata": {
    "papermill": {
     "duration": 0.016383,
     "end_time": "2022-09-18T18:23:12.802602",
     "exception": false,
     "start_time": "2022-09-18T18:23:12.786219",
     "status": "completed"
    },
    "tags": []
   },
   "source": [
    "## Classifying The Attack Results"
   ]
  },
  {
   "cell_type": "code",
   "execution_count": 18,
   "id": "2af8cbf4",
   "metadata": {
    "execution": {
     "iopub.execute_input": "2022-09-18T18:23:12.836849Z",
     "iopub.status.busy": "2022-09-18T18:23:12.836049Z",
     "iopub.status.idle": "2022-09-18T18:23:12.890947Z",
     "shell.execute_reply": "2022-09-18T18:23:12.890121Z"
    },
    "papermill": {
     "duration": 0.074263,
     "end_time": "2022-09-18T18:23:12.893109",
     "exception": false,
     "start_time": "2022-09-18T18:23:12.818846",
     "status": "completed"
    },
    "tags": []
   },
   "outputs": [],
   "source": [
    "Trained_attack = Trained_Data.attack.map(lambda a: 0 if a == 'normal' else 1)\n",
    "Tested_attack = Tested_Data.attack.map(lambda a: 0 if a == 'normal' else 1)\n",
    "\n",
    "Trained_Data['attack_state'] = Trained_attack\n",
    "Tested_Data['attack_state'] = Tested_attack"
   ]
  },
  {
   "cell_type": "code",
   "execution_count": 19,
   "id": "20760110",
   "metadata": {
    "execution": {
     "iopub.execute_input": "2022-09-18T18:23:12.927823Z",
     "iopub.status.busy": "2022-09-18T18:23:12.926288Z",
     "iopub.status.idle": "2022-09-18T18:23:12.951212Z",
     "shell.execute_reply": "2022-09-18T18:23:12.950343Z"
    },
    "papermill": {
     "duration": 0.044061,
     "end_time": "2022-09-18T18:23:12.953206",
     "exception": false,
     "start_time": "2022-09-18T18:23:12.909145",
     "status": "completed"
    },
    "tags": []
   },
   "outputs": [
    {
     "data": {
      "text/html": [
       "<div>\n",
       "<style scoped>\n",
       "    .dataframe tbody tr th:only-of-type {\n",
       "        vertical-align: middle;\n",
       "    }\n",
       "\n",
       "    .dataframe tbody tr th {\n",
       "        vertical-align: top;\n",
       "    }\n",
       "\n",
       "    .dataframe thead th {\n",
       "        text-align: right;\n",
       "    }\n",
       "</style>\n",
       "<table border=\"1\" class=\"dataframe\">\n",
       "  <thead>\n",
       "    <tr style=\"text-align: right;\">\n",
       "      <th></th>\n",
       "      <th>duration</th>\n",
       "      <th>protocol_type</th>\n",
       "      <th>service</th>\n",
       "      <th>flag</th>\n",
       "      <th>src_bytes</th>\n",
       "      <th>dst_bytes</th>\n",
       "      <th>land</th>\n",
       "      <th>wrong_fragment</th>\n",
       "      <th>urgent</th>\n",
       "      <th>hot</th>\n",
       "      <th>...</th>\n",
       "      <th>dst_host_diff_srv_rate</th>\n",
       "      <th>dst_host_same_src_port_rate</th>\n",
       "      <th>dst_host_srv_diff_host_rate</th>\n",
       "      <th>dst_host_serror_rate</th>\n",
       "      <th>dst_host_srv_serror_rate</th>\n",
       "      <th>dst_host_rerror_rate</th>\n",
       "      <th>dst_host_srv_rerror_rate</th>\n",
       "      <th>attack</th>\n",
       "      <th>level</th>\n",
       "      <th>attack_state</th>\n",
       "    </tr>\n",
       "  </thead>\n",
       "  <tbody>\n",
       "    <tr>\n",
       "      <th>0</th>\n",
       "      <td>0</td>\n",
       "      <td>udp</td>\n",
       "      <td>other</td>\n",
       "      <td>SF</td>\n",
       "      <td>146</td>\n",
       "      <td>0</td>\n",
       "      <td>0</td>\n",
       "      <td>0</td>\n",
       "      <td>0</td>\n",
       "      <td>0</td>\n",
       "      <td>...</td>\n",
       "      <td>0.60</td>\n",
       "      <td>0.88</td>\n",
       "      <td>0.00</td>\n",
       "      <td>0.00</td>\n",
       "      <td>0.00</td>\n",
       "      <td>0.0</td>\n",
       "      <td>0.00</td>\n",
       "      <td>normal</td>\n",
       "      <td>15</td>\n",
       "      <td>0</td>\n",
       "    </tr>\n",
       "    <tr>\n",
       "      <th>1</th>\n",
       "      <td>0</td>\n",
       "      <td>tcp</td>\n",
       "      <td>private</td>\n",
       "      <td>S0</td>\n",
       "      <td>0</td>\n",
       "      <td>0</td>\n",
       "      <td>0</td>\n",
       "      <td>0</td>\n",
       "      <td>0</td>\n",
       "      <td>0</td>\n",
       "      <td>...</td>\n",
       "      <td>0.05</td>\n",
       "      <td>0.00</td>\n",
       "      <td>0.00</td>\n",
       "      <td>1.00</td>\n",
       "      <td>1.00</td>\n",
       "      <td>0.0</td>\n",
       "      <td>0.00</td>\n",
       "      <td>neptune</td>\n",
       "      <td>19</td>\n",
       "      <td>1</td>\n",
       "    </tr>\n",
       "    <tr>\n",
       "      <th>2</th>\n",
       "      <td>0</td>\n",
       "      <td>tcp</td>\n",
       "      <td>http</td>\n",
       "      <td>SF</td>\n",
       "      <td>232</td>\n",
       "      <td>8153</td>\n",
       "      <td>0</td>\n",
       "      <td>0</td>\n",
       "      <td>0</td>\n",
       "      <td>0</td>\n",
       "      <td>...</td>\n",
       "      <td>0.00</td>\n",
       "      <td>0.03</td>\n",
       "      <td>0.04</td>\n",
       "      <td>0.03</td>\n",
       "      <td>0.01</td>\n",
       "      <td>0.0</td>\n",
       "      <td>0.01</td>\n",
       "      <td>normal</td>\n",
       "      <td>21</td>\n",
       "      <td>0</td>\n",
       "    </tr>\n",
       "    <tr>\n",
       "      <th>3</th>\n",
       "      <td>0</td>\n",
       "      <td>tcp</td>\n",
       "      <td>http</td>\n",
       "      <td>SF</td>\n",
       "      <td>199</td>\n",
       "      <td>420</td>\n",
       "      <td>0</td>\n",
       "      <td>0</td>\n",
       "      <td>0</td>\n",
       "      <td>0</td>\n",
       "      <td>...</td>\n",
       "      <td>0.00</td>\n",
       "      <td>0.00</td>\n",
       "      <td>0.00</td>\n",
       "      <td>0.00</td>\n",
       "      <td>0.00</td>\n",
       "      <td>0.0</td>\n",
       "      <td>0.00</td>\n",
       "      <td>normal</td>\n",
       "      <td>21</td>\n",
       "      <td>0</td>\n",
       "    </tr>\n",
       "    <tr>\n",
       "      <th>4</th>\n",
       "      <td>0</td>\n",
       "      <td>tcp</td>\n",
       "      <td>private</td>\n",
       "      <td>REJ</td>\n",
       "      <td>0</td>\n",
       "      <td>0</td>\n",
       "      <td>0</td>\n",
       "      <td>0</td>\n",
       "      <td>0</td>\n",
       "      <td>0</td>\n",
       "      <td>...</td>\n",
       "      <td>0.07</td>\n",
       "      <td>0.00</td>\n",
       "      <td>0.00</td>\n",
       "      <td>0.00</td>\n",
       "      <td>0.00</td>\n",
       "      <td>1.0</td>\n",
       "      <td>1.00</td>\n",
       "      <td>neptune</td>\n",
       "      <td>21</td>\n",
       "      <td>1</td>\n",
       "    </tr>\n",
       "    <tr>\n",
       "      <th>5</th>\n",
       "      <td>0</td>\n",
       "      <td>tcp</td>\n",
       "      <td>private</td>\n",
       "      <td>S0</td>\n",
       "      <td>0</td>\n",
       "      <td>0</td>\n",
       "      <td>0</td>\n",
       "      <td>0</td>\n",
       "      <td>0</td>\n",
       "      <td>0</td>\n",
       "      <td>...</td>\n",
       "      <td>0.05</td>\n",
       "      <td>0.00</td>\n",
       "      <td>0.00</td>\n",
       "      <td>1.00</td>\n",
       "      <td>1.00</td>\n",
       "      <td>0.0</td>\n",
       "      <td>0.00</td>\n",
       "      <td>neptune</td>\n",
       "      <td>21</td>\n",
       "      <td>1</td>\n",
       "    </tr>\n",
       "    <tr>\n",
       "      <th>6</th>\n",
       "      <td>0</td>\n",
       "      <td>tcp</td>\n",
       "      <td>private</td>\n",
       "      <td>S0</td>\n",
       "      <td>0</td>\n",
       "      <td>0</td>\n",
       "      <td>0</td>\n",
       "      <td>0</td>\n",
       "      <td>0</td>\n",
       "      <td>0</td>\n",
       "      <td>...</td>\n",
       "      <td>0.07</td>\n",
       "      <td>0.00</td>\n",
       "      <td>0.00</td>\n",
       "      <td>1.00</td>\n",
       "      <td>1.00</td>\n",
       "      <td>0.0</td>\n",
       "      <td>0.00</td>\n",
       "      <td>neptune</td>\n",
       "      <td>21</td>\n",
       "      <td>1</td>\n",
       "    </tr>\n",
       "    <tr>\n",
       "      <th>7</th>\n",
       "      <td>0</td>\n",
       "      <td>tcp</td>\n",
       "      <td>remote_job</td>\n",
       "      <td>S0</td>\n",
       "      <td>0</td>\n",
       "      <td>0</td>\n",
       "      <td>0</td>\n",
       "      <td>0</td>\n",
       "      <td>0</td>\n",
       "      <td>0</td>\n",
       "      <td>...</td>\n",
       "      <td>0.05</td>\n",
       "      <td>0.00</td>\n",
       "      <td>0.00</td>\n",
       "      <td>1.00</td>\n",
       "      <td>1.00</td>\n",
       "      <td>0.0</td>\n",
       "      <td>0.00</td>\n",
       "      <td>neptune</td>\n",
       "      <td>21</td>\n",
       "      <td>1</td>\n",
       "    </tr>\n",
       "    <tr>\n",
       "      <th>8</th>\n",
       "      <td>0</td>\n",
       "      <td>tcp</td>\n",
       "      <td>private</td>\n",
       "      <td>S0</td>\n",
       "      <td>0</td>\n",
       "      <td>0</td>\n",
       "      <td>0</td>\n",
       "      <td>0</td>\n",
       "      <td>0</td>\n",
       "      <td>0</td>\n",
       "      <td>...</td>\n",
       "      <td>0.06</td>\n",
       "      <td>0.00</td>\n",
       "      <td>0.00</td>\n",
       "      <td>1.00</td>\n",
       "      <td>1.00</td>\n",
       "      <td>0.0</td>\n",
       "      <td>0.00</td>\n",
       "      <td>neptune</td>\n",
       "      <td>21</td>\n",
       "      <td>1</td>\n",
       "    </tr>\n",
       "    <tr>\n",
       "      <th>9</th>\n",
       "      <td>0</td>\n",
       "      <td>tcp</td>\n",
       "      <td>private</td>\n",
       "      <td>REJ</td>\n",
       "      <td>0</td>\n",
       "      <td>0</td>\n",
       "      <td>0</td>\n",
       "      <td>0</td>\n",
       "      <td>0</td>\n",
       "      <td>0</td>\n",
       "      <td>...</td>\n",
       "      <td>0.07</td>\n",
       "      <td>0.00</td>\n",
       "      <td>0.00</td>\n",
       "      <td>0.00</td>\n",
       "      <td>0.00</td>\n",
       "      <td>1.0</td>\n",
       "      <td>1.00</td>\n",
       "      <td>neptune</td>\n",
       "      <td>21</td>\n",
       "      <td>1</td>\n",
       "    </tr>\n",
       "  </tbody>\n",
       "</table>\n",
       "<p>10 rows × 44 columns</p>\n",
       "</div>"
      ],
      "text/plain": [
       "   duration protocol_type     service flag  src_bytes  dst_bytes  land  \\\n",
       "0         0           udp       other   SF        146          0     0   \n",
       "1         0           tcp     private   S0          0          0     0   \n",
       "2         0           tcp        http   SF        232       8153     0   \n",
       "3         0           tcp        http   SF        199        420     0   \n",
       "4         0           tcp     private  REJ          0          0     0   \n",
       "5         0           tcp     private   S0          0          0     0   \n",
       "6         0           tcp     private   S0          0          0     0   \n",
       "7         0           tcp  remote_job   S0          0          0     0   \n",
       "8         0           tcp     private   S0          0          0     0   \n",
       "9         0           tcp     private  REJ          0          0     0   \n",
       "\n",
       "   wrong_fragment  urgent  hot  ...  dst_host_diff_srv_rate  \\\n",
       "0               0       0    0  ...                    0.60   \n",
       "1               0       0    0  ...                    0.05   \n",
       "2               0       0    0  ...                    0.00   \n",
       "3               0       0    0  ...                    0.00   \n",
       "4               0       0    0  ...                    0.07   \n",
       "5               0       0    0  ...                    0.05   \n",
       "6               0       0    0  ...                    0.07   \n",
       "7               0       0    0  ...                    0.05   \n",
       "8               0       0    0  ...                    0.06   \n",
       "9               0       0    0  ...                    0.07   \n",
       "\n",
       "   dst_host_same_src_port_rate  dst_host_srv_diff_host_rate  \\\n",
       "0                         0.88                         0.00   \n",
       "1                         0.00                         0.00   \n",
       "2                         0.03                         0.04   \n",
       "3                         0.00                         0.00   \n",
       "4                         0.00                         0.00   \n",
       "5                         0.00                         0.00   \n",
       "6                         0.00                         0.00   \n",
       "7                         0.00                         0.00   \n",
       "8                         0.00                         0.00   \n",
       "9                         0.00                         0.00   \n",
       "\n",
       "   dst_host_serror_rate  dst_host_srv_serror_rate  dst_host_rerror_rate  \\\n",
       "0                  0.00                      0.00                   0.0   \n",
       "1                  1.00                      1.00                   0.0   \n",
       "2                  0.03                      0.01                   0.0   \n",
       "3                  0.00                      0.00                   0.0   \n",
       "4                  0.00                      0.00                   1.0   \n",
       "5                  1.00                      1.00                   0.0   \n",
       "6                  1.00                      1.00                   0.0   \n",
       "7                  1.00                      1.00                   0.0   \n",
       "8                  1.00                      1.00                   0.0   \n",
       "9                  0.00                      0.00                   1.0   \n",
       "\n",
       "   dst_host_srv_rerror_rate   attack  level  attack_state  \n",
       "0                      0.00   normal     15             0  \n",
       "1                      0.00  neptune     19             1  \n",
       "2                      0.01   normal     21             0  \n",
       "3                      0.00   normal     21             0  \n",
       "4                      1.00  neptune     21             1  \n",
       "5                      0.00  neptune     21             1  \n",
       "6                      0.00  neptune     21             1  \n",
       "7                      0.00  neptune     21             1  \n",
       "8                      0.00  neptune     21             1  \n",
       "9                      1.00  neptune     21             1  \n",
       "\n",
       "[10 rows x 44 columns]"
      ]
     },
     "execution_count": 19,
     "metadata": {},
     "output_type": "execute_result"
    }
   ],
   "source": [
    "Trained_Data.head(10)"
   ]
  },
  {
   "cell_type": "code",
   "execution_count": 20,
   "id": "b262fb09",
   "metadata": {
    "execution": {
     "iopub.execute_input": "2022-09-18T18:23:12.988828Z",
     "iopub.status.busy": "2022-09-18T18:23:12.988087Z",
     "iopub.status.idle": "2022-09-18T18:23:13.010499Z",
     "shell.execute_reply": "2022-09-18T18:23:13.009657Z"
    },
    "papermill": {
     "duration": 0.042522,
     "end_time": "2022-09-18T18:23:13.012319",
     "exception": false,
     "start_time": "2022-09-18T18:23:12.969797",
     "status": "completed"
    },
    "tags": []
   },
   "outputs": [
    {
     "data": {
      "text/html": [
       "<div>\n",
       "<style scoped>\n",
       "    .dataframe tbody tr th:only-of-type {\n",
       "        vertical-align: middle;\n",
       "    }\n",
       "\n",
       "    .dataframe tbody tr th {\n",
       "        vertical-align: top;\n",
       "    }\n",
       "\n",
       "    .dataframe thead th {\n",
       "        text-align: right;\n",
       "    }\n",
       "</style>\n",
       "<table border=\"1\" class=\"dataframe\">\n",
       "  <thead>\n",
       "    <tr style=\"text-align: right;\">\n",
       "      <th></th>\n",
       "      <th>duration</th>\n",
       "      <th>protocol_type</th>\n",
       "      <th>service</th>\n",
       "      <th>flag</th>\n",
       "      <th>src_bytes</th>\n",
       "      <th>dst_bytes</th>\n",
       "      <th>land</th>\n",
       "      <th>wrong_fragment</th>\n",
       "      <th>urgent</th>\n",
       "      <th>hot</th>\n",
       "      <th>...</th>\n",
       "      <th>dst_host_diff_srv_rate</th>\n",
       "      <th>dst_host_same_src_port_rate</th>\n",
       "      <th>dst_host_srv_diff_host_rate</th>\n",
       "      <th>dst_host_serror_rate</th>\n",
       "      <th>dst_host_srv_serror_rate</th>\n",
       "      <th>dst_host_rerror_rate</th>\n",
       "      <th>dst_host_srv_rerror_rate</th>\n",
       "      <th>attack</th>\n",
       "      <th>level</th>\n",
       "      <th>attack_state</th>\n",
       "    </tr>\n",
       "  </thead>\n",
       "  <tbody>\n",
       "    <tr>\n",
       "      <th>0</th>\n",
       "      <td>0</td>\n",
       "      <td>tcp</td>\n",
       "      <td>private</td>\n",
       "      <td>REJ</td>\n",
       "      <td>0</td>\n",
       "      <td>0</td>\n",
       "      <td>0</td>\n",
       "      <td>0</td>\n",
       "      <td>0</td>\n",
       "      <td>0</td>\n",
       "      <td>...</td>\n",
       "      <td>0.06</td>\n",
       "      <td>0.00</td>\n",
       "      <td>0.00</td>\n",
       "      <td>0.00</td>\n",
       "      <td>0.00</td>\n",
       "      <td>1.00</td>\n",
       "      <td>1.00</td>\n",
       "      <td>neptune</td>\n",
       "      <td>21</td>\n",
       "      <td>1</td>\n",
       "    </tr>\n",
       "    <tr>\n",
       "      <th>1</th>\n",
       "      <td>2</td>\n",
       "      <td>tcp</td>\n",
       "      <td>ftp_data</td>\n",
       "      <td>SF</td>\n",
       "      <td>12983</td>\n",
       "      <td>0</td>\n",
       "      <td>0</td>\n",
       "      <td>0</td>\n",
       "      <td>0</td>\n",
       "      <td>0</td>\n",
       "      <td>...</td>\n",
       "      <td>0.04</td>\n",
       "      <td>0.61</td>\n",
       "      <td>0.02</td>\n",
       "      <td>0.00</td>\n",
       "      <td>0.00</td>\n",
       "      <td>0.00</td>\n",
       "      <td>0.00</td>\n",
       "      <td>normal</td>\n",
       "      <td>21</td>\n",
       "      <td>0</td>\n",
       "    </tr>\n",
       "    <tr>\n",
       "      <th>2</th>\n",
       "      <td>0</td>\n",
       "      <td>icmp</td>\n",
       "      <td>eco_i</td>\n",
       "      <td>SF</td>\n",
       "      <td>20</td>\n",
       "      <td>0</td>\n",
       "      <td>0</td>\n",
       "      <td>0</td>\n",
       "      <td>0</td>\n",
       "      <td>0</td>\n",
       "      <td>...</td>\n",
       "      <td>0.00</td>\n",
       "      <td>1.00</td>\n",
       "      <td>0.28</td>\n",
       "      <td>0.00</td>\n",
       "      <td>0.00</td>\n",
       "      <td>0.00</td>\n",
       "      <td>0.00</td>\n",
       "      <td>saint</td>\n",
       "      <td>15</td>\n",
       "      <td>1</td>\n",
       "    </tr>\n",
       "    <tr>\n",
       "      <th>3</th>\n",
       "      <td>1</td>\n",
       "      <td>tcp</td>\n",
       "      <td>telnet</td>\n",
       "      <td>RSTO</td>\n",
       "      <td>0</td>\n",
       "      <td>15</td>\n",
       "      <td>0</td>\n",
       "      <td>0</td>\n",
       "      <td>0</td>\n",
       "      <td>0</td>\n",
       "      <td>...</td>\n",
       "      <td>0.17</td>\n",
       "      <td>0.03</td>\n",
       "      <td>0.02</td>\n",
       "      <td>0.00</td>\n",
       "      <td>0.00</td>\n",
       "      <td>0.83</td>\n",
       "      <td>0.71</td>\n",
       "      <td>mscan</td>\n",
       "      <td>11</td>\n",
       "      <td>1</td>\n",
       "    </tr>\n",
       "    <tr>\n",
       "      <th>4</th>\n",
       "      <td>0</td>\n",
       "      <td>tcp</td>\n",
       "      <td>http</td>\n",
       "      <td>SF</td>\n",
       "      <td>267</td>\n",
       "      <td>14515</td>\n",
       "      <td>0</td>\n",
       "      <td>0</td>\n",
       "      <td>0</td>\n",
       "      <td>0</td>\n",
       "      <td>...</td>\n",
       "      <td>0.00</td>\n",
       "      <td>0.01</td>\n",
       "      <td>0.03</td>\n",
       "      <td>0.01</td>\n",
       "      <td>0.00</td>\n",
       "      <td>0.00</td>\n",
       "      <td>0.00</td>\n",
       "      <td>normal</td>\n",
       "      <td>21</td>\n",
       "      <td>0</td>\n",
       "    </tr>\n",
       "    <tr>\n",
       "      <th>5</th>\n",
       "      <td>0</td>\n",
       "      <td>tcp</td>\n",
       "      <td>smtp</td>\n",
       "      <td>SF</td>\n",
       "      <td>1022</td>\n",
       "      <td>387</td>\n",
       "      <td>0</td>\n",
       "      <td>0</td>\n",
       "      <td>0</td>\n",
       "      <td>0</td>\n",
       "      <td>...</td>\n",
       "      <td>0.72</td>\n",
       "      <td>0.00</td>\n",
       "      <td>0.00</td>\n",
       "      <td>0.00</td>\n",
       "      <td>0.00</td>\n",
       "      <td>0.72</td>\n",
       "      <td>0.04</td>\n",
       "      <td>normal</td>\n",
       "      <td>21</td>\n",
       "      <td>0</td>\n",
       "    </tr>\n",
       "    <tr>\n",
       "      <th>6</th>\n",
       "      <td>0</td>\n",
       "      <td>tcp</td>\n",
       "      <td>telnet</td>\n",
       "      <td>SF</td>\n",
       "      <td>129</td>\n",
       "      <td>174</td>\n",
       "      <td>0</td>\n",
       "      <td>0</td>\n",
       "      <td>0</td>\n",
       "      <td>0</td>\n",
       "      <td>...</td>\n",
       "      <td>0.00</td>\n",
       "      <td>0.00</td>\n",
       "      <td>0.00</td>\n",
       "      <td>0.01</td>\n",
       "      <td>0.01</td>\n",
       "      <td>0.02</td>\n",
       "      <td>0.02</td>\n",
       "      <td>guess_passwd</td>\n",
       "      <td>15</td>\n",
       "      <td>1</td>\n",
       "    </tr>\n",
       "    <tr>\n",
       "      <th>7</th>\n",
       "      <td>0</td>\n",
       "      <td>tcp</td>\n",
       "      <td>http</td>\n",
       "      <td>SF</td>\n",
       "      <td>327</td>\n",
       "      <td>467</td>\n",
       "      <td>0</td>\n",
       "      <td>0</td>\n",
       "      <td>0</td>\n",
       "      <td>0</td>\n",
       "      <td>...</td>\n",
       "      <td>0.00</td>\n",
       "      <td>0.01</td>\n",
       "      <td>0.03</td>\n",
       "      <td>0.00</td>\n",
       "      <td>0.00</td>\n",
       "      <td>0.00</td>\n",
       "      <td>0.00</td>\n",
       "      <td>normal</td>\n",
       "      <td>21</td>\n",
       "      <td>0</td>\n",
       "    </tr>\n",
       "    <tr>\n",
       "      <th>8</th>\n",
       "      <td>0</td>\n",
       "      <td>tcp</td>\n",
       "      <td>ftp</td>\n",
       "      <td>SF</td>\n",
       "      <td>26</td>\n",
       "      <td>157</td>\n",
       "      <td>0</td>\n",
       "      <td>0</td>\n",
       "      <td>0</td>\n",
       "      <td>0</td>\n",
       "      <td>...</td>\n",
       "      <td>0.08</td>\n",
       "      <td>0.02</td>\n",
       "      <td>0.00</td>\n",
       "      <td>0.00</td>\n",
       "      <td>0.00</td>\n",
       "      <td>0.00</td>\n",
       "      <td>0.00</td>\n",
       "      <td>guess_passwd</td>\n",
       "      <td>7</td>\n",
       "      <td>1</td>\n",
       "    </tr>\n",
       "    <tr>\n",
       "      <th>9</th>\n",
       "      <td>0</td>\n",
       "      <td>tcp</td>\n",
       "      <td>telnet</td>\n",
       "      <td>SF</td>\n",
       "      <td>0</td>\n",
       "      <td>0</td>\n",
       "      <td>0</td>\n",
       "      <td>0</td>\n",
       "      <td>0</td>\n",
       "      <td>0</td>\n",
       "      <td>...</td>\n",
       "      <td>0.01</td>\n",
       "      <td>0.00</td>\n",
       "      <td>0.00</td>\n",
       "      <td>0.00</td>\n",
       "      <td>0.00</td>\n",
       "      <td>0.66</td>\n",
       "      <td>0.32</td>\n",
       "      <td>mscan</td>\n",
       "      <td>9</td>\n",
       "      <td>1</td>\n",
       "    </tr>\n",
       "  </tbody>\n",
       "</table>\n",
       "<p>10 rows × 44 columns</p>\n",
       "</div>"
      ],
      "text/plain": [
       "   duration protocol_type   service  flag  src_bytes  dst_bytes  land  \\\n",
       "0         0           tcp   private   REJ          0          0     0   \n",
       "1         2           tcp  ftp_data    SF      12983          0     0   \n",
       "2         0          icmp     eco_i    SF         20          0     0   \n",
       "3         1           tcp    telnet  RSTO          0         15     0   \n",
       "4         0           tcp      http    SF        267      14515     0   \n",
       "5         0           tcp      smtp    SF       1022        387     0   \n",
       "6         0           tcp    telnet    SF        129        174     0   \n",
       "7         0           tcp      http    SF        327        467     0   \n",
       "8         0           tcp       ftp    SF         26        157     0   \n",
       "9         0           tcp    telnet    SF          0          0     0   \n",
       "\n",
       "   wrong_fragment  urgent  hot  ...  dst_host_diff_srv_rate  \\\n",
       "0               0       0    0  ...                    0.06   \n",
       "1               0       0    0  ...                    0.04   \n",
       "2               0       0    0  ...                    0.00   \n",
       "3               0       0    0  ...                    0.17   \n",
       "4               0       0    0  ...                    0.00   \n",
       "5               0       0    0  ...                    0.72   \n",
       "6               0       0    0  ...                    0.00   \n",
       "7               0       0    0  ...                    0.00   \n",
       "8               0       0    0  ...                    0.08   \n",
       "9               0       0    0  ...                    0.01   \n",
       "\n",
       "   dst_host_same_src_port_rate  dst_host_srv_diff_host_rate  \\\n",
       "0                         0.00                         0.00   \n",
       "1                         0.61                         0.02   \n",
       "2                         1.00                         0.28   \n",
       "3                         0.03                         0.02   \n",
       "4                         0.01                         0.03   \n",
       "5                         0.00                         0.00   \n",
       "6                         0.00                         0.00   \n",
       "7                         0.01                         0.03   \n",
       "8                         0.02                         0.00   \n",
       "9                         0.00                         0.00   \n",
       "\n",
       "   dst_host_serror_rate  dst_host_srv_serror_rate  dst_host_rerror_rate  \\\n",
       "0                  0.00                      0.00                  1.00   \n",
       "1                  0.00                      0.00                  0.00   \n",
       "2                  0.00                      0.00                  0.00   \n",
       "3                  0.00                      0.00                  0.83   \n",
       "4                  0.01                      0.00                  0.00   \n",
       "5                  0.00                      0.00                  0.72   \n",
       "6                  0.01                      0.01                  0.02   \n",
       "7                  0.00                      0.00                  0.00   \n",
       "8                  0.00                      0.00                  0.00   \n",
       "9                  0.00                      0.00                  0.66   \n",
       "\n",
       "   dst_host_srv_rerror_rate        attack  level  attack_state  \n",
       "0                      1.00       neptune     21             1  \n",
       "1                      0.00        normal     21             0  \n",
       "2                      0.00         saint     15             1  \n",
       "3                      0.71         mscan     11             1  \n",
       "4                      0.00        normal     21             0  \n",
       "5                      0.04        normal     21             0  \n",
       "6                      0.02  guess_passwd     15             1  \n",
       "7                      0.00        normal     21             0  \n",
       "8                      0.00  guess_passwd      7             1  \n",
       "9                      0.32         mscan      9             1  \n",
       "\n",
       "[10 rows x 44 columns]"
      ]
     },
     "execution_count": 20,
     "metadata": {},
     "output_type": "execute_result"
    }
   ],
   "source": [
    "Tested_Data.head(10)"
   ]
  },
  {
   "cell_type": "markdown",
   "id": "5a1b726d",
   "metadata": {
    "papermill": {
     "duration": 0.017192,
     "end_time": "2022-09-18T18:23:13.046354",
     "exception": false,
     "start_time": "2022-09-18T18:23:13.029162",
     "status": "completed"
    },
    "tags": []
   },
   "source": [
    "--------\n",
    "## Data preprocessing\n",
    "### Chechking for Missing Data"
   ]
  },
  {
   "cell_type": "code",
   "execution_count": 21,
   "id": "b33ea7cf",
   "metadata": {
    "execution": {
     "iopub.execute_input": "2022-09-18T18:23:13.081376Z",
     "iopub.status.busy": "2022-09-18T18:23:13.081113Z",
     "iopub.status.idle": "2022-09-18T18:23:13.112334Z",
     "shell.execute_reply": "2022-09-18T18:23:13.111394Z"
    },
    "papermill": {
     "duration": 0.051031,
     "end_time": "2022-09-18T18:23:13.114276",
     "exception": false,
     "start_time": "2022-09-18T18:23:13.063245",
     "status": "completed"
    },
    "tags": []
   },
   "outputs": [
    {
     "data": {
      "text/plain": [
       "duration                       0\n",
       "protocol_type                  0\n",
       "service                        0\n",
       "flag                           0\n",
       "src_bytes                      0\n",
       "dst_bytes                      0\n",
       "land                           0\n",
       "wrong_fragment                 0\n",
       "urgent                         0\n",
       "hot                            0\n",
       "num_failed_logins              0\n",
       "logged_in                      0\n",
       "num_compromised                0\n",
       "root_shell                     0\n",
       "su_attempted                   0\n",
       "num_root                       0\n",
       "num_file_creations             0\n",
       "num_shells                     0\n",
       "num_access_files               0\n",
       "num_outbound_cmds              0\n",
       "is_host_login                  0\n",
       "is_guest_login                 0\n",
       "count                          0\n",
       "srv_count                      0\n",
       "serror_rate                    0\n",
       "srv_serror_rate                0\n",
       "rerror_rate                    0\n",
       "srv_rerror_rate                0\n",
       "same_srv_rate                  0\n",
       "diff_srv_rate                  0\n",
       "srv_diff_host_rate             0\n",
       "dst_host_count                 0\n",
       "dst_host_srv_count             0\n",
       "dst_host_same_srv_rate         0\n",
       "dst_host_diff_srv_rate         0\n",
       "dst_host_same_src_port_rate    0\n",
       "dst_host_srv_diff_host_rate    0\n",
       "dst_host_serror_rate           0\n",
       "dst_host_srv_serror_rate       0\n",
       "dst_host_rerror_rate           0\n",
       "dst_host_srv_rerror_rate       0\n",
       "attack                         0\n",
       "level                          0\n",
       "attack_state                   0\n",
       "dtype: int64"
      ]
     },
     "execution_count": 21,
     "metadata": {},
     "output_type": "execute_result"
    }
   ],
   "source": [
    "Trained_Data.isnull().sum()"
   ]
  },
  {
   "cell_type": "code",
   "execution_count": 22,
   "id": "417f6c75",
   "metadata": {
    "execution": {
     "iopub.execute_input": "2022-09-18T18:23:13.151164Z",
     "iopub.status.busy": "2022-09-18T18:23:13.150383Z",
     "iopub.status.idle": "2022-09-18T18:23:13.162671Z",
     "shell.execute_reply": "2022-09-18T18:23:13.161772Z"
    },
    "papermill": {
     "duration": 0.03315,
     "end_time": "2022-09-18T18:23:13.164541",
     "exception": false,
     "start_time": "2022-09-18T18:23:13.131391",
     "status": "completed"
    },
    "tags": []
   },
   "outputs": [
    {
     "data": {
      "text/plain": [
       "duration                       0\n",
       "protocol_type                  0\n",
       "service                        0\n",
       "flag                           0\n",
       "src_bytes                      0\n",
       "dst_bytes                      0\n",
       "land                           0\n",
       "wrong_fragment                 0\n",
       "urgent                         0\n",
       "hot                            0\n",
       "num_failed_logins              0\n",
       "logged_in                      0\n",
       "num_compromised                0\n",
       "root_shell                     0\n",
       "su_attempted                   0\n",
       "num_root                       0\n",
       "num_file_creations             0\n",
       "num_shells                     0\n",
       "num_access_files               0\n",
       "num_outbound_cmds              0\n",
       "is_host_login                  0\n",
       "is_guest_login                 0\n",
       "count                          0\n",
       "srv_count                      0\n",
       "serror_rate                    0\n",
       "srv_serror_rate                0\n",
       "rerror_rate                    0\n",
       "srv_rerror_rate                0\n",
       "same_srv_rate                  0\n",
       "diff_srv_rate                  0\n",
       "srv_diff_host_rate             0\n",
       "dst_host_count                 0\n",
       "dst_host_srv_count             0\n",
       "dst_host_same_srv_rate         0\n",
       "dst_host_diff_srv_rate         0\n",
       "dst_host_same_src_port_rate    0\n",
       "dst_host_srv_diff_host_rate    0\n",
       "dst_host_serror_rate           0\n",
       "dst_host_srv_serror_rate       0\n",
       "dst_host_rerror_rate           0\n",
       "dst_host_srv_rerror_rate       0\n",
       "attack                         0\n",
       "level                          0\n",
       "attack_state                   0\n",
       "dtype: int64"
      ]
     },
     "execution_count": 22,
     "metadata": {},
     "output_type": "execute_result"
    }
   ],
   "source": [
    "Tested_Data.isnull().sum()"
   ]
  },
  {
   "cell_type": "markdown",
   "id": "5db9c1b6",
   "metadata": {
    "papermill": {
     "duration": 0.016954,
     "end_time": "2022-09-18T18:23:13.198836",
     "exception": false,
     "start_time": "2022-09-18T18:23:13.181882",
     "status": "completed"
    },
    "tags": []
   },
   "source": [
    "-----\n",
    "- **There is no missing data**"
   ]
  },
  {
   "cell_type": "markdown",
   "id": "757b3857",
   "metadata": {
    "papermill": {
     "duration": 0.01694,
     "end_time": "2022-09-18T18:23:13.232953",
     "exception": false,
     "start_time": "2022-09-18T18:23:13.216013",
     "status": "completed"
    },
    "tags": []
   },
   "source": [
    "--------\n",
    "### Checking for Duplicates"
   ]
  },
  {
   "cell_type": "code",
   "execution_count": 23,
   "id": "3ed0c52b",
   "metadata": {
    "execution": {
     "iopub.execute_input": "2022-09-18T18:23:13.268839Z",
     "iopub.status.busy": "2022-09-18T18:23:13.268076Z",
     "iopub.status.idle": "2022-09-18T18:23:13.385193Z",
     "shell.execute_reply": "2022-09-18T18:23:13.383438Z"
    },
    "papermill": {
     "duration": 0.138542,
     "end_time": "2022-09-18T18:23:13.388745",
     "exception": false,
     "start_time": "2022-09-18T18:23:13.250203",
     "status": "completed"
    },
    "tags": []
   },
   "outputs": [
    {
     "data": {
      "text/plain": [
       "0"
      ]
     },
     "execution_count": 23,
     "metadata": {},
     "output_type": "execute_result"
    }
   ],
   "source": [
    "Trained_Data.duplicated().sum()"
   ]
  },
  {
   "cell_type": "code",
   "execution_count": 24,
   "id": "fcfe0f7e",
   "metadata": {
    "execution": {
     "iopub.execute_input": "2022-09-18T18:23:13.426415Z",
     "iopub.status.busy": "2022-09-18T18:23:13.426096Z",
     "iopub.status.idle": "2022-09-18T18:23:13.455161Z",
     "shell.execute_reply": "2022-09-18T18:23:13.454158Z"
    },
    "papermill": {
     "duration": 0.049617,
     "end_time": "2022-09-18T18:23:13.457337",
     "exception": false,
     "start_time": "2022-09-18T18:23:13.407720",
     "status": "completed"
    },
    "tags": []
   },
   "outputs": [
    {
     "data": {
      "text/plain": [
       "0"
      ]
     },
     "execution_count": 24,
     "metadata": {},
     "output_type": "execute_result"
    }
   ],
   "source": [
    "Tested_Data.duplicated().sum()"
   ]
  },
  {
   "cell_type": "markdown",
   "id": "259ded36",
   "metadata": {
    "papermill": {
     "duration": 0.018062,
     "end_time": "2022-09-18T18:23:13.493517",
     "exception": false,
     "start_time": "2022-09-18T18:23:13.475455",
     "status": "completed"
    },
    "tags": []
   },
   "source": [
    "---------\n",
    "- **There is no duplicated data**"
   ]
  },
  {
   "cell_type": "markdown",
   "id": "b4cbb226",
   "metadata": {
    "papermill": {
     "duration": 0.017506,
     "end_time": "2022-09-18T18:23:13.528855",
     "exception": false,
     "start_time": "2022-09-18T18:23:13.511349",
     "status": "completed"
    },
    "tags": []
   },
   "source": [
    "-----\n",
    "### Handling Outliers"
   ]
  },
  {
   "cell_type": "code",
   "execution_count": 25,
   "id": "90fc3ad2",
   "metadata": {
    "execution": {
     "iopub.execute_input": "2022-09-18T18:23:13.565165Z",
     "iopub.status.busy": "2022-09-18T18:23:13.564887Z",
     "iopub.status.idle": "2022-09-18T18:23:13.570520Z",
     "shell.execute_reply": "2022-09-18T18:23:13.569628Z"
    },
    "papermill": {
     "duration": 0.02603,
     "end_time": "2022-09-18T18:23:13.572421",
     "exception": false,
     "start_time": "2022-09-18T18:23:13.546391",
     "status": "completed"
    },
    "tags": []
   },
   "outputs": [
    {
     "data": {
      "text/plain": [
       "(125972, 44)"
      ]
     },
     "execution_count": 25,
     "metadata": {},
     "output_type": "execute_result"
    }
   ],
   "source": [
    "Trained_Data.shape"
   ]
  },
  {
   "cell_type": "code",
   "execution_count": 26,
   "id": "3c821cfc",
   "metadata": {
    "execution": {
     "iopub.execute_input": "2022-09-18T18:23:13.608835Z",
     "iopub.status.busy": "2022-09-18T18:23:13.608219Z",
     "iopub.status.idle": "2022-09-18T18:23:17.389786Z",
     "shell.execute_reply": "2022-09-18T18:23:17.388859Z"
    },
    "papermill": {
     "duration": 3.803493,
     "end_time": "2022-09-18T18:23:17.393339",
     "exception": false,
     "start_time": "2022-09-18T18:23:13.589846",
     "status": "completed"
    },
    "tags": []
   },
   "outputs": [
    {
     "data": {
      "image/png": "[encoded data removed]",
      "text/plain": [
       "<Figure size 1440x2880 with 40 Axes>"
      ]
     },
     "metadata": {
      "needs_background": "light"
     },
     "output_type": "display_data"
    }
   ],
   "source": [
    "Trained_Data.plot(kind='box',subplots=1,layout=(8,5),figsize=(20,40))\n",
    "plt.show()"
   ]
  },
  {
   "cell_type": "code",
   "execution_count": 27,
   "id": "9bba713d",
   "metadata": {
    "execution": {
     "iopub.execute_input": "2022-09-18T18:23:17.435074Z",
     "iopub.status.busy": "2022-09-18T18:23:17.434779Z",
     "iopub.status.idle": "2022-09-18T18:23:17.440623Z",
     "shell.execute_reply": "2022-09-18T18:23:17.439719Z"
    },
    "papermill": {
     "duration": 0.028586,
     "end_time": "2022-09-18T18:23:17.442628",
     "exception": false,
     "start_time": "2022-09-18T18:23:17.414042",
     "status": "completed"
    },
    "tags": []
   },
   "outputs": [
    {
     "data": {
      "text/plain": [
       "(22543, 44)"
      ]
     },
     "execution_count": 27,
     "metadata": {},
     "output_type": "execute_result"
    }
   ],
   "source": [
    "Tested_Data.shape"
   ]
  },
  {
   "cell_type": "code",
   "execution_count": 28,
   "id": "b9f82edd",
   "metadata": {
    "execution": {
     "iopub.execute_input": "2022-09-18T18:23:17.482780Z",
     "iopub.status.busy": "2022-09-18T18:23:17.482024Z",
     "iopub.status.idle": "2022-09-18T18:23:21.305032Z",
     "shell.execute_reply": "2022-09-18T18:23:21.304095Z"
    },
    "papermill": {
     "duration": 3.846597,
     "end_time": "2022-09-18T18:23:21.308506",
     "exception": false,
     "start_time": "2022-09-18T18:23:17.461909",
     "status": "completed"
    },
    "tags": []
   },
   "outputs": [
    {
     "data": {
      "image/png": "[encoded data removed]",
      "text/plain": [
       "<Figure size 1440x2880 with 40 Axes>"
      ]
     },
     "metadata": {
      "needs_background": "light"
     },
     "output_type": "display_data"
    }
   ],
   "source": [
    "Tested_Data.plot(kind='box',subplots=1,layout=(8,5),figsize=(20,40))\n",
    "plt.show()"
   ]
  },
  {
   "cell_type": "markdown",
   "id": "2e4eb69e",
   "metadata": {
    "papermill": {
     "duration": 0.022103,
     "end_time": "2022-09-18T18:23:21.352675",
     "exception": false,
     "start_time": "2022-09-18T18:23:21.330572",
     "status": "completed"
    },
    "tags": []
   },
   "source": [
    "-----\n",
    "- **No significant outliers in the data**"
   ]
  },
  {
   "cell_type": "markdown",
   "id": "11781cfa",
   "metadata": {
    "papermill": {
     "duration": 0.020992,
     "end_time": "2022-09-18T18:23:21.395410",
     "exception": false,
     "start_time": "2022-09-18T18:23:21.374418",
     "status": "completed"
    },
    "tags": []
   },
   "source": [
    "-------------\n",
    "## Data Encoding"
   ]
  },
  {
   "cell_type": "code",
   "execution_count": 29,
   "id": "aabee12b",
   "metadata": {
    "execution": {
     "iopub.execute_input": "2022-09-18T18:23:21.440940Z",
     "iopub.status.busy": "2022-09-18T18:23:21.439090Z",
     "iopub.status.idle": "2022-09-18T18:23:21.566877Z",
     "shell.execute_reply": "2022-09-18T18:23:21.565857Z"
    },
    "papermill": {
     "duration": 0.153059,
     "end_time": "2022-09-18T18:23:21.569438",
     "exception": false,
     "start_time": "2022-09-18T18:23:21.416379",
     "status": "completed"
    },
    "tags": []
   },
   "outputs": [],
   "source": [
    "Trained_Data = pd.get_dummies(Trained_Data,columns=['protocol_type','service','flag'],prefix=\"\",prefix_sep=\"\")"
   ]
  },
  {
   "cell_type": "code",
   "execution_count": 30,
   "id": "fb132277",
   "metadata": {
    "execution": {
     "iopub.execute_input": "2022-09-18T18:23:21.615069Z",
     "iopub.status.busy": "2022-09-18T18:23:21.614196Z",
     "iopub.status.idle": "2022-09-18T18:23:21.640977Z",
     "shell.execute_reply": "2022-09-18T18:23:21.640124Z"
    },
    "papermill": {
     "duration": 0.051217,
     "end_time": "2022-09-18T18:23:21.643110",
     "exception": false,
     "start_time": "2022-09-18T18:23:21.591893",
     "status": "completed"
    },
    "tags": []
   },
   "outputs": [],
   "source": [
    "Tested_Data = pd.get_dummies(Tested_Data,columns=['protocol_type','service','flag'],prefix=\"\",prefix_sep=\"\")"
   ]
  },
  {
   "cell_type": "code",
   "execution_count": 31,
   "id": "f52a214c",
   "metadata": {
    "execution": {
     "iopub.execute_input": "2022-09-18T18:23:21.687613Z",
     "iopub.status.busy": "2022-09-18T18:23:21.686818Z",
     "iopub.status.idle": "2022-09-18T18:23:21.721805Z",
     "shell.execute_reply": "2022-09-18T18:23:21.720969Z"
    },
    "papermill": {
     "duration": 0.059491,
     "end_time": "2022-09-18T18:23:21.723965",
     "exception": false,
     "start_time": "2022-09-18T18:23:21.664474",
     "status": "completed"
    },
    "tags": []
   },
   "outputs": [],
   "source": [
    "LE = LabelEncoder()\n",
    "attack_LE= LabelEncoder()\n",
    "Trained_Data['attack'] = attack_LE.fit_transform(Trained_Data[\"attack\"])\n",
    "Tested_Data['attack'] = attack_LE.fit_transform(Tested_Data[\"attack\"])"
   ]
  },
  {
   "cell_type": "markdown",
   "id": "3e7aaace",
   "metadata": {
    "papermill": {
     "duration": 0.02102,
     "end_time": "2022-09-18T18:23:21.766237",
     "exception": false,
     "start_time": "2022-09-18T18:23:21.745217",
     "status": "completed"
    },
    "tags": []
   },
   "source": [
    "----\n",
    "## Data Splitting "
   ]
  },
  {
   "cell_type": "code",
   "execution_count": 32,
   "id": "22408e9e",
   "metadata": {
    "execution": {
     "iopub.execute_input": "2022-09-18T18:23:21.814229Z",
     "iopub.status.busy": "2022-09-18T18:23:21.812834Z",
     "iopub.status.idle": "2022-09-18T18:23:21.915431Z",
     "shell.execute_reply": "2022-09-18T18:23:21.914431Z"
    },
    "papermill": {
     "duration": 0.130198,
     "end_time": "2022-09-18T18:23:21.917900",
     "exception": false,
     "start_time": "2022-09-18T18:23:21.787702",
     "status": "completed"
    },
    "tags": []
   },
   "outputs": [],
   "source": [
    "X_train = Trained_Data.drop('attack', axis = 1)\n",
    "X_train = Trained_Data.drop('level', axis = 1)\n",
    "X_train = Trained_Data.drop('attack_state', axis = 1)\n",
    "\n",
    "X_test = Tested_Data.drop('attack', axis = 1)\n",
    "X_test = Tested_Data.drop('level', axis = 1)\n",
    "X_test = Tested_Data.drop('attack_state', axis = 1)\n",
    "\n",
    "\n",
    "Y_train = Trained_Data['attack_state']\n",
    "Y_test = Tested_Data['attack_state']"
   ]
  },
  {
   "cell_type": "code",
   "execution_count": 33,
   "id": "ca670e00",
   "metadata": {
    "execution": {
     "iopub.execute_input": "2022-09-18T18:23:21.963667Z",
     "iopub.status.busy": "2022-09-18T18:23:21.962844Z",
     "iopub.status.idle": "2022-09-18T18:23:22.094272Z",
     "shell.execute_reply": "2022-09-18T18:23:22.093282Z"
    },
    "papermill": {
     "duration": 0.157003,
     "end_time": "2022-09-18T18:23:22.096829",
     "exception": false,
     "start_time": "2022-09-18T18:23:21.939826",
     "status": "completed"
    },
    "tags": []
   },
   "outputs": [],
   "source": [
    "X_train_train,X_test_train ,Y_train_train,Y_test_train = train_test_split(X_train, Y_train, test_size= 0.25 , random_state=42)\n",
    "X_train_test,X_test_test,Y_train_test,Y_test_test = train_test_split(X_test, Y_test, test_size= 0.25 , random_state=42)"
   ]
  },
  {
   "cell_type": "markdown",
   "id": "3ffaa052",
   "metadata": {
    "papermill": {
     "duration": 0.021104,
     "end_time": "2022-09-18T18:23:22.139689",
     "exception": false,
     "start_time": "2022-09-18T18:23:22.118585",
     "status": "completed"
    },
    "tags": []
   },
   "source": [
    "---------\n",
    "## Data Scaling"
   ]
  },
  {
   "cell_type": "code",
   "execution_count": 34,
   "id": "61d77462",
   "metadata": {
    "execution": {
     "iopub.execute_input": "2022-09-18T18:23:22.184968Z",
     "iopub.status.busy": "2022-09-18T18:23:22.183989Z",
     "iopub.status.idle": "2022-09-18T18:23:22.559506Z",
     "shell.execute_reply": "2022-09-18T18:23:22.558565Z"
    },
    "papermill": {
     "duration": 0.40102,
     "end_time": "2022-09-18T18:23:22.561988",
     "exception": false,
     "start_time": "2022-09-18T18:23:22.160968",
     "status": "completed"
    },
    "tags": []
   },
   "outputs": [],
   "source": [
    "Ro_scaler = RobustScaler()\n",
    "X_train_train = Ro_scaler.fit_transform(X_train_train) \n",
    "X_test_train= Ro_scaler.transform(X_test_train)\n",
    "X_train_test = Ro_scaler.fit_transform(X_train_test) \n",
    "X_test_test= Ro_scaler.transform(X_test_test)"
   ]
  },
  {
   "cell_type": "code",
   "execution_count": 35,
   "id": "516331ae",
   "metadata": {
    "execution": {
     "iopub.execute_input": "2022-09-18T18:23:22.610554Z",
     "iopub.status.busy": "2022-09-18T18:23:22.610223Z",
     "iopub.status.idle": "2022-09-18T18:23:22.616308Z",
     "shell.execute_reply": "2022-09-18T18:23:22.615429Z"
    },
    "papermill": {
     "duration": 0.033543,
     "end_time": "2022-09-18T18:23:22.618338",
     "exception": false,
     "start_time": "2022-09-18T18:23:22.584795",
     "status": "completed"
    },
    "tags": []
   },
   "outputs": [
    {
     "data": {
      "text/plain": [
       "((94479, 124), (94479,))"
      ]
     },
     "execution_count": 35,
     "metadata": {},
     "output_type": "execute_result"
    }
   ],
   "source": [
    "X_train_train.shape, Y_train_train.shape"
   ]
  },
  {
   "cell_type": "code",
   "execution_count": 36,
   "id": "2223c38c",
   "metadata": {
    "execution": {
     "iopub.execute_input": "2022-09-18T18:23:22.662854Z",
     "iopub.status.busy": "2022-09-18T18:23:22.662583Z",
     "iopub.status.idle": "2022-09-18T18:23:22.668252Z",
     "shell.execute_reply": "2022-09-18T18:23:22.667388Z"
    },
    "papermill": {
     "duration": 0.029835,
     "end_time": "2022-09-18T18:23:22.670152",
     "exception": false,
     "start_time": "2022-09-18T18:23:22.640317",
     "status": "completed"
    },
    "tags": []
   },
   "outputs": [
    {
     "data": {
      "text/plain": [
       "((31493, 124), (31493,))"
      ]
     },
     "execution_count": 36,
     "metadata": {},
     "output_type": "execute_result"
    }
   ],
   "source": [
    "X_test_train.shape, Y_test_train.shape"
   ]
  },
  {
   "cell_type": "code",
   "execution_count": 37,
   "id": "cffb24e2",
   "metadata": {
    "execution": {
     "iopub.execute_input": "2022-09-18T18:23:22.714239Z",
     "iopub.status.busy": "2022-09-18T18:23:22.713987Z",
     "iopub.status.idle": "2022-09-18T18:23:22.720574Z",
     "shell.execute_reply": "2022-09-18T18:23:22.719643Z"
    },
    "papermill": {
     "duration": 0.031025,
     "end_time": "2022-09-18T18:23:22.722555",
     "exception": false,
     "start_time": "2022-09-18T18:23:22.691530",
     "status": "completed"
    },
    "tags": []
   },
   "outputs": [
    {
     "data": {
      "text/plain": [
       "((16907, 118), (16907,))"
      ]
     },
     "execution_count": 37,
     "metadata": {},
     "output_type": "execute_result"
    }
   ],
   "source": [
    "X_train_test.shape, Y_train_test.shape"
   ]
  },
  {
   "cell_type": "code",
   "execution_count": 38,
   "id": "3b5245b4",
   "metadata": {
    "execution": {
     "iopub.execute_input": "2022-09-18T18:23:22.767202Z",
     "iopub.status.busy": "2022-09-18T18:23:22.766949Z",
     "iopub.status.idle": "2022-09-18T18:23:22.771734Z",
     "shell.execute_reply": "2022-09-18T18:23:22.771015Z"
    },
    "papermill": {
     "duration": 0.029691,
     "end_time": "2022-09-18T18:23:22.774021",
     "exception": false,
     "start_time": "2022-09-18T18:23:22.744330",
     "status": "completed"
    },
    "tags": []
   },
   "outputs": [
    {
     "data": {
      "text/plain": [
       "((5636, 118), (5636,))"
      ]
     },
     "execution_count": 38,
     "metadata": {},
     "output_type": "execute_result"
    }
   ],
   "source": [
    "X_test_test.shape, Y_test_test.shape"
   ]
  },
  {
   "cell_type": "markdown",
   "id": "c1695d31",
   "metadata": {
    "papermill": {
     "duration": 0.025889,
     "end_time": "2022-09-18T18:23:22.822173",
     "exception": false,
     "start_time": "2022-09-18T18:23:22.796284",
     "status": "completed"
    },
    "tags": []
   },
   "source": [
    "------\n",
    "## Working on Trained Data\n",
    "### VIF "
   ]
  },
  {
   "cell_type": "code",
   "execution_count": 39,
   "id": "1df02735",
   "metadata": {
    "execution": {
     "iopub.execute_input": "2022-09-18T18:23:22.912018Z",
     "iopub.status.busy": "2022-09-18T18:23:22.911653Z",
     "iopub.status.idle": "2022-09-18T18:23:32.421175Z",
     "shell.execute_reply": "2022-09-18T18:23:32.420279Z"
    },
    "papermill": {
     "duration": 9.557542,
     "end_time": "2022-09-18T18:23:32.423594",
     "exception": false,
     "start_time": "2022-09-18T18:23:22.866052",
     "status": "completed"
    },
    "tags": []
   },
   "outputs": [
    {
     "data": {
      "text/html": [
       "<table class=\"simpletable\">\n",
       "<caption>Generalized Linear Model Regression Results</caption>\n",
       "<tr>\n",
       "  <th>Dep. Variable:</th>     <td>attack_state</td>   <th>  No. Observations:  </th>  <td>125972</td> \n",
       "</tr>\n",
       "<tr>\n",
       "  <th>Model:</th>                  <td>GLM</td>       <th>  Df Residuals:      </th>  <td>125852</td> \n",
       "</tr>\n",
       "<tr>\n",
       "  <th>Model Family:</th>        <td>Gaussian</td>     <th>  Df Model:          </th>  <td>   119</td> \n",
       "</tr>\n",
       "<tr>\n",
       "  <th>Link Function:</th>       <td>identity</td>     <th>  Scale:             </th> <td>0.021929</td>\n",
       "</tr>\n",
       "<tr>\n",
       "  <th>Method:</th>                <td>IRLS</td>       <th>  Log-Likelihood:    </th> <td>  61917.</td>\n",
       "</tr>\n",
       "<tr>\n",
       "  <th>Date:</th>            <td>Sun, 18 Sep 2022</td> <th>  Deviance:          </th> <td>  2759.8</td>\n",
       "</tr>\n",
       "<tr>\n",
       "  <th>Time:</th>                <td>18:23:32</td>     <th>  Pearson chi2:      </th> <td>2.76e+03</td>\n",
       "</tr>\n",
       "<tr>\n",
       "  <th>No. Iterations:</th>          <td>3</td>        <th>  Pseudo R-squ. (CS):</th>  <td> 1.000</td> \n",
       "</tr>\n",
       "<tr>\n",
       "  <th>Covariance Type:</th>     <td>nonrobust</td>    <th>                     </th>     <td> </td>   \n",
       "</tr>\n",
       "</table>\n",
       "<table class=\"simpletable\">\n",
       "<tr>\n",
       "               <td></td>                  <th>coef</th>     <th>std err</th>      <th>z</th>      <th>P>|z|</th>  <th>[0.025</th>    <th>0.975]</th>  \n",
       "</tr>\n",
       "<tr>\n",
       "  <th>const</th>                       <td>    0.9180</td> <td>    0.007</td> <td>  125.956</td> <td> 0.000</td> <td>    0.904</td> <td>    0.932</td>\n",
       "</tr>\n",
       "<tr>\n",
       "  <th>duration</th>                    <td>-4.783e-06</td> <td>    2e-07</td> <td>  -23.889</td> <td> 0.000</td> <td>-5.18e-06</td> <td>-4.39e-06</td>\n",
       "</tr>\n",
       "<tr>\n",
       "  <th>src_bytes</th>                   <td> 1.217e-10</td> <td> 7.28e-11</td> <td>    1.672</td> <td> 0.094</td> <td>-2.09e-11</td> <td> 2.64e-10</td>\n",
       "</tr>\n",
       "<tr>\n",
       "  <th>dst_bytes</th>                   <td>-1.499e-10</td> <td> 1.04e-10</td> <td>   -1.443</td> <td> 0.149</td> <td>-3.53e-10</td> <td> 5.37e-11</td>\n",
       "</tr>\n",
       "<tr>\n",
       "  <th>land</th>                        <td>   -0.3573</td> <td>    0.030</td> <td>  -11.833</td> <td> 0.000</td> <td>   -0.416</td> <td>   -0.298</td>\n",
       "</tr>\n",
       "<tr>\n",
       "  <th>wrong_fragment</th>              <td>    0.1395</td> <td>    0.002</td> <td>   68.164</td> <td> 0.000</td> <td>    0.135</td> <td>    0.144</td>\n",
       "</tr>\n",
       "<tr>\n",
       "  <th>urgent</th>                      <td>   -0.0318</td> <td>    0.029</td> <td>   -1.078</td> <td> 0.281</td> <td>   -0.090</td> <td>    0.026</td>\n",
       "</tr>\n",
       "<tr>\n",
       "  <th>hot</th>                         <td>    0.0125</td> <td>    0.000</td> <td>   32.250</td> <td> 0.000</td> <td>    0.012</td> <td>    0.013</td>\n",
       "</tr>\n",
       "<tr>\n",
       "  <th>num_failed_logins</th>           <td>   -0.0524</td> <td>    0.010</td> <td>   -5.496</td> <td> 0.000</td> <td>   -0.071</td> <td>   -0.034</td>\n",
       "</tr>\n",
       "<tr>\n",
       "  <th>logged_in</th>                   <td>    0.1497</td> <td>    0.003</td> <td>   45.118</td> <td> 0.000</td> <td>    0.143</td> <td>    0.156</td>\n",
       "</tr>\n",
       "<tr>\n",
       "  <th>num_compromised</th>             <td>    0.0030</td> <td>    0.001</td> <td>    5.775</td> <td> 0.000</td> <td>    0.002</td> <td>    0.004</td>\n",
       "</tr>\n",
       "<tr>\n",
       "  <th>root_shell</th>                  <td>   -0.0419</td> <td>    0.015</td> <td>   -2.858</td> <td> 0.004</td> <td>   -0.071</td> <td>   -0.013</td>\n",
       "</tr>\n",
       "<tr>\n",
       "  <th>su_attempted</th>                <td>   -0.0386</td> <td>    0.015</td> <td>   -2.560</td> <td> 0.010</td> <td>   -0.068</td> <td>   -0.009</td>\n",
       "</tr>\n",
       "<tr>\n",
       "  <th>num_root</th>                    <td>   -0.0030</td> <td>    0.001</td> <td>   -5.741</td> <td> 0.000</td> <td>   -0.004</td> <td>   -0.002</td>\n",
       "</tr>\n",
       "<tr>\n",
       "  <th>num_file_creations</th>          <td>   -0.0119</td> <td>    0.001</td> <td>  -13.278</td> <td> 0.000</td> <td>   -0.014</td> <td>   -0.010</td>\n",
       "</tr>\n",
       "<tr>\n",
       "  <th>num_shells</th>                  <td>   -0.1007</td> <td>    0.019</td> <td>   -5.281</td> <td> 0.000</td> <td>   -0.138</td> <td>   -0.063</td>\n",
       "</tr>\n",
       "<tr>\n",
       "  <th>num_access_files</th>            <td>    0.0103</td> <td>    0.006</td> <td>    1.789</td> <td> 0.074</td> <td>   -0.001</td> <td>    0.022</td>\n",
       "</tr>\n",
       "<tr>\n",
       "  <th>num_outbound_cmds</th>           <td> 1.642e-15</td> <td> 4.08e-16</td> <td>    4.028</td> <td> 0.000</td> <td> 8.43e-16</td> <td> 2.44e-15</td>\n",
       "</tr>\n",
       "<tr>\n",
       "  <th>is_host_login</th>               <td>   -0.3446</td> <td>    0.148</td> <td>   -2.326</td> <td> 0.020</td> <td>   -0.635</td> <td>   -0.054</td>\n",
       "</tr>\n",
       "<tr>\n",
       "  <th>is_guest_login</th>              <td>   -0.2940</td> <td>    0.011</td> <td>  -27.095</td> <td> 0.000</td> <td>   -0.315</td> <td>   -0.273</td>\n",
       "</tr>\n",
       "<tr>\n",
       "  <th>count</th>                       <td>    0.0003</td> <td> 8.88e-06</td> <td>   30.633</td> <td> 0.000</td> <td>    0.000</td> <td>    0.000</td>\n",
       "</tr>\n",
       "<tr>\n",
       "  <th>srv_count</th>                   <td> 8.915e-05</td> <td> 1.31e-05</td> <td>    6.816</td> <td> 0.000</td> <td> 6.35e-05</td> <td>    0.000</td>\n",
       "</tr>\n",
       "<tr>\n",
       "  <th>serror_rate</th>                 <td>   -0.0660</td> <td>    0.010</td> <td>   -6.291</td> <td> 0.000</td> <td>   -0.087</td> <td>   -0.045</td>\n",
       "</tr>\n",
       "<tr>\n",
       "  <th>srv_serror_rate</th>             <td>    0.2799</td> <td>    0.011</td> <td>   24.504</td> <td> 0.000</td> <td>    0.258</td> <td>    0.302</td>\n",
       "</tr>\n",
       "<tr>\n",
       "  <th>rerror_rate</th>                 <td>   -0.1146</td> <td>    0.011</td> <td>  -10.207</td> <td> 0.000</td> <td>   -0.137</td> <td>   -0.093</td>\n",
       "</tr>\n",
       "<tr>\n",
       "  <th>srv_rerror_rate</th>             <td>    0.5408</td> <td>    0.013</td> <td>   41.412</td> <td> 0.000</td> <td>    0.515</td> <td>    0.566</td>\n",
       "</tr>\n",
       "<tr>\n",
       "  <th>same_srv_rate</th>               <td>   -0.3671</td> <td>    0.004</td> <td>  -98.730</td> <td> 0.000</td> <td>   -0.374</td> <td>   -0.360</td>\n",
       "</tr>\n",
       "<tr>\n",
       "  <th>diff_srv_rate</th>               <td>   -0.1265</td> <td>    0.004</td> <td>  -33.960</td> <td> 0.000</td> <td>   -0.134</td> <td>   -0.119</td>\n",
       "</tr>\n",
       "<tr>\n",
       "  <th>srv_diff_host_rate</th>          <td>    0.0579</td> <td>    0.002</td> <td>   27.740</td> <td> 0.000</td> <td>    0.054</td> <td>    0.062</td>\n",
       "</tr>\n",
       "<tr>\n",
       "  <th>dst_host_count</th>              <td>    0.0003</td> <td> 6.52e-06</td> <td>   49.006</td> <td> 0.000</td> <td>    0.000</td> <td>    0.000</td>\n",
       "</tr>\n",
       "<tr>\n",
       "  <th>dst_host_srv_count</th>          <td>   -0.0004</td> <td> 1.19e-05</td> <td>  -32.541</td> <td> 0.000</td> <td>   -0.000</td> <td>   -0.000</td>\n",
       "</tr>\n",
       "<tr>\n",
       "  <th>dst_host_same_srv_rate</th>      <td>    0.0051</td> <td>    0.004</td> <td>    1.440</td> <td> 0.150</td> <td>   -0.002</td> <td>    0.012</td>\n",
       "</tr>\n",
       "<tr>\n",
       "  <th>dst_host_diff_srv_rate</th>      <td>    0.1400</td> <td>    0.004</td> <td>   33.792</td> <td> 0.000</td> <td>    0.132</td> <td>    0.148</td>\n",
       "</tr>\n",
       "<tr>\n",
       "  <th>dst_host_same_src_port_rate</th> <td>    0.1207</td> <td>    0.003</td> <td>   46.137</td> <td> 0.000</td> <td>    0.116</td> <td>    0.126</td>\n",
       "</tr>\n",
       "<tr>\n",
       "  <th>dst_host_srv_diff_host_rate</th> <td>    0.1088</td> <td>    0.006</td> <td>   18.576</td> <td> 0.000</td> <td>    0.097</td> <td>    0.120</td>\n",
       "</tr>\n",
       "<tr>\n",
       "  <th>dst_host_serror_rate</th>        <td>   -0.0741</td> <td>    0.006</td> <td>  -11.429</td> <td> 0.000</td> <td>   -0.087</td> <td>   -0.061</td>\n",
       "</tr>\n",
       "<tr>\n",
       "  <th>dst_host_srv_serror_rate</th>    <td>    0.0657</td> <td>    0.008</td> <td>    8.185</td> <td> 0.000</td> <td>    0.050</td> <td>    0.081</td>\n",
       "</tr>\n",
       "<tr>\n",
       "  <th>dst_host_rerror_rate</th>        <td>    0.0624</td> <td>    0.004</td> <td>   13.873</td> <td> 0.000</td> <td>    0.054</td> <td>    0.071</td>\n",
       "</tr>\n",
       "<tr>\n",
       "  <th>dst_host_srv_rerror_rate</th>    <td>    0.2157</td> <td>    0.006</td> <td>   35.290</td> <td> 0.000</td> <td>    0.204</td> <td>    0.228</td>\n",
       "</tr>\n",
       "<tr>\n",
       "  <th>attack</th>                      <td>    0.0010</td> <td>    0.000</td> <td>    3.964</td> <td> 0.000</td> <td>    0.001</td> <td>    0.002</td>\n",
       "</tr>\n",
       "<tr>\n",
       "  <th>level</th>                       <td>   -0.0515</td> <td>    0.000</td> <td> -217.393</td> <td> 0.000</td> <td>   -0.052</td> <td>   -0.051</td>\n",
       "</tr>\n",
       "<tr>\n",
       "  <th>icmp</th>                        <td>    0.3556</td> <td>    0.010</td> <td>   35.186</td> <td> 0.000</td> <td>    0.336</td> <td>    0.375</td>\n",
       "</tr>\n",
       "<tr>\n",
       "  <th>tcp</th>                         <td>    0.2328</td> <td>    0.005</td> <td>   46.662</td> <td> 0.000</td> <td>    0.223</td> <td>    0.243</td>\n",
       "</tr>\n",
       "<tr>\n",
       "  <th>udp</th>                         <td>    0.3296</td> <td>    0.005</td> <td>   66.523</td> <td> 0.000</td> <td>    0.320</td> <td>    0.339</td>\n",
       "</tr>\n",
       "<tr>\n",
       "  <th>IRC</th>                         <td>   -0.4777</td> <td>    0.012</td> <td>  -40.011</td> <td> 0.000</td> <td>   -0.501</td> <td>   -0.454</td>\n",
       "</tr>\n",
       "<tr>\n",
       "  <th>X11</th>                         <td>   -0.2565</td> <td>    0.018</td> <td>  -14.517</td> <td> 0.000</td> <td>   -0.291</td> <td>   -0.222</td>\n",
       "</tr>\n",
       "<tr>\n",
       "  <th>Z39_50</th>                      <td>    0.0347</td> <td>    0.006</td> <td>    5.374</td> <td> 0.000</td> <td>    0.022</td> <td>    0.047</td>\n",
       "</tr>\n",
       "<tr>\n",
       "  <th>aol</th>                         <td>   -0.1016</td> <td>    0.103</td> <td>   -0.985</td> <td> 0.325</td> <td>   -0.304</td> <td>    0.101</td>\n",
       "</tr>\n",
       "<tr>\n",
       "  <th>auth</th>                        <td>   -0.0146</td> <td>    0.006</td> <td>   -2.325</td> <td> 0.020</td> <td>   -0.027</td> <td>   -0.002</td>\n",
       "</tr>\n",
       "<tr>\n",
       "  <th>bgp</th>                         <td>    0.0462</td> <td>    0.007</td> <td>    6.741</td> <td> 0.000</td> <td>    0.033</td> <td>    0.060</td>\n",
       "</tr>\n",
       "<tr>\n",
       "  <th>courier</th>                     <td>    0.0791</td> <td>    0.007</td> <td>   11.605</td> <td> 0.000</td> <td>    0.066</td> <td>    0.092</td>\n",
       "</tr>\n",
       "<tr>\n",
       "  <th>csnet_ns</th>                    <td>    0.0589</td> <td>    0.007</td> <td>    7.864</td> <td> 0.000</td> <td>    0.044</td> <td>    0.074</td>\n",
       "</tr>\n",
       "<tr>\n",
       "  <th>ctf</th>                         <td>    0.0588</td> <td>    0.007</td> <td>    7.943</td> <td> 0.000</td> <td>    0.044</td> <td>    0.073</td>\n",
       "</tr>\n",
       "<tr>\n",
       "  <th>daytime</th>                     <td>    0.0417</td> <td>    0.008</td> <td>    5.467</td> <td> 0.000</td> <td>    0.027</td> <td>    0.057</td>\n",
       "</tr>\n",
       "<tr>\n",
       "  <th>discard</th>                     <td>    0.0511</td> <td>    0.008</td> <td>    6.761</td> <td> 0.000</td> <td>    0.036</td> <td>    0.066</td>\n",
       "</tr>\n",
       "<tr>\n",
       "  <th>domain</th>                      <td>   -0.0056</td> <td>    0.007</td> <td>   -0.753</td> <td> 0.451</td> <td>   -0.020</td> <td>    0.009</td>\n",
       "</tr>\n",
       "<tr>\n",
       "  <th>domain_u</th>                    <td>   -0.1127</td> <td>    0.005</td> <td>  -20.614</td> <td> 0.000</td> <td>   -0.123</td> <td>   -0.102</td>\n",
       "</tr>\n",
       "<tr>\n",
       "  <th>echo</th>                        <td>    0.0477</td> <td>    0.008</td> <td>    5.852</td> <td> 0.000</td> <td>    0.032</td> <td>    0.064</td>\n",
       "</tr>\n",
       "<tr>\n",
       "  <th>eco_i</th>                       <td>    0.4714</td> <td>    0.013</td> <td>   35.018</td> <td> 0.000</td> <td>    0.445</td> <td>    0.498</td>\n",
       "</tr>\n",
       "<tr>\n",
       "  <th>ecr_i</th>                       <td>    0.5526</td> <td>    0.014</td> <td>   40.692</td> <td> 0.000</td> <td>    0.526</td> <td>    0.579</td>\n",
       "</tr>\n",
       "<tr>\n",
       "  <th>efs</th>                         <td>    0.1081</td> <td>    0.008</td> <td>   13.814</td> <td> 0.000</td> <td>    0.093</td> <td>    0.123</td>\n",
       "</tr>\n",
       "<tr>\n",
       "  <th>exec</th>                        <td>    0.0900</td> <td>    0.008</td> <td>   11.360</td> <td> 0.000</td> <td>    0.075</td> <td>    0.106</td>\n",
       "</tr>\n",
       "<tr>\n",
       "  <th>finger</th>                      <td>    0.0726</td> <td>    0.006</td> <td>   13.120</td> <td> 0.000</td> <td>    0.062</td> <td>    0.083</td>\n",
       "</tr>\n",
       "<tr>\n",
       "  <th>ftp</th>                         <td>    0.0242</td> <td>    0.007</td> <td>    3.268</td> <td> 0.001</td> <td>    0.010</td> <td>    0.039</td>\n",
       "</tr>\n",
       "<tr>\n",
       "  <th>ftp_data</th>                    <td>   -0.0402</td> <td>    0.005</td> <td>   -8.297</td> <td> 0.000</td> <td>   -0.050</td> <td>   -0.031</td>\n",
       "</tr>\n",
       "<tr>\n",
       "  <th>gopher</th>                      <td>    0.0582</td> <td>    0.008</td> <td>    7.643</td> <td> 0.000</td> <td>    0.043</td> <td>    0.073</td>\n",
       "</tr>\n",
       "<tr>\n",
       "  <th>harvest</th>                     <td>   -0.1903</td> <td>    0.103</td> <td>   -1.842</td> <td> 0.065</td> <td>   -0.393</td> <td>    0.012</td>\n",
       "</tr>\n",
       "<tr>\n",
       "  <th>hostnames</th>                   <td>    0.0540</td> <td>    0.008</td> <td>    6.782</td> <td> 0.000</td> <td>    0.038</td> <td>    0.070</td>\n",
       "</tr>\n",
       "<tr>\n",
       "  <th>http</th>                        <td>   -0.0036</td> <td>    0.005</td> <td>   -0.721</td> <td> 0.471</td> <td>   -0.013</td> <td>    0.006</td>\n",
       "</tr>\n",
       "<tr>\n",
       "  <th>http_2784</th>                   <td>   -0.0991</td> <td>    0.146</td> <td>   -0.680</td> <td> 0.497</td> <td>   -0.385</td> <td>    0.187</td>\n",
       "</tr>\n",
       "<tr>\n",
       "  <th>http_443</th>                    <td>    0.0798</td> <td>    0.008</td> <td>   10.532</td> <td> 0.000</td> <td>    0.065</td> <td>    0.095</td>\n",
       "</tr>\n",
       "<tr>\n",
       "  <th>http_8001</th>                   <td>   -0.1877</td> <td>    0.103</td> <td>   -1.817</td> <td> 0.069</td> <td>   -0.390</td> <td>    0.015</td>\n",
       "</tr>\n",
       "<tr>\n",
       "  <th>imap4</th>                       <td>    0.0540</td> <td>    0.007</td> <td>    7.648</td> <td> 0.000</td> <td>    0.040</td> <td>    0.068</td>\n",
       "</tr>\n",
       "<tr>\n",
       "  <th>iso_tsap</th>                    <td>    0.0412</td> <td>    0.007</td> <td>    5.943</td> <td> 0.000</td> <td>    0.028</td> <td>    0.055</td>\n",
       "</tr>\n",
       "<tr>\n",
       "  <th>klogin</th>                      <td>    0.1163</td> <td>    0.008</td> <td>   14.259</td> <td> 0.000</td> <td>    0.100</td> <td>    0.132</td>\n",
       "</tr>\n",
       "<tr>\n",
       "  <th>kshell</th>                      <td>    0.1000</td> <td>    0.009</td> <td>   10.625</td> <td> 0.000</td> <td>    0.082</td> <td>    0.118</td>\n",
       "</tr>\n",
       "<tr>\n",
       "  <th>ldap</th>                        <td>    0.0809</td> <td>    0.008</td> <td>    9.741</td> <td> 0.000</td> <td>    0.065</td> <td>    0.097</td>\n",
       "</tr>\n",
       "<tr>\n",
       "  <th>link</th>                        <td>    0.0501</td> <td>    0.008</td> <td>    6.376</td> <td> 0.000</td> <td>    0.035</td> <td>    0.066</td>\n",
       "</tr>\n",
       "<tr>\n",
       "  <th>login</th>                       <td>    0.0980</td> <td>    0.008</td> <td>   11.942</td> <td> 0.000</td> <td>    0.082</td> <td>    0.114</td>\n",
       "</tr>\n",
       "<tr>\n",
       "  <th>mtp</th>                         <td>    0.0492</td> <td>    0.008</td> <td>    6.077</td> <td> 0.000</td> <td>    0.033</td> <td>    0.065</td>\n",
       "</tr>\n",
       "<tr>\n",
       "  <th>name</th>                        <td>    0.0521</td> <td>    0.008</td> <td>    6.507</td> <td> 0.000</td> <td>    0.036</td> <td>    0.068</td>\n",
       "</tr>\n",
       "<tr>\n",
       "  <th>netbios_dgm</th>                 <td>    0.0563</td> <td>    0.008</td> <td>    6.756</td> <td> 0.000</td> <td>    0.040</td> <td>    0.073</td>\n",
       "</tr>\n",
       "<tr>\n",
       "  <th>netbios_ns</th>                  <td>    0.0655</td> <td>    0.009</td> <td>    7.404</td> <td> 0.000</td> <td>    0.048</td> <td>    0.083</td>\n",
       "</tr>\n",
       "<tr>\n",
       "  <th>netbios_ssn</th>                 <td>    0.0643</td> <td>    0.009</td> <td>    7.389</td> <td> 0.000</td> <td>    0.047</td> <td>    0.081</td>\n",
       "</tr>\n",
       "<tr>\n",
       "  <th>netstat</th>                     <td>    0.0615</td> <td>    0.009</td> <td>    7.057</td> <td> 0.000</td> <td>    0.044</td> <td>    0.079</td>\n",
       "</tr>\n",
       "<tr>\n",
       "  <th>nnsp</th>                        <td>    0.0979</td> <td>    0.007</td> <td>   13.683</td> <td> 0.000</td> <td>    0.084</td> <td>    0.112</td>\n",
       "</tr>\n",
       "<tr>\n",
       "  <th>nntp</th>                        <td>    0.0675</td> <td>    0.009</td> <td>    7.160</td> <td> 0.000</td> <td>    0.049</td> <td>    0.086</td>\n",
       "</tr>\n",
       "<tr>\n",
       "  <th>ntp_u</th>                       <td>   -0.1163</td> <td>    0.012</td> <td>   -9.447</td> <td> 0.000</td> <td>   -0.140</td> <td>   -0.092</td>\n",
       "</tr>\n",
       "<tr>\n",
       "  <th>other</th>                       <td>   -0.1711</td> <td>    0.005</td> <td>  -33.150</td> <td> 0.000</td> <td>   -0.181</td> <td>   -0.161</td>\n",
       "</tr>\n",
       "<tr>\n",
       "  <th>pm_dump</th>                     <td>   -0.0236</td> <td>    0.066</td> <td>   -0.359</td> <td> 0.720</td> <td>   -0.152</td> <td>    0.105</td>\n",
       "</tr>\n",
       "<tr>\n",
       "  <th>pop_2</th>                       <td>    0.1370</td> <td>    0.017</td> <td>    8.050</td> <td> 0.000</td> <td>    0.104</td> <td>    0.170</td>\n",
       "</tr>\n",
       "<tr>\n",
       "  <th>pop_3</th>                       <td>   -0.0909</td> <td>    0.010</td> <td>   -9.028</td> <td> 0.000</td> <td>   -0.111</td> <td>   -0.071</td>\n",
       "</tr>\n",
       "<tr>\n",
       "  <th>printer</th>                     <td>    0.1724</td> <td>    0.018</td> <td>    9.547</td> <td> 0.000</td> <td>    0.137</td> <td>    0.208</td>\n",
       "</tr>\n",
       "<tr>\n",
       "  <th>private</th>                     <td>    0.1457</td> <td>    0.004</td> <td>   34.233</td> <td> 0.000</td> <td>    0.137</td> <td>    0.154</td>\n",
       "</tr>\n",
       "<tr>\n",
       "  <th>red_i</th>                       <td>   -0.1184</td> <td>    0.046</td> <td>   -2.583</td> <td> 0.010</td> <td>   -0.208</td> <td>   -0.029</td>\n",
       "</tr>\n",
       "<tr>\n",
       "  <th>remote_job</th>                  <td>    0.1410</td> <td>    0.017</td> <td>    8.285</td> <td> 0.000</td> <td>    0.108</td> <td>    0.174</td>\n",
       "</tr>\n",
       "<tr>\n",
       "  <th>rje</th>                         <td>    0.1451</td> <td>    0.016</td> <td>    8.925</td> <td> 0.000</td> <td>    0.113</td> <td>    0.177</td>\n",
       "</tr>\n",
       "<tr>\n",
       "  <th>shell</th>                       <td>    0.1333</td> <td>    0.019</td> <td>    7.179</td> <td> 0.000</td> <td>    0.097</td> <td>    0.170</td>\n",
       "</tr>\n",
       "<tr>\n",
       "  <th>smtp</th>                        <td>   -0.0747</td> <td>    0.005</td> <td>  -14.817</td> <td> 0.000</td> <td>   -0.085</td> <td>   -0.065</td>\n",
       "</tr>\n",
       "<tr>\n",
       "  <th>sql_net</th>                     <td>    0.1029</td> <td>    0.010</td> <td>   10.102</td> <td> 0.000</td> <td>    0.083</td> <td>    0.123</td>\n",
       "</tr>\n",
       "<tr>\n",
       "  <th>ssh</th>                         <td>    0.0698</td> <td>    0.009</td> <td>    7.558</td> <td> 0.000</td> <td>    0.052</td> <td>    0.088</td>\n",
       "</tr>\n",
       "<tr>\n",
       "  <th>sunrpc</th>                      <td>    0.0543</td> <td>    0.009</td> <td>    6.342</td> <td> 0.000</td> <td>    0.037</td> <td>    0.071</td>\n",
       "</tr>\n",
       "<tr>\n",
       "  <th>supdup</th>                      <td>    0.0578</td> <td>    0.007</td> <td>    7.718</td> <td> 0.000</td> <td>    0.043</td> <td>    0.072</td>\n",
       "</tr>\n",
       "<tr>\n",
       "  <th>systat</th>                      <td>    0.0522</td> <td>    0.008</td> <td>    6.651</td> <td> 0.000</td> <td>    0.037</td> <td>    0.068</td>\n",
       "</tr>\n",
       "<tr>\n",
       "  <th>telnet</th>                      <td>   -0.0297</td> <td>    0.005</td> <td>   -5.626</td> <td> 0.000</td> <td>   -0.040</td> <td>   -0.019</td>\n",
       "</tr>\n",
       "<tr>\n",
       "  <th>tftp_u</th>                      <td>   -0.8623</td> <td>    0.084</td> <td>  -10.220</td> <td> 0.000</td> <td>   -1.028</td> <td>   -0.697</td>\n",
       "</tr>\n",
       "<tr>\n",
       "  <th>tim_i</th>                       <td>   -0.1185</td> <td>    0.046</td> <td>   -2.585</td> <td> 0.010</td> <td>   -0.208</td> <td>   -0.029</td>\n",
       "</tr>\n",
       "<tr>\n",
       "  <th>time</th>                        <td>    0.0238</td> <td>    0.007</td> <td>    3.368</td> <td> 0.001</td> <td>    0.010</td> <td>    0.038</td>\n",
       "</tr>\n",
       "<tr>\n",
       "  <th>urh_i</th>                       <td>   -0.0959</td> <td>    0.041</td> <td>   -2.316</td> <td> 0.021</td> <td>   -0.177</td> <td>   -0.015</td>\n",
       "</tr>\n",
       "<tr>\n",
       "  <th>urp_i</th>                       <td>   -0.3356</td> <td>    0.014</td> <td>  -23.839</td> <td> 0.000</td> <td>   -0.363</td> <td>   -0.308</td>\n",
       "</tr>\n",
       "<tr>\n",
       "  <th>uucp</th>                        <td>    0.0823</td> <td>    0.007</td> <td>   12.226</td> <td> 0.000</td> <td>    0.069</td> <td>    0.095</td>\n",
       "</tr>\n",
       "<tr>\n",
       "  <th>uucp_path</th>                   <td>    0.0515</td> <td>    0.007</td> <td>    7.447</td> <td> 0.000</td> <td>    0.038</td> <td>    0.065</td>\n",
       "</tr>\n",
       "<tr>\n",
       "  <th>vmnet</th>                       <td>    0.0403</td> <td>    0.007</td> <td>    5.610</td> <td> 0.000</td> <td>    0.026</td> <td>    0.054</td>\n",
       "</tr>\n",
       "<tr>\n",
       "  <th>whois</th>                       <td>    0.0513</td> <td>    0.007</td> <td>    7.422</td> <td> 0.000</td> <td>    0.038</td> <td>    0.065</td>\n",
       "</tr>\n",
       "<tr>\n",
       "  <th>OTH</th>                         <td>    0.3282</td> <td>    0.021</td> <td>   15.547</td> <td> 0.000</td> <td>    0.287</td> <td>    0.370</td>\n",
       "</tr>\n",
       "<tr>\n",
       "  <th>REJ</th>                         <td>   -0.1213</td> <td>    0.010</td> <td>  -12.617</td> <td> 0.000</td> <td>   -0.140</td> <td>   -0.102</td>\n",
       "</tr>\n",
       "<tr>\n",
       "  <th>RSTO</th>                        <td>   -0.0745</td> <td>    0.010</td> <td>   -7.438</td> <td> 0.000</td> <td>   -0.094</td> <td>   -0.055</td>\n",
       "</tr>\n",
       "<tr>\n",
       "  <th>RSTOS0</th>                      <td>    0.1296</td> <td>    0.014</td> <td>    8.994</td> <td> 0.000</td> <td>    0.101</td> <td>    0.158</td>\n",
       "</tr>\n",
       "<tr>\n",
       "  <th>RSTR</th>                        <td>    0.0390</td> <td>    0.010</td> <td>    3.961</td> <td> 0.000</td> <td>    0.020</td> <td>    0.058</td>\n",
       "</tr>\n",
       "<tr>\n",
       "  <th>S0</th>                          <td>    0.4765</td> <td>    0.008</td> <td>   63.065</td> <td> 0.000</td> <td>    0.462</td> <td>    0.491</td>\n",
       "</tr>\n",
       "<tr>\n",
       "  <th>S1</th>                          <td>   -0.2093</td> <td>    0.009</td> <td>  -22.221</td> <td> 0.000</td> <td>   -0.228</td> <td>   -0.191</td>\n",
       "</tr>\n",
       "<tr>\n",
       "  <th>S2</th>                          <td>   -0.1071</td> <td>    0.014</td> <td>   -7.927</td> <td> 0.000</td> <td>   -0.134</td> <td>   -0.081</td>\n",
       "</tr>\n",
       "<tr>\n",
       "  <th>S3</th>                          <td>   -0.2035</td> <td>    0.020</td> <td>  -10.140</td> <td> 0.000</td> <td>   -0.243</td> <td>   -0.164</td>\n",
       "</tr>\n",
       "<tr>\n",
       "  <th>SF</th>                          <td>    0.1545</td> <td>    0.006</td> <td>   23.973</td> <td> 0.000</td> <td>    0.142</td> <td>    0.167</td>\n",
       "</tr>\n",
       "<tr>\n",
       "  <th>SH</th>                          <td>    0.5057</td> <td>    0.012</td> <td>   43.558</td> <td> 0.000</td> <td>    0.483</td> <td>    0.529</td>\n",
       "</tr>\n",
       "</table>"
      ],
      "text/plain": [
       "<class 'statsmodels.iolib.summary.Summary'>\n",
       "\"\"\"\n",
       "                 Generalized Linear Model Regression Results                  \n",
       "==============================================================================\n",
       "Dep. Variable:           attack_state   No. Observations:               125972\n",
       "Model:                            GLM   Df Residuals:                   125852\n",
       "Model Family:                Gaussian   Df Model:                          119\n",
       "Link Function:               identity   Scale:                        0.021929\n",
       "Method:                          IRLS   Log-Likelihood:                 61917.\n",
       "Date:                Sun, 18 Sep 2022   Deviance:                       2759.8\n",
       "Time:                        18:23:32   Pearson chi2:                 2.76e+03\n",
       "No. Iterations:                     3   Pseudo R-squ. (CS):              1.000\n",
       "Covariance Type:            nonrobust                                         \n",
       "===============================================================================================\n",
       "                                  coef    std err          z      P>|z|      [0.025      0.975]\n",
       "-----------------------------------------------------------------------------------------------\n",
       "const                           0.9180      0.007    125.956      0.000       0.904       0.932\n",
       "duration                    -4.783e-06      2e-07    -23.889      0.000   -5.18e-06   -4.39e-06\n",
       "src_bytes                    1.217e-10   7.28e-11      1.672      0.094   -2.09e-11    2.64e-10\n",
       "dst_bytes                   -1.499e-10   1.04e-10     -1.443      0.149   -3.53e-10    5.37e-11\n",
       "land                           -0.3573      0.030    -11.833      0.000      -0.416      -0.298\n",
       "wrong_fragment                  0.1395      0.002     68.164      0.000       0.135       0.144\n",
       "urgent                         -0.0318      0.029     -1.078      0.281      -0.090       0.026\n",
       "hot                             0.0125      0.000     32.250      0.000       0.012       0.013\n",
       "num_failed_logins              -0.0524      0.010     -5.496      0.000      -0.071      -0.034\n",
       "logged_in                       0.1497      0.003     45.118      0.000       0.143       0.156\n",
       "num_compromised                 0.0030      0.001      5.775      0.000       0.002       0.004\n",
       "root_shell                     -0.0419      0.015     -2.858      0.004      -0.071      -0.013\n",
       "su_attempted                   -0.0386      0.015     -2.560      0.010      -0.068      -0.009\n",
       "num_root                       -0.0030      0.001     -5.741      0.000      -0.004      -0.002\n",
       "num_file_creations             -0.0119      0.001    -13.278      0.000      -0.014      -0.010\n",
       "num_shells                     -0.1007      0.019     -5.281      0.000      -0.138      -0.063\n",
       "num_access_files                0.0103      0.006      1.789      0.074      -0.001       0.022\n",
       "num_outbound_cmds            1.642e-15   4.08e-16      4.028      0.000    8.43e-16    2.44e-15\n",
       "is_host_login                  -0.3446      0.148     -2.326      0.020      -0.635      -0.054\n",
       "is_guest_login                 -0.2940      0.011    -27.095      0.000      -0.315      -0.273\n",
       "count                           0.0003   8.88e-06     30.633      0.000       0.000       0.000\n",
       "srv_count                    8.915e-05   1.31e-05      6.816      0.000    6.35e-05       0.000\n",
       "serror_rate                    -0.0660      0.010     -6.291      0.000      -0.087      -0.045\n",
       "srv_serror_rate                 0.2799      0.011     24.504      0.000       0.258       0.302\n",
       "rerror_rate                    -0.1146      0.011    -10.207      0.000      -0.137      -0.093\n",
       "srv_rerror_rate                 0.5408      0.013     41.412      0.000       0.515       0.566\n",
       "same_srv_rate                  -0.3671      0.004    -98.730      0.000      -0.374      -0.360\n",
       "diff_srv_rate                  -0.1265      0.004    -33.960      0.000      -0.134      -0.119\n",
       "srv_diff_host_rate              0.0579      0.002     27.740      0.000       0.054       0.062\n",
       "dst_host_count                  0.0003   6.52e-06     49.006      0.000       0.000       0.000\n",
       "dst_host_srv_count             -0.0004   1.19e-05    -32.541      0.000      -0.000      -0.000\n",
       "dst_host_same_srv_rate          0.0051      0.004      1.440      0.150      -0.002       0.012\n",
       "dst_host_diff_srv_rate          0.1400      0.004     33.792      0.000       0.132       0.148\n",
       "dst_host_same_src_port_rate     0.1207      0.003     46.137      0.000       0.116       0.126\n",
       "dst_host_srv_diff_host_rate     0.1088      0.006     18.576      0.000       0.097       0.120\n",
       "dst_host_serror_rate           -0.0741      0.006    -11.429      0.000      -0.087      -0.061\n",
       "dst_host_srv_serror_rate        0.0657      0.008      8.185      0.000       0.050       0.081\n",
       "dst_host_rerror_rate            0.0624      0.004     13.873      0.000       0.054       0.071\n",
       "dst_host_srv_rerror_rate        0.2157      0.006     35.290      0.000       0.204       0.228\n",
       "attack                          0.0010      0.000      3.964      0.000       0.001       0.002\n",
       "level                          -0.0515      0.000   -217.393      0.000      -0.052      -0.051\n",
       "icmp                            0.3556      0.010     35.186      0.000       0.336       0.375\n",
       "tcp                             0.2328      0.005     46.662      0.000       0.223       0.243\n",
       "udp                             0.3296      0.005     66.523      0.000       0.320       0.339\n",
       "IRC                            -0.4777      0.012    -40.011      0.000      -0.501      -0.454\n",
       "X11                            -0.2565      0.018    -14.517      0.000      -0.291      -0.222\n",
       "Z39_50                          0.0347      0.006      5.374      0.000       0.022       0.047\n",
       "aol                            -0.1016      0.103     -0.985      0.325      -0.304       0.101\n",
       "auth                           -0.0146      0.006     -2.325      0.020      -0.027      -0.002\n",
       "bgp                             0.0462      0.007      6.741      0.000       0.033       0.060\n",
       "courier                         0.0791      0.007     11.605      0.000       0.066       0.092\n",
       "csnet_ns                        0.0589      0.007      7.864      0.000       0.044       0.074\n",
       "ctf                             0.0588      0.007      7.943      0.000       0.044       0.073\n",
       "daytime                         0.0417      0.008      5.467      0.000       0.027       0.057\n",
       "discard                         0.0511      0.008      6.761      0.000       0.036       0.066\n",
       "domain                         -0.0056      0.007     -0.753      0.451      -0.020       0.009\n",
       "domain_u                       -0.1127      0.005    -20.614      0.000      -0.123      -0.102\n",
       "echo                            0.0477      0.008      5.852      0.000       0.032       0.064\n",
       "eco_i                           0.4714      0.013     35.018      0.000       0.445       0.498\n",
       "ecr_i                           0.5526      0.014     40.692      0.000       0.526       0.579\n",
       "efs                             0.1081      0.008     13.814      0.000       0.093       0.123\n",
       "exec                            0.0900      0.008     11.360      0.000       0.075       0.106\n",
       "finger                          0.0726      0.006     13.120      0.000       0.062       0.083\n",
       "ftp                             0.0242      0.007      3.268      0.001       0.010       0.039\n",
       "ftp_data                       -0.0402      0.005     -8.297      0.000      -0.050      -0.031\n",
       "gopher                          0.0582      0.008      7.643      0.000       0.043       0.073\n",
       "harvest                        -0.1903      0.103     -1.842      0.065      -0.393       0.012\n",
       "hostnames                       0.0540      0.008      6.782      0.000       0.038       0.070\n",
       "http                           -0.0036      0.005     -0.721      0.471      -0.013       0.006\n",
       "http_2784                      -0.0991      0.146     -0.680      0.497      -0.385       0.187\n",
       "http_443                        0.0798      0.008     10.532      0.000       0.065       0.095\n",
       "http_8001                      -0.1877      0.103     -1.817      0.069      -0.390       0.015\n",
       "imap4                           0.0540      0.007      7.648      0.000       0.040       0.068\n",
       "iso_tsap                        0.0412      0.007      5.943      0.000       0.028       0.055\n",
       "klogin                          0.1163      0.008     14.259      0.000       0.100       0.132\n",
       "kshell                          0.1000      0.009     10.625      0.000       0.082       0.118\n",
       "ldap                            0.0809      0.008      9.741      0.000       0.065       0.097\n",
       "link                            0.0501      0.008      6.376      0.000       0.035       0.066\n",
       "login                           0.0980      0.008     11.942      0.000       0.082       0.114\n",
       "mtp                             0.0492      0.008      6.077      0.000       0.033       0.065\n",
       "name                            0.0521      0.008      6.507      0.000       0.036       0.068\n",
       "netbios_dgm                     0.0563      0.008      6.756      0.000       0.040       0.073\n",
       "netbios_ns                      0.0655      0.009      7.404      0.000       0.048       0.083\n",
       "netbios_ssn                     0.0643      0.009      7.389      0.000       0.047       0.081\n",
       "netstat                         0.0615      0.009      7.057      0.000       0.044       0.079\n",
       "nnsp                            0.0979      0.007     13.683      0.000       0.084       0.112\n",
       "nntp                            0.0675      0.009      7.160      0.000       0.049       0.086\n",
       "ntp_u                          -0.1163      0.012     -9.447      0.000      -0.140      -0.092\n",
       "other                          -0.1711      0.005    -33.150      0.000      -0.181      -0.161\n",
       "pm_dump                        -0.0236      0.066     -0.359      0.720      -0.152       0.105\n",
       "pop_2                           0.1370      0.017      8.050      0.000       0.104       0.170\n",
       "pop_3                          -0.0909      0.010     -9.028      0.000      -0.111      -0.071\n",
       "printer                         0.1724      0.018      9.547      0.000       0.137       0.208\n",
       "private                         0.1457      0.004     34.233      0.000       0.137       0.154\n",
       "red_i                          -0.1184      0.046     -2.583      0.010      -0.208      -0.029\n",
       "remote_job                      0.1410      0.017      8.285      0.000       0.108       0.174\n",
       "rje                             0.1451      0.016      8.925      0.000       0.113       0.177\n",
       "shell                           0.1333      0.019      7.179      0.000       0.097       0.170\n",
       "smtp                           -0.0747      0.005    -14.817      0.000      -0.085      -0.065\n",
       "sql_net                         0.1029      0.010     10.102      0.000       0.083       0.123\n",
       "ssh                             0.0698      0.009      7.558      0.000       0.052       0.088\n",
       "sunrpc                          0.0543      0.009      6.342      0.000       0.037       0.071\n",
       "supdup                          0.0578      0.007      7.718      0.000       0.043       0.072\n",
       "systat                          0.0522      0.008      6.651      0.000       0.037       0.068\n",
       "telnet                         -0.0297      0.005     -5.626      0.000      -0.040      -0.019\n",
       "tftp_u                         -0.8623      0.084    -10.220      0.000      -1.028      -0.697\n",
       "tim_i                          -0.1185      0.046     -2.585      0.010      -0.208      -0.029\n",
       "time                            0.0238      0.007      3.368      0.001       0.010       0.038\n",
       "urh_i                          -0.0959      0.041     -2.316      0.021      -0.177      -0.015\n",
       "urp_i                          -0.3356      0.014    -23.839      0.000      -0.363      -0.308\n",
       "uucp                            0.0823      0.007     12.226      0.000       0.069       0.095\n",
       "uucp_path                       0.0515      0.007      7.447      0.000       0.038       0.065\n",
       "vmnet                           0.0403      0.007      5.610      0.000       0.026       0.054\n",
       "whois                           0.0513      0.007      7.422      0.000       0.038       0.065\n",
       "OTH                             0.3282      0.021     15.547      0.000       0.287       0.370\n",
       "REJ                            -0.1213      0.010    -12.617      0.000      -0.140      -0.102\n",
       "RSTO                           -0.0745      0.010     -7.438      0.000      -0.094      -0.055\n",
       "RSTOS0                          0.1296      0.014      8.994      0.000       0.101       0.158\n",
       "RSTR                            0.0390      0.010      3.961      0.000       0.020       0.058\n",
       "S0                              0.4765      0.008     63.065      0.000       0.462       0.491\n",
       "S1                             -0.2093      0.009    -22.221      0.000      -0.228      -0.191\n",
       "S2                             -0.1071      0.014     -7.927      0.000      -0.134      -0.081\n",
       "S3                             -0.2035      0.020    -10.140      0.000      -0.243      -0.164\n",
       "SF                              0.1545      0.006     23.973      0.000       0.142       0.167\n",
       "SH                              0.5057      0.012     43.558      0.000       0.483       0.529\n",
       "===============================================================================================\n",
       "\"\"\""
      ]
     },
     "execution_count": 39,
     "metadata": {},
     "output_type": "execute_result"
    }
   ],
   "source": [
    "A = sm.add_constant(X_train)\n",
    "Est1 = sm.GLM(Y_train, A)\n",
    "Est2 = Est1.fit()\n",
    "Est2.summary()"
   ]
  },
  {
   "cell_type": "markdown",
   "id": "afdabf7e",
   "metadata": {
    "papermill": {
     "duration": 0.023288,
     "end_time": "2022-09-18T18:23:32.470573",
     "exception": false,
     "start_time": "2022-09-18T18:23:32.447285",
     "status": "completed"
    },
    "tags": []
   },
   "source": [
    "--------\n",
    "### Data Modeling"
   ]
  },
  {
   "cell_type": "markdown",
   "id": "1ce040e3",
   "metadata": {
    "papermill": {
     "duration": 0.022401,
     "end_time": "2022-09-18T18:23:32.516460",
     "exception": false,
     "start_time": "2022-09-18T18:23:32.494059",
     "status": "completed"
    },
    "tags": []
   },
   "source": [
    "#### Evaluating Function"
   ]
  },
  {
   "cell_type": "code",
   "execution_count": 40,
   "id": "5922671b",
   "metadata": {
    "execution": {
     "iopub.execute_input": "2022-09-18T18:23:32.563026Z",
     "iopub.status.busy": "2022-09-18T18:23:32.562723Z",
     "iopub.status.idle": "2022-09-18T18:23:32.571777Z",
     "shell.execute_reply": "2022-09-18T18:23:32.570945Z"
    },
    "papermill": {
     "duration": 0.034785,
     "end_time": "2022-09-18T18:23:32.573824",
     "exception": false,
     "start_time": "2022-09-18T18:23:32.539039",
     "status": "completed"
    },
    "tags": []
   },
   "outputs": [],
   "source": [
    "def Evaluate(Model_Name, Model_Abb, X_test, Y_test):\n",
    "    \n",
    "    Pred_Value= Model_Abb.predict(X_test)\n",
    "    Accuracy = metrics.accuracy_score(Y_test,Pred_Value)                      \n",
    "    Sensitivity = metrics.recall_score(Y_test,Pred_Value)\n",
    "    Precision = metrics.precision_score(Y_test,Pred_Value)\n",
    "    F1_score = metrics.f1_score(Y_test,Pred_Value)\n",
    "    Recall = metrics.recall_score(Y_test,Pred_Value)\n",
    "    \n",
    "    print('--------------------------------------------------\\n')\n",
    "    print('The {} Model Accuracy   = {}\\n'.format(Model_Name, np.round(Accuracy,3)))\n",
    "    print('The {} Model Sensitvity = {}\\n'.format(Model_Name, np.round(Sensitivity,3)))\n",
    "    print('The {} Model Precision  = {}\\n'.format(Model_Name, np.round(Precision,3)))\n",
    "    print('The {} Model F1 Score   = {}\\n'.format(Model_Name, np.round(F1_score,3)))\n",
    "    print('The {} Model Recall     = {}\\n'.format(Model_Name, np.round(Recall,3)))\n",
    "    print('--------------------------------------------------\\n')\n",
    "    \n",
    "    Confusion_Matrix = metrics.confusion_matrix(Y_test, Pred_Value)\n",
    "    plot_confusion_matrix(Confusion_Matrix,class_names=['Normal', 'Attack'],figsize=(5.55,5), colorbar= \"blue\")\n",
    "    plot_roc_curve(Model_Abb, X_test, Y_test)"
   ]
  },
  {
   "cell_type": "markdown",
   "id": "d16be7d8",
   "metadata": {
    "papermill": {
     "duration": 0.02257,
     "end_time": "2022-09-18T18:23:32.619249",
     "exception": false,
     "start_time": "2022-09-18T18:23:32.596679",
     "status": "completed"
    },
    "tags": []
   },
   "source": [
    "#### Grid Search Function"
   ]
  },
  {
   "cell_type": "code",
   "execution_count": 41,
   "id": "488af9fd",
   "metadata": {
    "execution": {
     "iopub.execute_input": "2022-09-18T18:23:32.666244Z",
     "iopub.status.busy": "2022-09-18T18:23:32.665972Z",
     "iopub.status.idle": "2022-09-18T18:23:32.671054Z",
     "shell.execute_reply": "2022-09-18T18:23:32.670144Z"
    },
    "papermill": {
     "duration": 0.030969,
     "end_time": "2022-09-18T18:23:32.672963",
     "exception": false,
     "start_time": "2022-09-18T18:23:32.641994",
     "status": "completed"
    },
    "tags": []
   },
   "outputs": [],
   "source": [
    "def GridSearch(Model_Abb, Parameters, X_train, Y_train):\n",
    "    Grid = GridSearchCV(estimator=Model_Abb, param_grid= Parameters, cv = 3, n_jobs=-1)\n",
    "    Grid_Result = Grid.fit(X_train, Y_train)\n",
    "    Model_Name = Grid_Result.best_estimator_\n",
    "    \n",
    "    return (Model_Name)"
   ]
  },
  {
   "cell_type": "markdown",
   "id": "dfd8eeb2",
   "metadata": {
    "papermill": {
     "duration": 0.02288,
     "end_time": "2022-09-18T18:23:32.719056",
     "exception": false,
     "start_time": "2022-09-18T18:23:32.696176",
     "status": "completed"
    },
    "tags": []
   },
   "source": [
    "#### Logistic Regression"
   ]
  },
  {
   "cell_type": "code",
   "execution_count": 42,
   "id": "cd60d1c7",
   "metadata": {
    "execution": {
     "iopub.execute_input": "2022-09-18T18:23:32.766472Z",
     "iopub.status.busy": "2022-09-18T18:23:32.766173Z",
     "iopub.status.idle": "2022-09-18T18:23:37.740077Z",
     "shell.execute_reply": "2022-09-18T18:23:37.738294Z"
    },
    "papermill": {
     "duration": 5.001553,
     "end_time": "2022-09-18T18:23:37.743900",
     "exception": false,
     "start_time": "2022-09-18T18:23:32.742347",
     "status": "completed"
    },
    "tags": []
   },
   "outputs": [
    {
     "data": {
      "text/plain": [
       "LogisticRegression()"
      ]
     },
     "execution_count": 42,
     "metadata": {},
     "output_type": "execute_result"
    }
   ],
   "source": [
    "LR= LogisticRegression()\n",
    "LR.fit(X_train_train , Y_train_train)"
   ]
  },
  {
   "cell_type": "code",
   "execution_count": 43,
   "id": "394c3023",
   "metadata": {
    "execution": {
     "iopub.execute_input": "2022-09-18T18:23:37.865917Z",
     "iopub.status.busy": "2022-09-18T18:23:37.865603Z",
     "iopub.status.idle": "2022-09-18T18:23:37.916669Z",
     "shell.execute_reply": "2022-09-18T18:23:37.915604Z"
    },
    "papermill": {
     "duration": 0.11333,
     "end_time": "2022-09-18T18:23:37.919783",
     "exception": false,
     "start_time": "2022-09-18T18:23:37.806453",
     "status": "completed"
    },
    "tags": []
   },
   "outputs": [
    {
     "data": {
      "text/plain": [
       "(0.8858370643211719, 0.885117327660115)"
      ]
     },
     "execution_count": 43,
     "metadata": {},
     "output_type": "execute_result"
    }
   ],
   "source": [
    "LR.score(X_train_train, Y_train_train), LR.score(X_test_train, Y_test_train)"
   ]
  },
  {
   "cell_type": "code",
   "execution_count": 44,
   "id": "85d502d5",
   "metadata": {
    "execution": {
     "iopub.execute_input": "2022-09-18T18:23:38.040147Z",
     "iopub.status.busy": "2022-09-18T18:23:38.039603Z",
     "iopub.status.idle": "2022-09-18T18:23:38.602229Z",
     "shell.execute_reply": "2022-09-18T18:23:38.601292Z"
    },
    "papermill": {
     "duration": 0.625604,
     "end_time": "2022-09-18T18:23:38.604350",
     "exception": false,
     "start_time": "2022-09-18T18:23:37.978746",
     "status": "completed"
    },
    "tags": []
   },
   "outputs": [
    {
     "name": "stdout",
     "output_type": "stream",
     "text": [
      "--------------------------------------------------\n",
      "\n",
      "The Logistic Regression Model Accuracy   = 0.885\n",
      "\n",
      "The Logistic Regression Model Sensitvity = 0.886\n",
      "\n",
      "The Logistic Regression Model Precision  = 0.871\n",
      "\n",
      "The Logistic Regression Model F1 Score   = 0.879\n",
      "\n",
      "The Logistic Regression Model Recall     = 0.886\n",
      "\n",
      "--------------------------------------------------\n",
      "\n"
     ]
    },
    {
     "data": {
      "image/png": "[encoded data removed]",
      "text/plain": [
       "<Figure size 399.6x360 with 2 Axes>"
      ]
     },
     "metadata": {
      "needs_background": "light"
     },
     "output_type": "display_data"
    },
    {
     "data": {
      "image/png": "[encoded data removed]",
      "text/plain": [
       "<Figure size 432x288 with 1 Axes>"
      ]
     },
     "metadata": {
      "needs_background": "light"
     },
     "output_type": "display_data"
    }
   ],
   "source": [
    "Evaluate('Logistic Regression', LR, X_test_train, Y_test_train)"
   ]
  },
  {
   "cell_type": "markdown",
   "id": "2ebe2979",
   "metadata": {
    "papermill": {
     "duration": 0.023741,
     "end_time": "2022-09-18T18:23:38.652455",
     "exception": false,
     "start_time": "2022-09-18T18:23:38.628714",
     "status": "completed"
    },
    "tags": []
   },
   "source": [
    "#### Decision Tree Classifier"
   ]
  },
  {
   "cell_type": "code",
   "execution_count": 45,
   "id": "21a9e989",
   "metadata": {
    "execution": {
     "iopub.execute_input": "2022-09-18T18:23:38.702746Z",
     "iopub.status.busy": "2022-09-18T18:23:38.701911Z",
     "iopub.status.idle": "2022-09-18T18:23:38.755405Z",
     "shell.execute_reply": "2022-09-18T18:23:38.754359Z"
    },
    "papermill": {
     "duration": 0.080698,
     "end_time": "2022-09-18T18:23:38.757573",
     "exception": false,
     "start_time": "2022-09-18T18:23:38.676875",
     "status": "completed"
    },
    "tags": []
   },
   "outputs": [
    {
     "data": {
      "text/plain": [
       "DecisionTreeClassifier(max_depth=4, max_features=6)"
      ]
     },
     "execution_count": 45,
     "metadata": {},
     "output_type": "execute_result"
    }
   ],
   "source": [
    "DT =DecisionTreeClassifier(max_features=6, max_depth=4)\n",
    "DT.fit(X_train_train, Y_train_train)"
   ]
  },
  {
   "cell_type": "code",
   "execution_count": 46,
   "id": "084aa661",
   "metadata": {
    "execution": {
     "iopub.execute_input": "2022-09-18T18:23:38.807645Z",
     "iopub.status.busy": "2022-09-18T18:23:38.807324Z",
     "iopub.status.idle": "2022-09-18T18:23:38.855624Z",
     "shell.execute_reply": "2022-09-18T18:23:38.854603Z"
    },
    "papermill": {
     "duration": 0.075817,
     "end_time": "2022-09-18T18:23:38.857780",
     "exception": false,
     "start_time": "2022-09-18T18:23:38.781963",
     "status": "completed"
    },
    "tags": []
   },
   "outputs": [
    {
     "data": {
      "text/plain": [
       "(0.963251092835445, 0.9632299241101198)"
      ]
     },
     "execution_count": 46,
     "metadata": {},
     "output_type": "execute_result"
    }
   ],
   "source": [
    "DT.score(X_train_train, Y_train_train), DT.score(X_test_train, Y_test_train)"
   ]
  },
  {
   "cell_type": "code",
   "execution_count": 47,
   "id": "572359f1",
   "metadata": {
    "execution": {
     "iopub.execute_input": "2022-09-18T18:23:38.907521Z",
     "iopub.status.busy": "2022-09-18T18:23:38.906869Z",
     "iopub.status.idle": "2022-09-18T18:23:39.365727Z",
     "shell.execute_reply": "2022-09-18T18:23:39.364823Z"
    },
    "papermill": {
     "duration": 0.485877,
     "end_time": "2022-09-18T18:23:39.367822",
     "exception": false,
     "start_time": "2022-09-18T18:23:38.881945",
     "status": "completed"
    },
    "tags": []
   },
   "outputs": [
    {
     "name": "stdout",
     "output_type": "stream",
     "text": [
      "--------------------------------------------------\n",
      "\n",
      "The Decision Tree Classifier Model Accuracy   = 0.963\n",
      "\n",
      "The Decision Tree Classifier Model Sensitvity = 0.928\n",
      "\n",
      "The Decision Tree Classifier Model Precision  = 0.993\n",
      "\n",
      "The Decision Tree Classifier Model F1 Score   = 0.959\n",
      "\n",
      "The Decision Tree Classifier Model Recall     = 0.928\n",
      "\n",
      "--------------------------------------------------\n",
      "\n"
     ]
    },
    {
     "data": {
      "image/png": "[encoded data removed]",
      "text/plain": [
       "<Figure size 399.6x360 with 2 Axes>"
      ]
     },
     "metadata": {
      "needs_background": "light"
     },
     "output_type": "display_data"
    },
    {
     "data": {
      "image/png": "[encoded data removed]",
      "text/plain": [
       "<Figure size 432x288 with 1 Axes>"
      ]
     },
     "metadata": {
      "needs_background": "light"
     },
     "output_type": "display_data"
    }
   ],
   "source": [
    "Evaluate('Decision Tree Classifier', DT, X_test_train, Y_test_train)"
   ]
  },
  {
   "cell_type": "code",
   "execution_count": 48,
   "id": "915afb95",
   "metadata": {
    "execution": {
     "iopub.execute_input": "2022-09-18T18:23:39.419600Z",
     "iopub.status.busy": "2022-09-18T18:23:39.419273Z",
     "iopub.status.idle": "2022-09-18T18:23:40.375206Z",
     "shell.execute_reply": "2022-09-18T18:23:40.374310Z"
    },
    "papermill": {
     "duration": 0.984337,
     "end_time": "2022-09-18T18:23:40.377591",
     "exception": false,
     "start_time": "2022-09-18T18:23:39.393254",
     "status": "completed"
    },
    "tags": []
   },
   "outputs": [
    {
     "data": {
      "text/plain": [
       "[Text(0.4375, 0.9, 'X[38] <= -0.25\\ngini = 0.497\\nsamples = 94479\\nvalue = [50622, 43857]'),\n",
       " Text(0.375, 0.7, 'gini = 0.0\\nsamples = 35472\\nvalue = [0, 35472]'),\n",
       " Text(0.5, 0.7, 'X[28] <= -0.175\\ngini = 0.244\\nsamples = 59007\\nvalue = [50622, 8385]'),\n",
       " Text(0.25, 0.5, 'X[32] <= 16.417\\ngini = 0.095\\nsamples = 31307\\nvalue = [29747, 1560]'),\n",
       " Text(0.125, 0.3, 'X[58] <= 0.5\\ngini = 0.06\\nsamples = 29203\\nvalue = [28300, 903]'),\n",
       " Text(0.0625, 0.1, 'gini = 0.048\\nsamples = 28994\\nvalue = [28280, 714]'),\n",
       " Text(0.1875, 0.1, 'gini = 0.173\\nsamples = 209\\nvalue = [20, 189]'),\n",
       " Text(0.375, 0.3, 'X[19] <= 2.234\\ngini = 0.43\\nsamples = 2104\\nvalue = [1447, 657]'),\n",
       " Text(0.3125, 0.1, 'gini = 0.378\\nsamples = 1937\\nvalue = [1447, 490]'),\n",
       " Text(0.4375, 0.1, 'gini = 0.0\\nsamples = 167\\nvalue = [0, 167]'),\n",
       " Text(0.75, 0.5, 'X[1] <= -0.056\\ngini = 0.371\\nsamples = 27700\\nvalue = [20875, 6825]'),\n",
       " Text(0.625, 0.3, 'X[47] <= 0.5\\ngini = 0.14\\nsamples = 5328\\nvalue = [404, 4924]'),\n",
       " Text(0.5625, 0.1, 'gini = 0.122\\nsamples = 5263\\nvalue = [343, 4920]'),\n",
       " Text(0.6875, 0.1, 'gini = 0.116\\nsamples = 65\\nvalue = [61, 4]'),\n",
       " Text(0.875, 0.3, 'X[32] <= 2.25\\ngini = 0.156\\nsamples = 22372\\nvalue = [20471, 1901]'),\n",
       " Text(0.8125, 0.1, 'gini = 0.039\\nsamples = 18435\\nvalue = [18069, 366]'),\n",
       " Text(0.9375, 0.1, 'gini = 0.476\\nsamples = 3937\\nvalue = [2402, 1535]')]"
      ]
     },
     "execution_count": 48,
     "metadata": {},
     "output_type": "execute_result"
    },
    {
     "data": {
      "image/png": "[encoded data removed]",
      "text/plain": [
       "<Figure size 1080x864 with 1 Axes>"
      ]
     },
     "metadata": {
      "needs_background": "light"
     },
     "output_type": "display_data"
    }
   ],
   "source": [
    "fig = plt.figure(figsize=(15,12))\n",
    "tree.plot_tree(DT, filled=True)"
   ]
  },
  {
   "cell_type": "markdown",
   "id": "748d7297",
   "metadata": {
    "papermill": {
     "duration": 0.031227,
     "end_time": "2022-09-18T18:23:40.437921",
     "exception": false,
     "start_time": "2022-09-18T18:23:40.406694",
     "status": "completed"
    },
    "tags": []
   },
   "source": [
    "#### Random Forest Classifier"
   ]
  },
  {
   "cell_type": "code",
   "execution_count": 49,
   "id": "088f0382",
   "metadata": {
    "execution": {
     "iopub.execute_input": "2022-09-18T18:23:40.504931Z",
     "iopub.status.busy": "2022-09-18T18:23:40.503843Z",
     "iopub.status.idle": "2022-09-18T18:23:40.509922Z",
     "shell.execute_reply": "2022-09-18T18:23:40.508852Z"
    },
    "papermill": {
     "duration": 0.04143,
     "end_time": "2022-09-18T18:23:40.512220",
     "exception": false,
     "start_time": "2022-09-18T18:23:40.470790",
     "status": "completed"
    },
    "tags": []
   },
   "outputs": [],
   "source": [
    "max_depth= [1, 2, 3, 4, 5, 6, 7, 8, 9, 10, 11]\n",
    "    \n",
    "Parameters={ 'max_depth': max_depth}"
   ]
  },
  {
   "cell_type": "code",
   "execution_count": 50,
   "id": "9909922c",
   "metadata": {
    "execution": {
     "iopub.execute_input": "2022-09-18T18:23:40.577086Z",
     "iopub.status.busy": "2022-09-18T18:23:40.576702Z",
     "iopub.status.idle": "2022-09-18T18:25:22.253513Z",
     "shell.execute_reply": "2022-09-18T18:25:22.252349Z"
    },
    "papermill": {
     "duration": 101.739847,
     "end_time": "2022-09-18T18:25:22.283590",
     "exception": false,
     "start_time": "2022-09-18T18:23:40.543743",
     "status": "completed"
    },
    "tags": []
   },
   "outputs": [
    {
     "data": {
      "text/plain": [
       "RandomForestClassifier(max_depth=10)"
      ]
     },
     "execution_count": 50,
     "metadata": {},
     "output_type": "execute_result"
    }
   ],
   "source": [
    "RF= RandomForestClassifier()\n",
    "GridSearch(RF, Parameters, X_train_train, Y_train_train)"
   ]
  },
  {
   "cell_type": "code",
   "execution_count": 51,
   "id": "adb28927",
   "metadata": {
    "execution": {
     "iopub.execute_input": "2022-09-18T18:25:22.338880Z",
     "iopub.status.busy": "2022-09-18T18:25:22.337885Z",
     "iopub.status.idle": "2022-09-18T18:25:30.075994Z",
     "shell.execute_reply": "2022-09-18T18:25:30.075034Z"
    },
    "papermill": {
     "duration": 7.768224,
     "end_time": "2022-09-18T18:25:30.078260",
     "exception": false,
     "start_time": "2022-09-18T18:25:22.310036",
     "status": "completed"
    },
    "tags": []
   },
   "outputs": [
    {
     "data": {
      "text/plain": [
       "RandomForestClassifier()"
      ]
     },
     "execution_count": 51,
     "metadata": {},
     "output_type": "execute_result"
    }
   ],
   "source": [
    "RF.fit(X_train_train, Y_train_train)"
   ]
  },
  {
   "cell_type": "code",
   "execution_count": 52,
   "id": "91a28470",
   "metadata": {
    "execution": {
     "iopub.execute_input": "2022-09-18T18:25:30.135316Z",
     "iopub.status.busy": "2022-09-18T18:25:30.134516Z",
     "iopub.status.idle": "2022-09-18T18:25:31.195283Z",
     "shell.execute_reply": "2022-09-18T18:25:31.194298Z"
    },
    "papermill": {
     "duration": 1.091257,
     "end_time": "2022-09-18T18:25:31.197386",
     "exception": false,
     "start_time": "2022-09-18T18:25:30.106129",
     "status": "completed"
    },
    "tags": []
   },
   "outputs": [
    {
     "data": {
      "text/plain": [
       "(1.0, 1.0)"
      ]
     },
     "execution_count": 52,
     "metadata": {},
     "output_type": "execute_result"
    }
   ],
   "source": [
    "RF.score(X_train_train, Y_train_train), RF.score(X_test_train, Y_test_train)"
   ]
  },
  {
   "cell_type": "code",
   "execution_count": 53,
   "id": "cbf2846f",
   "metadata": {
    "execution": {
     "iopub.execute_input": "2022-09-18T18:25:31.252740Z",
     "iopub.status.busy": "2022-09-18T18:25:31.252395Z",
     "iopub.status.idle": "2022-09-18T18:25:32.224622Z",
     "shell.execute_reply": "2022-09-18T18:25:32.223748Z"
    },
    "papermill": {
     "duration": 1.002005,
     "end_time": "2022-09-18T18:25:32.226707",
     "exception": false,
     "start_time": "2022-09-18T18:25:31.224702",
     "status": "completed"
    },
    "tags": []
   },
   "outputs": [
    {
     "name": "stdout",
     "output_type": "stream",
     "text": [
      "--------------------------------------------------\n",
      "\n",
      "The Random Forest Classifier Model Accuracy   = 1.0\n",
      "\n",
      "The Random Forest Classifier Model Sensitvity = 1.0\n",
      "\n",
      "The Random Forest Classifier Model Precision  = 1.0\n",
      "\n",
      "The Random Forest Classifier Model F1 Score   = 1.0\n",
      "\n",
      "The Random Forest Classifier Model Recall     = 1.0\n",
      "\n",
      "--------------------------------------------------\n",
      "\n"
     ]
    },
    {
     "data": {
      "image/png": "[encoded data removed]",
      "text/plain": [
       "<Figure size 399.6x360 with 2 Axes>"
      ]
     },
     "metadata": {
      "needs_background": "light"
     },
     "output_type": "display_data"
    },
    {
     "data": {
      "image/png": "[encoded data removed]",
      "text/plain": [
       "<Figure size 432x288 with 1 Axes>"
      ]
     },
     "metadata": {
      "needs_background": "light"
     },
     "output_type": "display_data"
    }
   ],
   "source": [
    "Evaluate('Random Forest Classifier', RF, X_test_train, Y_test_train)"
   ]
  },
  {
   "cell_type": "markdown",
   "id": "fab5abd7",
   "metadata": {
    "papermill": {
     "duration": 0.027155,
     "end_time": "2022-09-18T18:25:32.283300",
     "exception": false,
     "start_time": "2022-09-18T18:25:32.256145",
     "status": "completed"
    },
    "tags": []
   },
   "source": [
    "#### KNN-Model"
   ]
  },
  {
   "cell_type": "code",
   "execution_count": 54,
   "id": "38272b75",
   "metadata": {
    "execution": {
     "iopub.execute_input": "2022-09-18T18:25:32.340092Z",
     "iopub.status.busy": "2022-09-18T18:25:32.339780Z",
     "iopub.status.idle": "2022-09-18T18:25:32.359318Z",
     "shell.execute_reply": "2022-09-18T18:25:32.358381Z"
    },
    "papermill": {
     "duration": 0.05047,
     "end_time": "2022-09-18T18:25:32.361297",
     "exception": false,
     "start_time": "2022-09-18T18:25:32.310827",
     "status": "completed"
    },
    "tags": []
   },
   "outputs": [
    {
     "data": {
      "text/plain": [
       "KNeighborsClassifier(n_neighbors=6)"
      ]
     },
     "execution_count": 54,
     "metadata": {},
     "output_type": "execute_result"
    }
   ],
   "source": [
    "KNN= KNeighborsClassifier(n_neighbors=6) \n",
    "KNN.fit(X_train_train, Y_train_train)"
   ]
  },
  {
   "cell_type": "code",
   "execution_count": 55,
   "id": "58a83596",
   "metadata": {
    "execution": {
     "iopub.execute_input": "2022-09-18T18:25:32.418837Z",
     "iopub.status.busy": "2022-09-18T18:25:32.418057Z",
     "iopub.status.idle": "2022-09-18T18:29:43.447319Z",
     "shell.execute_reply": "2022-09-18T18:29:43.446353Z"
    },
    "papermill": {
     "duration": 251.088615,
     "end_time": "2022-09-18T18:29:43.477851",
     "exception": false,
     "start_time": "2022-09-18T18:25:32.389236",
     "status": "completed"
    },
    "tags": []
   },
   "outputs": [
    {
     "data": {
      "text/plain": [
       "(0.9957556705722965, 0.9949195059219509)"
      ]
     },
     "execution_count": 55,
     "metadata": {},
     "output_type": "execute_result"
    }
   ],
   "source": [
    "KNN.score(X_train_train, Y_train_train), KNN.score(X_test_train, Y_test_train)"
   ]
  },
  {
   "cell_type": "code",
   "execution_count": 56,
   "id": "6c5a2436",
   "metadata": {
    "execution": {
     "iopub.execute_input": "2022-09-18T18:29:43.534969Z",
     "iopub.status.busy": "2022-09-18T18:29:43.534357Z",
     "iopub.status.idle": "2022-09-18T18:31:48.789251Z",
     "shell.execute_reply": "2022-09-18T18:31:48.788318Z"
    },
    "papermill": {
     "duration": 125.285628,
     "end_time": "2022-09-18T18:31:48.791293",
     "exception": false,
     "start_time": "2022-09-18T18:29:43.505665",
     "status": "completed"
    },
    "tags": []
   },
   "outputs": [
    {
     "name": "stdout",
     "output_type": "stream",
     "text": [
      "--------------------------------------------------\n",
      "\n",
      "The KNN Model Accuracy   = 0.995\n",
      "\n",
      "The KNN Model Sensitvity = 0.993\n",
      "\n",
      "The KNN Model Precision  = 0.996\n",
      "\n",
      "The KNN Model F1 Score   = 0.995\n",
      "\n",
      "The KNN Model Recall     = 0.993\n",
      "\n",
      "--------------------------------------------------\n",
      "\n"
     ]
    },
    {
     "data": {
      "image/png": "[encoded data removed]",
      "text/plain": [
       "<Figure size 399.6x360 with 2 Axes>"
      ]
     },
     "metadata": {
      "needs_background": "light"
     },
     "output_type": "display_data"
    },
    {
     "data": {
      "image/png": "[encoded data removed]",
      "text/plain": [
       "<Figure size 432x288 with 1 Axes>"
      ]
     },
     "metadata": {
      "needs_background": "light"
     },
     "output_type": "display_data"
    }
   ],
   "source": [
    "Evaluate('KNN', KNN, X_test_train, Y_test_train)"
   ]
  },
  {
   "cell_type": "markdown",
   "id": "0cc06d14",
   "metadata": {
    "papermill": {
     "duration": 0.057769,
     "end_time": "2022-09-18T18:31:48.882552",
     "exception": false,
     "start_time": "2022-09-18T18:31:48.824783",
     "status": "completed"
    },
    "tags": []
   },
   "source": [
    "----------------\n",
    "## SVM Classifier"
   ]
  },
  {
   "cell_type": "markdown",
   "id": "de90b4fd",
   "metadata": {
    "papermill": {
     "duration": 0.052919,
     "end_time": "2022-09-18T18:31:48.996092",
     "exception": false,
     "start_time": "2022-09-18T18:31:48.943173",
     "status": "completed"
    },
    "tags": []
   },
   "source": [
    "### 1st Kernel"
   ]
  },
  {
   "cell_type": "code",
   "execution_count": 57,
   "id": "b7d4065b",
   "metadata": {
    "execution": {
     "iopub.execute_input": "2022-09-18T18:31:49.086983Z",
     "iopub.status.busy": "2022-09-18T18:31:49.086493Z",
     "iopub.status.idle": "2022-09-18T18:31:58.458186Z",
     "shell.execute_reply": "2022-09-18T18:31:58.457288Z"
    },
    "papermill": {
     "duration": 9.41893,
     "end_time": "2022-09-18T18:31:58.460398",
     "exception": false,
     "start_time": "2022-09-18T18:31:49.041468",
     "status": "completed"
    },
    "tags": []
   },
   "outputs": [
    {
     "data": {
      "text/plain": [
       "LinearSVC(C=1)"
      ]
     },
     "execution_count": 57,
     "metadata": {},
     "output_type": "execute_result"
    }
   ],
   "source": [
    "Linear_SVC = svm.LinearSVC(C=1)\n",
    "Linear_SVC.fit(X_train_train, Y_train_train)"
   ]
  },
  {
   "cell_type": "code",
   "execution_count": 58,
   "id": "58fb3dd3",
   "metadata": {
    "execution": {
     "iopub.execute_input": "2022-09-18T18:31:58.521262Z",
     "iopub.status.busy": "2022-09-18T18:31:58.520567Z",
     "iopub.status.idle": "2022-09-18T18:31:58.571924Z",
     "shell.execute_reply": "2022-09-18T18:31:58.570878Z"
    },
    "papermill": {
     "duration": 0.084425,
     "end_time": "2022-09-18T18:31:58.575071",
     "exception": false,
     "start_time": "2022-09-18T18:31:58.490646",
     "status": "completed"
    },
    "tags": []
   },
   "outputs": [
    {
     "data": {
      "text/plain": [
       "(0.9822606081774786, 0.9814879497031086)"
      ]
     },
     "execution_count": 58,
     "metadata": {},
     "output_type": "execute_result"
    }
   ],
   "source": [
    "Linear_SVC.score(X_train_train, Y_train_train), Linear_SVC.score(X_test_train, Y_test_train)"
   ]
  },
  {
   "cell_type": "code",
   "execution_count": 59,
   "id": "90e92a0f",
   "metadata": {
    "execution": {
     "iopub.execute_input": "2022-09-18T18:31:58.708066Z",
     "iopub.status.busy": "2022-09-18T18:31:58.707769Z",
     "iopub.status.idle": "2022-09-18T18:31:59.273213Z",
     "shell.execute_reply": "2022-09-18T18:31:59.272196Z"
    },
    "papermill": {
     "duration": 0.626708,
     "end_time": "2022-09-18T18:31:59.275288",
     "exception": false,
     "start_time": "2022-09-18T18:31:58.648580",
     "status": "completed"
    },
    "tags": []
   },
   "outputs": [
    {
     "name": "stdout",
     "output_type": "stream",
     "text": [
      "--------------------------------------------------\n",
      "\n",
      "The SVM Linear SVC Kernel Model Accuracy   = 0.981\n",
      "\n",
      "The SVM Linear SVC Kernel Model Sensitvity = 0.978\n",
      "\n",
      "The SVM Linear SVC Kernel Model Precision  = 0.983\n",
      "\n",
      "The SVM Linear SVC Kernel Model F1 Score   = 0.98\n",
      "\n",
      "The SVM Linear SVC Kernel Model Recall     = 0.978\n",
      "\n",
      "--------------------------------------------------\n",
      "\n"
     ]
    },
    {
     "data": {
      "image/png": "[encoded data removed]",
      "text/plain": [
       "<Figure size 399.6x360 with 2 Axes>"
      ]
     },
     "metadata": {
      "needs_background": "light"
     },
     "output_type": "display_data"
    },
    {
     "data": {
      "image/png": "[encoded data removed]",
      "text/plain": [
       "<Figure size 432x288 with 1 Axes>"
      ]
     },
     "metadata": {
      "needs_background": "light"
     },
     "output_type": "display_data"
    }
   ],
   "source": [
    "Evaluate('SVM Linear SVC Kernel', Linear_SVC, X_test_train, Y_test_train)"
   ]
  },
  {
   "cell_type": "markdown",
   "id": "0dbdd2a8",
   "metadata": {
    "papermill": {
     "duration": 0.030321,
     "end_time": "2022-09-18T18:31:59.335791",
     "exception": false,
     "start_time": "2022-09-18T18:31:59.305470",
     "status": "completed"
    },
    "tags": []
   },
   "source": [
    "### 2nd Kernel"
   ]
  },
  {
   "cell_type": "code",
   "execution_count": 60,
   "id": "cc21ac36",
   "metadata": {
    "execution": {
     "iopub.execute_input": "2022-09-18T18:31:59.398072Z",
     "iopub.status.busy": "2022-09-18T18:31:59.397223Z",
     "iopub.status.idle": "2022-09-18T18:31:59.401723Z",
     "shell.execute_reply": "2022-09-18T18:31:59.400856Z"
    },
    "papermill": {
     "duration": 0.038009,
     "end_time": "2022-09-18T18:31:59.403868",
     "exception": false,
     "start_time": "2022-09-18T18:31:59.365859",
     "status": "completed"
    },
    "tags": []
   },
   "outputs": [],
   "source": [
    "#RBF = svm.SVC(kernel='rbf')\n",
    "#RBF.fit(X_train_train, Y_train_train)"
   ]
  },
  {
   "cell_type": "code",
   "execution_count": 61,
   "id": "a8ab045d",
   "metadata": {
    "execution": {
     "iopub.execute_input": "2022-09-18T18:31:59.464787Z",
     "iopub.status.busy": "2022-09-18T18:31:59.464490Z",
     "iopub.status.idle": "2022-09-18T18:31:59.469488Z",
     "shell.execute_reply": "2022-09-18T18:31:59.468655Z"
    },
    "papermill": {
     "duration": 0.037477,
     "end_time": "2022-09-18T18:31:59.471599",
     "exception": false,
     "start_time": "2022-09-18T18:31:59.434122",
     "status": "completed"
    },
    "tags": []
   },
   "outputs": [],
   "source": [
    "#RBF.score(X_train_train, Y_train_train), RBF.score(X_test_train, Y_test_train)"
   ]
  },
  {
   "cell_type": "code",
   "execution_count": 62,
   "id": "75e48fe3",
   "metadata": {
    "execution": {
     "iopub.execute_input": "2022-09-18T18:31:59.532752Z",
     "iopub.status.busy": "2022-09-18T18:31:59.532436Z",
     "iopub.status.idle": "2022-09-18T18:31:59.536550Z",
     "shell.execute_reply": "2022-09-18T18:31:59.535646Z"
    },
    "papermill": {
     "duration": 0.03713,
     "end_time": "2022-09-18T18:31:59.538425",
     "exception": false,
     "start_time": "2022-09-18T18:31:59.501295",
     "status": "completed"
    },
    "tags": []
   },
   "outputs": [],
   "source": [
    "#Evaluate('SVM RBF Kernel', RBF, X_test_train, Y_test_train)"
   ]
  },
  {
   "cell_type": "markdown",
   "id": "06becdfd",
   "metadata": {
    "papermill": {
     "duration": 0.029531,
     "end_time": "2022-09-18T18:31:59.598335",
     "exception": false,
     "start_time": "2022-09-18T18:31:59.568804",
     "status": "completed"
    },
    "tags": []
   },
   "source": [
    "### 3rd Kernel"
   ]
  },
  {
   "cell_type": "code",
   "execution_count": 63,
   "id": "9944b893",
   "metadata": {
    "execution": {
     "iopub.execute_input": "2022-09-18T18:31:59.659977Z",
     "iopub.status.busy": "2022-09-18T18:31:59.659174Z",
     "iopub.status.idle": "2022-09-18T18:31:59.663242Z",
     "shell.execute_reply": "2022-09-18T18:31:59.662420Z"
    },
    "papermill": {
     "duration": 0.036845,
     "end_time": "2022-09-18T18:31:59.665226",
     "exception": false,
     "start_time": "2022-09-18T18:31:59.628381",
     "status": "completed"
    },
    "tags": []
   },
   "outputs": [],
   "source": [
    "#Degree= [2, 3, 4, 5]\n",
    "#Parameters={ 'degree': Degree}\n",
    "\n",
    "#Poly= svm.SVC(kernel='poly')\n",
    "#GridSearch(Poly, Parameters, X_train_train, Y_train_train)"
   ]
  },
  {
   "cell_type": "code",
   "execution_count": 64,
   "id": "dec9cb6c",
   "metadata": {
    "execution": {
     "iopub.execute_input": "2022-09-18T18:31:59.727468Z",
     "iopub.status.busy": "2022-09-18T18:31:59.726785Z",
     "iopub.status.idle": "2022-09-18T18:31:59.731385Z",
     "shell.execute_reply": "2022-09-18T18:31:59.730344Z"
    },
    "papermill": {
     "duration": 0.038744,
     "end_time": "2022-09-18T18:31:59.733701",
     "exception": false,
     "start_time": "2022-09-18T18:31:59.694957",
     "status": "completed"
    },
    "tags": []
   },
   "outputs": [],
   "source": [
    "#Poly.fit(X_train_train, Y_train_train)"
   ]
  },
  {
   "cell_type": "code",
   "execution_count": 65,
   "id": "fc3cba8d",
   "metadata": {
    "execution": {
     "iopub.execute_input": "2022-09-18T18:31:59.794720Z",
     "iopub.status.busy": "2022-09-18T18:31:59.794421Z",
     "iopub.status.idle": "2022-09-18T18:31:59.798581Z",
     "shell.execute_reply": "2022-09-18T18:31:59.797629Z"
    },
    "papermill": {
     "duration": 0.037465,
     "end_time": "2022-09-18T18:31:59.800617",
     "exception": false,
     "start_time": "2022-09-18T18:31:59.763152",
     "status": "completed"
    },
    "tags": []
   },
   "outputs": [],
   "source": [
    "#Poly.score(X_train_train, Y_train_train), Poly.score(X_test_train, Y_test_train)"
   ]
  },
  {
   "cell_type": "code",
   "execution_count": 66,
   "id": "3f976fc4",
   "metadata": {
    "execution": {
     "iopub.execute_input": "2022-09-18T18:31:59.925928Z",
     "iopub.status.busy": "2022-09-18T18:31:59.925494Z",
     "iopub.status.idle": "2022-09-18T18:31:59.930509Z",
     "shell.execute_reply": "2022-09-18T18:31:59.929484Z"
    },
    "papermill": {
     "duration": 0.077049,
     "end_time": "2022-09-18T18:31:59.936278",
     "exception": false,
     "start_time": "2022-09-18T18:31:59.859229",
     "status": "completed"
    },
    "tags": []
   },
   "outputs": [],
   "source": [
    "#Evaluate('SVM Polynomial Kernel', Poly, X_test_train, Y_test_train)"
   ]
  }
 ],
 "metadata": {
  "kernelspec": {
   "display_name": "Python 3",
   "language": "python",
   "name": "python3"
  },
  "language_info": {
   "codemirror_mode": {
    "name": "ipython",
    "version": 3
   },
   "file_extension": ".py",
   "mimetype": "text/x-python",
   "name": "python",
   "nbconvert_exporter": "python",
   "pygments_lexer": "ipython3",
   "version": "3.7.12"
  },
  "papermill": {
   "default_parameters": {},
   "duration": 541.530971,
   "end_time": "2022-09-18T18:32:02.620928",
   "environment_variables": {},
   "exception": null,
   "input_path": "__notebook__.ipynb",
   "output_path": "__notebook__.ipynb",
   "parameters": {},
   "start_time": "2022-09-18T18:23:01.089957",
   "version": "2.3.4"
  }
 },
 "nbformat": 4,
 "nbformat_minor": 5
}
